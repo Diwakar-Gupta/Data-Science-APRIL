{
  "nbformat": 4,
  "nbformat_minor": 0,
  "metadata": {
    "colab": {
      "name": "Getting Started April Batch.ipynb",
      "provenance": [],
      "collapsed_sections": []
    },
    "kernelspec": {
      "name": "python3",
      "display_name": "Python 3"
    },
    "language_info": {
      "name": "python"
    }
  },
  "cells": [
    {
      "cell_type": "markdown",
      "source": [
        "Notes -> https://1drv.ms/o/s!AmSu_rSXl5m3i0Pm8zsnFmpuqowO"
      ],
      "metadata": {
        "id": "TwOi8L4EWeU-"
      }
    },
    {
      "cell_type": "markdown",
      "source": [
        "Getting Started with python"
      ],
      "metadata": {
        "id": "GjCCyi5aIMWz"
      }
    },
    {
      "cell_type": "markdown",
      "source": [
        "# IO"
      ],
      "metadata": {
        "id": "HaX_RerVMbaK"
      }
    },
    {
      "cell_type": "code",
      "source": [
        "print('hello Peppy')"
      ],
      "metadata": {
        "colab": {
          "base_uri": "https://localhost:8080/"
        },
        "id": "dVq6qoZsIK90",
        "outputId": "6e921516-0683-4d45-a2c3-d6e020ff8734"
      },
      "execution_count": 2,
      "outputs": [
        {
          "output_type": "stream",
          "name": "stdout",
          "text": [
            "hello Peppy\n"
          ]
        }
      ]
    },
    {
      "cell_type": "markdown",
      "source": [
        "Problem -> https://nados.io/question/print-z?zen=true"
      ],
      "metadata": {
        "id": "PKsJoenCMW3I"
      }
    },
    {
      "cell_type": "code",
      "execution_count": 6,
      "metadata": {
        "colab": {
          "base_uri": "https://localhost:8080/"
        },
        "id": "dFFOIg5DH_dt",
        "outputId": "f79b7667-3c94-45e0-c3a5-1870c7f1a90a"
      },
      "outputs": [
        {
          "output_type": "stream",
          "name": "stdout",
          "text": [
            "25\n"
          ]
        }
      ],
      "source": [
        "x=5\n",
        "# x=7\n",
        "ans = x*x\n",
        "print(ans)"
      ]
    },
    {
      "cell_type": "markdown",
      "source": [
        "Problem -> https://www.hackerrank.com/challenges/python-division/problem?isFullScreen=false"
      ],
      "metadata": {
        "id": "EVTjA7NsN6fq"
      }
    },
    {
      "cell_type": "code",
      "source": [
        "a=3\n",
        "b=2\n",
        "print(a/b)\n",
        "print(a//b)"
      ],
      "metadata": {
        "colab": {
          "base_uri": "https://localhost:8080/"
        },
        "id": "3j2tT9oxN7j0",
        "outputId": "ee8049c9-0890-4359-b5db-b04048b9993d"
      },
      "execution_count": 8,
      "outputs": [
        {
          "output_type": "stream",
          "name": "stdout",
          "text": [
            "1.5\n",
            "1\n"
          ]
        }
      ]
    },
    {
      "cell_type": "code",
      "source": [
        "a = input() # input from keyboard\n",
        "print('Hii ' + a)"
      ],
      "metadata": {
        "colab": {
          "base_uri": "https://localhost:8080/"
        },
        "id": "SNUIzHuIRaT8",
        "outputId": "9f2e913a-9272-4e5d-f82f-12759e0c12de"
      },
      "execution_count": 10,
      "outputs": [
        {
          "output_type": "stream",
          "name": "stdout",
          "text": [
            "7890\n",
            "Hii 7890\n"
          ]
        }
      ]
    },
    {
      "cell_type": "code",
      "source": [
        "a=123\n",
        "b=12.345\n",
        "c='Hii bye my number is 1234566 #%&* '\n",
        "\n",
        "print(type(a))\n",
        "print(type(b))\n",
        "print(type(c))"
      ],
      "metadata": {
        "colab": {
          "base_uri": "https://localhost:8080/"
        },
        "id": "YSug64VMS2Zy",
        "outputId": "42fa5a3e-5faa-4def-d8cf-5ae1920cd8e1"
      },
      "execution_count": 13,
      "outputs": [
        {
          "output_type": "stream",
          "name": "stdout",
          "text": [
            "<class 'int'>\n",
            "<class 'float'>\n",
            "<class 'str'>\n"
          ]
        }
      ]
    },
    {
      "cell_type": "markdown",
      "source": [
        "variable name can only contains \n",
        "\n",
        "*   digit\n",
        "*   alphabet\n",
        "*   _\n",
        "\n",
        "name cannot start with digit"
      ],
      "metadata": {
        "id": "c8raaHRdUDK8"
      }
    },
    {
      "cell_type": "code",
      "source": [
        "_abc34 = 89\n",
        "print(_abc34)"
      ],
      "metadata": {
        "colab": {
          "base_uri": "https://localhost:8080/"
        },
        "id": "aAW_s8LZTIqP",
        "outputId": "2ed70c62-3791-4613-ef87-3c9dfc206bbd"
      },
      "execution_count": 16,
      "outputs": [
        {
          "output_type": "stream",
          "name": "stdout",
          "text": [
            "89\n"
          ]
        }
      ]
    },
    {
      "cell_type": "markdown",
      "source": [
        "**run os commands**"
      ],
      "metadata": {
        "id": "Go2q6eR4VjfR"
      }
    },
    {
      "cell_type": "code",
      "source": [
        "! cat ./sample_data/README.md"
      ],
      "metadata": {
        "colab": {
          "base_uri": "https://localhost:8080/"
        },
        "id": "dkzNqfTkVHW0",
        "outputId": "f4e0dd17-eb3c-4171-eebd-221b50573ae5"
      },
      "execution_count": 17,
      "outputs": [
        {
          "output_type": "stream",
          "name": "stdout",
          "text": [
            "This directory includes a few sample datasets to get you started.\n",
            "\n",
            "*   `california_housing_data*.csv` is California housing data from the 1990 US\n",
            "    Census; more information is available at:\n",
            "    https://developers.google.com/machine-learning/crash-course/california-housing-data-description\n",
            "\n",
            "*   `mnist_*.csv` is a small sample of the\n",
            "    [MNIST database](https://en.wikipedia.org/wiki/MNIST_database), which is\n",
            "    described at: http://yann.lecun.com/exdb/mnist/\n",
            "\n",
            "*   `anscombe.json` contains a copy of\n",
            "    [Anscombe's quartet](https://en.wikipedia.org/wiki/Anscombe%27s_quartet); it\n",
            "    was originally described in\n",
            "\n",
            "    Anscombe, F. J. (1973). 'Graphs in Statistical Analysis'. American\n",
            "    Statistician. 27 (1): 17-21. JSTOR 2682899.\n",
            "\n",
            "    and our copy was prepared by the\n",
            "    [vega_datasets library](https://github.com/altair-viz/vega_datasets/blob/4f67bdaad10f45e3549984e17e1b3088c731503d/vega_datasets/_data/anscombe.json).\n"
          ]
        }
      ]
    }
  ]
}