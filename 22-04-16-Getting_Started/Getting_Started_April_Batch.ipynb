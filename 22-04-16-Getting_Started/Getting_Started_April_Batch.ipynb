{
  "nbformat": 4,
  "nbformat_minor": 0,
  "metadata": {
    "colab": {
      "name": "Getting Started April Batch.ipynb",
      "provenance": [],
      "collapsed_sections": [
        "Go2q6eR4VjfR",
        "r9sbVbBVclUY",
        "c69tqOa4fUCI",
        "_dgts8Q3fv1H",
        "C3g9MkMB3uFD",
        "JKP7sAhDBWPU",
        "VbcYYK0iAr07"
      ],
      "toc_visible": true,
      "authorship_tag": "ABX9TyMEpp/d1kmG4f2xaojBpQS6",
      "include_colab_link": true
    },
    "kernelspec": {
      "name": "python3",
      "display_name": "Python 3"
    },
    "language_info": {
      "name": "python"
    }
  },
  "cells": [
    {
      "cell_type": "markdown",
      "metadata": {
        "id": "view-in-github",
        "colab_type": "text"
      },
      "source": [
        "<a href=\"https://colab.research.google.com/github/Diwakar-Gupta/Data-Science-APRIL/blob/main/22-04-16-Getting_Started/Getting_Started_April_Batch.ipynb\" target=\"_parent\"><img src=\"https://colab.research.google.com/assets/colab-badge.svg\" alt=\"Open In Colab\"/></a>"
      ]
    },
    {
      "cell_type": "markdown",
      "source": [
        "Codes -> https://github.com/Diwakar-Gupta/Data-Science-APRIL\n",
        "\n",
        "Notes -> https://1drv.ms/o/s!AmSu_rSXl5m3i0Pm8zsnFmpuqowO"
      ],
      "metadata": {
        "id": "TwOi8L4EWeU-"
      }
    },
    {
      "cell_type": "markdown",
      "source": [
        "# Contents\n",
        "\n",
        "Getting Started with python\n",
        "\n",
        "\n",
        "\n",
        "*   IO\n",
        "*   Conditions\n",
        "*   Loop\n",
        "*   Functions\n",
        "*   String\n",
        "*   List\n",
        "*   Tuple\n",
        "*   Set\n",
        "*   Map\n",
        "*   Class Object\n",
        "\n"
      ],
      "metadata": {
        "id": "GjCCyi5aIMWz"
      }
    },
    {
      "cell_type": "markdown",
      "source": [
        "# IO\n",
        "\n",
        "*  Variables\n",
        "*  Data Types\n",
        "*  input from keyboard"
      ],
      "metadata": {
        "id": "HaX_RerVMbaK"
      }
    },
    {
      "cell_type": "code",
      "source": [
        "print('hello Peppy')"
      ],
      "metadata": {
        "colab": {
          "base_uri": "https://localhost:8080/"
        },
        "id": "dVq6qoZsIK90",
        "outputId": "42a2f0ea-2a98-40d6-9148-870dca16a92e"
      },
      "execution_count": 36,
      "outputs": [
        {
          "output_type": "stream",
          "name": "stdout",
          "text": [
            "hello Peppy\n"
          ]
        }
      ]
    },
    {
      "cell_type": "markdown",
      "source": [
        "Problem -> https://nados.io/question/print-z?zen=true"
      ],
      "metadata": {
        "id": "PKsJoenCMW3I"
      }
    },
    {
      "cell_type": "code",
      "execution_count": 37,
      "metadata": {
        "colab": {
          "base_uri": "https://localhost:8080/"
        },
        "id": "dFFOIg5DH_dt",
        "outputId": "9bf228a8-9208-48cd-e84d-b4aeec2c5376"
      },
      "outputs": [
        {
          "output_type": "stream",
          "name": "stdout",
          "text": [
            "25\n"
          ]
        }
      ],
      "source": [
        "x=5\n",
        "# x=7\n",
        "ans = x*x\n",
        "print(ans)"
      ]
    },
    {
      "cell_type": "markdown",
      "source": [
        "Problem -> https://www.hackerrank.com/challenges/python-division/problem?isFullScreen=false"
      ],
      "metadata": {
        "id": "EVTjA7NsN6fq"
      }
    },
    {
      "cell_type": "code",
      "source": [
        "a=3\n",
        "b=2\n",
        "print(a/b) # 3/2\n",
        "print(a//b)"
      ],
      "metadata": {
        "colab": {
          "base_uri": "https://localhost:8080/"
        },
        "id": "3j2tT9oxN7j0",
        "outputId": "1913f1f8-1d62-4acd-91c3-66b0613dff42"
      },
      "execution_count": 38,
      "outputs": [
        {
          "output_type": "stream",
          "name": "stdout",
          "text": [
            "1.5\n",
            "1\n"
          ]
        }
      ]
    },
    {
      "cell_type": "code",
      "source": [
        "a = input() # input from keyboard in string format\n",
        "print('Hii ' + a)"
      ],
      "metadata": {
        "colab": {
          "base_uri": "https://localhost:8080/"
        },
        "id": "SNUIzHuIRaT8",
        "outputId": "b852bff2-b8a2-4882-a056-2545b376cb12"
      },
      "execution_count": 39,
      "outputs": [
        {
          "output_type": "stream",
          "name": "stdout",
          "text": [
            "w\n",
            "Hii w\n"
          ]
        }
      ]
    },
    {
      "cell_type": "code",
      "source": [
        "a=123\n",
        "b=12.345\n",
        "c='Hii bye my number is 1234566 #%&* '\n",
        "d = 2==3 # False\n",
        "\n",
        "print(type(a))\n",
        "print(type(b))\n",
        "print(type(c))\n",
        "print(type(d))"
      ],
      "metadata": {
        "colab": {
          "base_uri": "https://localhost:8080/"
        },
        "id": "YSug64VMS2Zy",
        "outputId": "8305db06-4399-493a-87cf-18704cbfed64"
      },
      "execution_count": 40,
      "outputs": [
        {
          "output_type": "stream",
          "name": "stdout",
          "text": [
            "<class 'int'>\n",
            "<class 'float'>\n",
            "<class 'str'>\n",
            "<class 'bool'>\n"
          ]
        }
      ]
    },
    {
      "cell_type": "markdown",
      "source": [
        "variable name can only contains \n",
        "\n",
        "*   digit\n",
        "*   alphabet\n",
        "*   _\n",
        "\n",
        "name cannot start with digit"
      ],
      "metadata": {
        "id": "c8raaHRdUDK8"
      }
    },
    {
      "cell_type": "code",
      "source": [
        "_abc34 = 89\n",
        "print(_abc34)"
      ],
      "metadata": {
        "colab": {
          "base_uri": "https://localhost:8080/"
        },
        "id": "aAW_s8LZTIqP",
        "outputId": "2ed70c62-3791-4613-ef87-3c9dfc206bbd"
      },
      "execution_count": null,
      "outputs": [
        {
          "output_type": "stream",
          "name": "stdout",
          "text": [
            "89\n"
          ]
        }
      ]
    },
    {
      "cell_type": "markdown",
      "source": [
        "# run os commands"
      ],
      "metadata": {
        "id": "Go2q6eR4VjfR"
      }
    },
    {
      "cell_type": "code",
      "source": [
        "! cat ./sample_data/README.md"
      ],
      "metadata": {
        "colab": {
          "base_uri": "https://localhost:8080/"
        },
        "id": "dkzNqfTkVHW0",
        "outputId": "f4e0dd17-eb3c-4171-eebd-221b50573ae5"
      },
      "execution_count": null,
      "outputs": [
        {
          "output_type": "stream",
          "name": "stdout",
          "text": [
            "This directory includes a few sample datasets to get you started.\n",
            "\n",
            "*   `california_housing_data*.csv` is California housing data from the 1990 US\n",
            "    Census; more information is available at:\n",
            "    https://developers.google.com/machine-learning/crash-course/california-housing-data-description\n",
            "\n",
            "*   `mnist_*.csv` is a small sample of the\n",
            "    [MNIST database](https://en.wikipedia.org/wiki/MNIST_database), which is\n",
            "    described at: http://yann.lecun.com/exdb/mnist/\n",
            "\n",
            "*   `anscombe.json` contains a copy of\n",
            "    [Anscombe's quartet](https://en.wikipedia.org/wiki/Anscombe%27s_quartet); it\n",
            "    was originally described in\n",
            "\n",
            "    Anscombe, F. J. (1973). 'Graphs in Statistical Analysis'. American\n",
            "    Statistician. 27 (1): 17-21. JSTOR 2682899.\n",
            "\n",
            "    and our copy was prepared by the\n",
            "    [vega_datasets library](https://github.com/altair-viz/vega_datasets/blob/4f67bdaad10f45e3549984e17e1b3088c731503d/vega_datasets/_data/anscombe.json).\n"
          ]
        }
      ]
    },
    {
      "cell_type": "markdown",
      "source": [
        "# Conditions\n",
        "\n",
        "*  if else\n",
        "*  if elif else"
      ],
      "metadata": {
        "id": "r9sbVbBVclUY"
      }
    },
    {
      "cell_type": "code",
      "source": [
        "age = 12\n",
        "\n",
        "if age <= 18:\n",
        "    print('Balik')\n",
        "    print('Baccha hai')\n",
        "else:\n",
        "    print('Na Balik')\n",
        "    print('Baccha nii h')\n",
        "\n",
        "\n",
        "print('outside if block')"
      ],
      "metadata": {
        "colab": {
          "base_uri": "https://localhost:8080/"
        },
        "id": "HKrfgVl8cmjt",
        "outputId": "6d90194e-3d2f-434f-cd1b-af8301feca2f"
      },
      "execution_count": null,
      "outputs": [
        {
          "output_type": "stream",
          "name": "stdout",
          "text": [
            "Balik\n",
            "Baccha hai\n",
            "outside if block\n"
          ]
        }
      ]
    },
    {
      "cell_type": "markdown",
      "source": [
        "## Nested If Else"
      ],
      "metadata": {
        "id": "c69tqOa4fUCI"
      }
    },
    {
      "cell_type": "code",
      "source": [
        "age = 17\n",
        "\n",
        "if age <= 18:\n",
        "    print('Baccha hai')\n",
        "else:\n",
        "    if age<=50:\n",
        "      print('Jawan hai')\n",
        "    else:\n",
        "      print('Old man')\n",
        "\n",
        "\n",
        "print('outside if block')"
      ],
      "metadata": {
        "colab": {
          "base_uri": "https://localhost:8080/"
        },
        "id": "6zL8Z5tFej_H",
        "outputId": "3e5110dc-7e63-42d0-b4c8-4b68ac27bd6a"
      },
      "execution_count": null,
      "outputs": [
        {
          "output_type": "stream",
          "name": "stdout",
          "text": [
            "Baccha hai\n",
            "outside if block\n"
          ]
        }
      ]
    },
    {
      "cell_type": "markdown",
      "source": [
        "## ELIF"
      ],
      "metadata": {
        "id": "_dgts8Q3fv1H"
      }
    },
    {
      "cell_type": "code",
      "source": [
        "age = 23\n",
        "\n",
        "if age <= 18:\n",
        "    print('Baccha hai')\n",
        "elif age <= 50:\n",
        "    print('Jawan hai')\n",
        "else:\n",
        "    print('else')\n",
        "\n",
        "print('outside if block')"
      ],
      "metadata": {
        "colab": {
          "base_uri": "https://localhost:8080/"
        },
        "id": "RzUbIijxfXjc",
        "outputId": "fd7ef3d8-3a3d-4b4b-c132-0391a5e8e5a2"
      },
      "execution_count": null,
      "outputs": [
        {
          "output_type": "stream",
          "name": "stdout",
          "text": [
            "Jawan hai\n",
            "outside if block\n"
          ]
        }
      ]
    },
    {
      "cell_type": "markdown",
      "source": [
        "problem -> https://www.hackerrank.com/challenges/py-if-else/problem?isFullScreen=false"
      ],
      "metadata": {
        "id": "xhv3E5SUjtQi"
      }
    },
    {
      "cell_type": "markdown",
      "source": [
        "# Loop\n",
        "\n",
        "`range(start, stop, step)`\n",
        "*  start : included\n",
        "*  stop : excluded\n",
        "*  step : step size\n",
        "\n",
        "Create Ways\n",
        "*  range(3)          [0, 3)\n",
        "*  range(2, 7)       [2, 7)\n",
        "*  range(2, 7, 3)    [2, 7) +3 2,5\n",
        "*  continue\n",
        "*  break\n"
      ],
      "metadata": {
        "id": "tsMSg7Ruj1SH"
      }
    },
    {
      "cell_type": "code",
      "source": [
        "for i in range(2, 8):\n",
        "  print(i)"
      ],
      "metadata": {
        "colab": {
          "base_uri": "https://localhost:8080/"
        },
        "id": "GuN4BbrPlNGl",
        "outputId": "423d043a-3efc-48a9-bbf8-ab5be66e29a7"
      },
      "execution_count": null,
      "outputs": [
        {
          "output_type": "stream",
          "name": "stdout",
          "text": [
            "2\n",
            "3\n",
            "4\n",
            "5\n",
            "6\n",
            "7\n"
          ]
        }
      ]
    },
    {
      "cell_type": "code",
      "source": [
        "for i in range(2, 12, 3):\n",
        "  print(i)"
      ],
      "metadata": {
        "colab": {
          "base_uri": "https://localhost:8080/"
        },
        "id": "t8HrWXVnm73a",
        "outputId": "e9c490e2-77a6-4302-e4f1-b8f5d0239cd3"
      },
      "execution_count": null,
      "outputs": [
        {
          "output_type": "stream",
          "name": "stdout",
          "text": [
            "2\n",
            "5\n",
            "8\n",
            "11\n"
          ]
        }
      ]
    },
    {
      "cell_type": "code",
      "source": [
        "for i in range(7, 2, -1):\n",
        "  print(\"Hello\", i)"
      ],
      "metadata": {
        "colab": {
          "base_uri": "https://localhost:8080/"
        },
        "id": "4F_YlfnCoReH",
        "outputId": "2f96cbf4-9822-4590-e165-cf5ad4b0feda"
      },
      "execution_count": null,
      "outputs": [
        {
          "output_type": "stream",
          "name": "stdout",
          "text": [
            "Hello 7\n",
            "Hello 6\n",
            "Hello 5\n",
            "Hello 4\n",
            "Hello 3\n"
          ]
        }
      ]
    },
    {
      "cell_type": "code",
      "source": [
        "for i in range(5):\n",
        "  print('hello')"
      ],
      "metadata": {
        "id": "hSztK4XkjuxF",
        "colab": {
          "base_uri": "https://localhost:8080/"
        },
        "outputId": "5c341771-735e-485c-9356-87d9406b3cc9"
      },
      "execution_count": null,
      "outputs": [
        {
          "output_type": "stream",
          "name": "stdout",
          "text": [
            "hello\n",
            "hello\n",
            "hello\n",
            "hello\n",
            "hello\n"
          ]
        }
      ]
    },
    {
      "cell_type": "markdown",
      "source": [
        "Problem : https://www.hackerrank.com/challenges/python-loops/problem?isFullScreen=false"
      ],
      "metadata": {
        "id": "7UIktZajpOmt"
      }
    },
    {
      "cell_type": "code",
      "source": [
        "# convert string to int/float\n",
        "\n",
        "a = input() # input in string format \n",
        "a = float(a)\n",
        "print(type(a), a+2)"
      ],
      "metadata": {
        "colab": {
          "base_uri": "https://localhost:8080/"
        },
        "id": "Qp192BxIpTIH",
        "outputId": "d6321710-9d69-4731-cfaf-545470378fd6"
      },
      "execution_count": null,
      "outputs": [
        {
          "output_type": "stream",
          "name": "stdout",
          "text": [
            "23.8\n",
            "<class 'float'> 25.8\n"
          ]
        }
      ]
    },
    {
      "cell_type": "code",
      "source": [
        "n = 5\n",
        "\n",
        "for i in range(n):\n",
        "  print(i*i)"
      ],
      "metadata": {
        "colab": {
          "base_uri": "https://localhost:8080/"
        },
        "id": "gtG2KON5rhvc",
        "outputId": "2cbd6dfd-92c3-4be9-c0ed-988a6dd28087"
      },
      "execution_count": null,
      "outputs": [
        {
          "output_type": "stream",
          "name": "stdout",
          "text": [
            "0\n",
            "1\n",
            "4\n",
            "9\n",
            "16\n"
          ]
        }
      ]
    },
    {
      "cell_type": "markdown",
      "source": [
        "# Function\n",
        "\n",
        "### Factorial\n",
        "\n",
        "Why??\n",
        "*  Code re-use\n",
        "*  easy debugging\n",
        "\n",
        "Usage\n",
        "*  function call is replaced by returned value\n",
        "*  Default values  `def add(a, b, c=0, d=0)`\n",
        "*  PassByName  `add(1, 3, d=9, c=3)`"
      ],
      "metadata": {
        "id": "RvI5G0zAspEz"
      }
    },
    {
      "cell_type": "code",
      "source": [
        "n = 4\n",
        "r = 2\n",
        "\n",
        "nf = 1 # 1*2*3*4*.....*n\n",
        "for i in range(1, n+1):\n",
        "  nf = nf*i\n",
        "\n",
        "rf = 1\n",
        "for i in range(1, r+1):\n",
        "  # rf = rf*i\n",
        "  rf *= i\n",
        "\n",
        "nmrf = 1\n",
        "for i in range(1, n-r+1):\n",
        "  nmrf *= i\n",
        "\n",
        "\n",
        "print(nf/(rf*nmrf))"
      ],
      "metadata": {
        "colab": {
          "base_uri": "https://localhost:8080/"
        },
        "id": "oXMr-AAbr1YP",
        "outputId": "85196147-1cad-4cf8-b55b-a300e8a437c6"
      },
      "execution_count": null,
      "outputs": [
        {
          "output_type": "stream",
          "name": "stdout",
          "text": [
            "6.0\n"
          ]
        }
      ]
    },
    {
      "cell_type": "code",
      "source": [
        "n = 4\n",
        "r = 2\n",
        "\n",
        "def fact(x):\n",
        "  ans = 1\n",
        "  for i in range(1, x+1):\n",
        "    ans *= i\n",
        "  return ans\n",
        "\n",
        "nf = fact(n)\n",
        "rf = fact(r)\n",
        "nmrf = fact(n-r)\n",
        "\n",
        "print(nf/(rf*nmrf))"
      ],
      "metadata": {
        "colab": {
          "base_uri": "https://localhost:8080/"
        },
        "id": "ACGgbt3rviGb",
        "outputId": "93ba06a1-1f68-4acb-cc43-230bcbeef6e1"
      },
      "execution_count": null,
      "outputs": [
        {
          "output_type": "stream",
          "name": "stdout",
          "text": [
            "6.0\n"
          ]
        }
      ]
    },
    {
      "cell_type": "code",
      "source": [
        "def fun5():\n",
        "  return 2\n",
        "\n",
        "print(10-fun5())"
      ],
      "metadata": {
        "colab": {
          "base_uri": "https://localhost:8080/"
        },
        "id": "FE9BjeIRyjtS",
        "outputId": "a573f4d6-f2df-4363-b2e6-8ac412f81e95"
      },
      "execution_count": null,
      "outputs": [
        {
          "output_type": "stream",
          "name": "stdout",
          "text": [
            "8\n"
          ]
        }
      ]
    },
    {
      "cell_type": "markdown",
      "source": [
        "Problem: https://nados.io/question/digit-frequency?zen=true\n",
        "\n",
        "Learn\n",
        "\n",
        "while"
      ],
      "metadata": {
        "id": "YvdACtZMzq3_"
      }
    },
    {
      "cell_type": "code",
      "source": [
        "def prnt():\n",
        "  print('Hello Peppy')\n",
        "\n",
        "prnt()\n",
        "prnt()\n",
        "prnt()"
      ],
      "metadata": {
        "colab": {
          "base_uri": "https://localhost:8080/"
        },
        "id": "qAoSUH4Dzvqy",
        "outputId": "11e4b912-88a1-461a-ffd5-542e748698fb"
      },
      "execution_count": null,
      "outputs": [
        {
          "output_type": "stream",
          "name": "stdout",
          "text": [
            "Hello Peppy\n",
            "Hello Peppy\n",
            "Hello Peppy\n"
          ]
        }
      ]
    },
    {
      "cell_type": "markdown",
      "source": [
        "## add 2 numbers"
      ],
      "metadata": {
        "id": "C3g9MkMB3uFD"
      }
    },
    {
      "cell_type": "code",
      "source": [
        "def add(a, b):\n",
        "  return a+b\n",
        "\n",
        "ans = add(2,5)\n",
        "print(ans)\n",
        "\n",
        "ans = add('hii','bye')\n",
        "print(ans)"
      ],
      "metadata": {
        "colab": {
          "base_uri": "https://localhost:8080/"
        },
        "id": "Hx44Wh2s3vuj",
        "outputId": "fb774da3-c366-42bc-ca1c-ef8179133775"
      },
      "execution_count": null,
      "outputs": [
        {
          "output_type": "stream",
          "name": "stdout",
          "text": [
            "7\n",
            "hiibye\n"
          ]
        }
      ]
    },
    {
      "cell_type": "code",
      "source": [
        "def add(a, b, c=0, d=1):\n",
        "  print('a:', a)\n",
        "  print('b:', b)\n",
        "  print('c:', c)\n",
        "  print('d:', d)\n",
        "  \n",
        "  return (a+b+c)*d\n",
        "\n",
        "ans = add(3, 1, d=2, c=4)\n",
        "print(ans)"
      ],
      "metadata": {
        "colab": {
          "base_uri": "https://localhost:8080/"
        },
        "id": "G7ZilHk737d8",
        "outputId": "0f2bc56b-29ee-46fe-82cc-fef24c698bc7"
      },
      "execution_count": null,
      "outputs": [
        {
          "output_type": "stream",
          "name": "stdout",
          "text": [
            "a: 3\n",
            "b: 1\n",
            "c: 4\n",
            "d: 2\n",
            "16\n"
          ]
        }
      ]
    },
    {
      "cell_type": "code",
      "source": [
        "'abc' + 'def'"
      ],
      "metadata": {
        "colab": {
          "base_uri": "https://localhost:8080/",
          "height": 35
        },
        "id": "sjm9gz8a4sxC",
        "outputId": "e985cca5-e6c2-4540-df79-89f4ab777386"
      },
      "execution_count": null,
      "outputs": [
        {
          "output_type": "execute_result",
          "data": {
            "text/plain": [
              "'abcdef'"
            ],
            "application/vnd.google.colaboratory.intrinsic+json": {
              "type": "string"
            }
          },
          "metadata": {},
          "execution_count": 53
        }
      ]
    },
    {
      "cell_type": "markdown",
      "source": [
        "# String\n",
        "\n",
        "\n",
        "\n",
        "*   Escape Character\n",
        "    *   `\\' \\\" \\t \\\\`\n",
        "*   strip\n",
        "*   `'Hii {}'.format(variable)`\n",
        "*   `f'Hii {variable}'`\n"
      ],
      "metadata": {
        "id": "EDefB-bv9Gl6"
      }
    },
    {
      "cell_type": "code",
      "source": [
        "s = 'my name is diwakar, my email is diwakargupta815@'\n",
        "s = \"my name ' is diwakar, my email is diwakargupta815@\"\n",
        "s = ''' my name ' \" is diwakar 12344254 @#$%% '''\n",
        "print(s)"
      ],
      "metadata": {
        "colab": {
          "base_uri": "https://localhost:8080/"
        },
        "id": "_Pqn5sgB467e",
        "outputId": "087e18ad-6eb7-465b-a7b7-8d694fa0bbb8"
      },
      "execution_count": null,
      "outputs": [
        {
          "output_type": "stream",
          "name": "stdout",
          "text": [
            " my name ' \" is diwakar 12344254 @#$%% \n"
          ]
        }
      ]
    },
    {
      "cell_type": "code",
      "source": [
        "# Escape character\n",
        "\n",
        "s = ' my name \\' \\\\ is diwakar 12344254 @#$%% '\n",
        "print(s)"
      ],
      "metadata": {
        "colab": {
          "base_uri": "https://localhost:8080/"
        },
        "id": "1R_aQmz--Zks",
        "outputId": "97c76902-4870-4d0d-a162-d1aefbdc4354"
      },
      "execution_count": null,
      "outputs": [
        {
          "output_type": "stream",
          "name": "stdout",
          "text": [
            " my name ' \\ is diwakar 12344254 @#$%% \n"
          ]
        }
      ]
    },
    {
      "cell_type": "code",
      "source": [
        "print('nitin \\t\\t123')\n",
        "print('prince \\t\\t765')\n",
        "print('shivam \\t\\t8969')\n",
        "print('radhika \\t\\t3456')"
      ],
      "metadata": {
        "colab": {
          "base_uri": "https://localhost:8080/"
        },
        "id": "vp_5oFvt-2Ie",
        "outputId": "6b648174-0011-4496-9855-4e42391706d1"
      },
      "execution_count": null,
      "outputs": [
        {
          "output_type": "stream",
          "name": "stdout",
          "text": [
            "nitin \t\t123\n",
            "prince \t\t765\n",
            "shivam \t\t8969\n",
            "radhika \t\t3456\n"
          ]
        }
      ]
    },
    {
      "cell_type": "code",
      "source": [
        "s.strip() # removes starting/ending white spaces"
      ],
      "metadata": {
        "colab": {
          "base_uri": "https://localhost:8080/",
          "height": 35
        },
        "id": "t02VJSAi_shI",
        "outputId": "d954bf11-203c-488b-a1c7-14f7c0b62b2a"
      },
      "execution_count": null,
      "outputs": [
        {
          "output_type": "execute_result",
          "data": {
            "text/plain": [
              "\"my name ' \\\\ is diwakar 12344254 @#$%%\""
            ],
            "application/vnd.google.colaboratory.intrinsic+json": {
              "type": "string"
            }
          },
          "metadata": {},
          "execution_count": 111
        }
      ]
    },
    {
      "cell_type": "code",
      "source": [
        "print(s.upper())\n",
        "print(s.lower())"
      ],
      "metadata": {
        "colab": {
          "base_uri": "https://localhost:8080/"
        },
        "id": "0TNNFHtsBnuB",
        "outputId": "09c0defd-5fc0-45bf-f5d0-bf050d7cddab"
      },
      "execution_count": null,
      "outputs": [
        {
          "output_type": "stream",
          "name": "stdout",
          "text": [
            " MY NAME ' \\ IS DIWAKAR 12344254 @#$%% \n",
            " my name ' \\ is diwakar 12344254 @#$%% \n"
          ]
        }
      ]
    },
    {
      "cell_type": "markdown",
      "source": [
        "## Indexing"
      ],
      "metadata": {
        "id": "JKP7sAhDBWPU"
      }
    },
    {
      "cell_type": "code",
      "source": [
        "s = 'abcd'\n",
        "print(s, len(s))\n",
        "\n",
        "for i in range(0, len(s)):\n",
        "  print(i, s[i])"
      ],
      "metadata": {
        "colab": {
          "base_uri": "https://localhost:8080/"
        },
        "id": "KNVvTyOFAPC4",
        "outputId": "46707a08-a55a-4a05-b73a-0c5374389ca1"
      },
      "execution_count": null,
      "outputs": [
        {
          "output_type": "stream",
          "name": "stdout",
          "text": [
            "abcd 4\n",
            "0 a\n",
            "1 b\n",
            "2 c\n",
            "3 d\n"
          ]
        }
      ]
    },
    {
      "cell_type": "code",
      "source": [
        "for c in s:\n",
        "  print(c)"
      ],
      "metadata": {
        "id": "MgeLEkAcDYWU",
        "outputId": "82219d81-3bc4-447f-bb70-5623ca2ca367",
        "colab": {
          "base_uri": "https://localhost:8080/"
        }
      },
      "execution_count": null,
      "outputs": [
        {
          "output_type": "stream",
          "name": "stdout",
          "text": [
            "a\n",
            "b\n",
            "c\n",
            "d\n"
          ]
        }
      ]
    },
    {
      "cell_type": "markdown",
      "source": [
        "# List\n",
        "\n",
        "*  append\n",
        "*  extend : `[1,2,3] + [4,5,6] = [1,2,3,4,5,6]`\n",
        "*  Indexing\n",
        "*  Slicing\n",
        "*  `[1, *[2, 3], 4, 5]`\n",
        "*  `'Harsh' in class_list`\n",
        "*   `class_list.index('mantraksha')`"
      ],
      "metadata": {
        "id": "5EkxS5903MQc"
      }
    },
    {
      "cell_type": "markdown",
      "source": [
        "\"Ayaan\",\n",
        "\"chaitanya\",\n",
        "\"Dhairya\",\n",
        "\"Divyansh\",\n",
        "\"Shraiya\",\n",
        "\"Nidhi\",\n",
        "\"gokul\",\n",
        "\"Harsh\",\n",
        "\"Harshit\",\n",
        "\"Himanshu\",\n",
        "\"Nidhi\",\n",
        "\"Nusrat\",\n",
        "\"prince\",\n",
        "\"Radhika\",\n",
        "\"Vedant\",\n",
        "\"Harshit\",\n",
        "\"Divyansh\",\n",
        "\"mantraksha\","
      ],
      "metadata": {
        "id": "b0XTMhW1wMCH"
      }
    },
    {
      "cell_type": "code",
      "source": [
        "l = ['Ayaan', '''chaitanya''', \"Dhairya\", 123, True, False, 45.908]\n",
        "\n",
        "for name in l:\n",
        "    # print(name + ' Good Evening') # Gives Error\n",
        "    print('Hii', name , 'Good Evening')  \n",
        "    # print(f'Hii {name} Good Evening')"
      ],
      "metadata": {
        "colab": {
          "base_uri": "https://localhost:8080/"
        },
        "id": "qvoQs5i5wtzK",
        "outputId": "539da530-22e5-41c5-b711-6740ff675c77"
      },
      "execution_count": null,
      "outputs": [
        {
          "output_type": "stream",
          "name": "stdout",
          "text": [
            "Hii Ayaan Good Evening\n",
            "Hii chaitanya Good Evening\n",
            "Hii Dhairya Good Evening\n",
            "Hii 123 Good Evening\n",
            "Hii True Good Evening\n",
            "Hii False Good Evening\n",
            "Hii 45.908 Good Evening\n"
          ]
        }
      ]
    },
    {
      "cell_type": "code",
      "source": [
        "name1 = 'Ayaan'\n",
        "name2 = 'Gokul'\n",
        "# s = 'Good Evening '+name1+' and '+name2\n",
        "# s = 'Good Evening {}, {}'.format(name1, name2)\n",
        "s = f'Good Evening {name1} and {name2}'\n",
        "print(s)"
      ],
      "metadata": {
        "colab": {
          "base_uri": "https://localhost:8080/"
        },
        "id": "N-uugWJF14ET",
        "outputId": "963b866b-16aa-4dfa-aa71-893e1401a740"
      },
      "execution_count": null,
      "outputs": [
        {
          "output_type": "stream",
          "name": "stdout",
          "text": [
            "Good Evening Ayaan and Gokul\n"
          ]
        }
      ]
    },
    {
      "cell_type": "code",
      "source": [
        "class_students = [\"Ayaan\",\n",
        "\"chaitanya\",\n",
        "\"Dhairya\",\n",
        "\"Divyansh\",\n",
        "\"Shraiya\",\n",
        "\"Nidhi\",\n",
        "\"gokul\",\n",
        "\"Mantraksha\"\n",
        "\"Harsh\",\n",
        "\"Harshit\",\n",
        "\"Himanshu\",\n",
        "\"nidhi\",\n",
        "\"Nusrat\",\n",
        "\"prince\",\n",
        "\"Radhika\",\n",
        "\"Vedant\",\n",
        "\"Harshit\",\n",
        "\"Divyansh\",\n",
        "\"mantraksha\",]"
      ],
      "metadata": {
        "id": "4lhQpsVl2XsP"
      },
      "execution_count": null,
      "outputs": []
    },
    {
      "cell_type": "markdown",
      "source": [
        "Append late joiners to class list"
      ],
      "metadata": {
        "id": "lL9TRC3e6BWv"
      }
    },
    {
      "cell_type": "code",
      "source": [
        "class_students.append('Vaibhav')\n",
        "class_students.append('Vidushi')\n",
        "class_students.append('jonathan')\n",
        "class_students"
      ],
      "metadata": {
        "colab": {
          "base_uri": "https://localhost:8080/"
        },
        "id": "7kzPal2N5mlh",
        "outputId": "b8cd7a53-0b7b-4f62-b0a3-b89d036e275c"
      },
      "execution_count": null,
      "outputs": [
        {
          "output_type": "execute_result",
          "data": {
            "text/plain": [
              "['Ayaan',\n",
              " 'chaitanya',\n",
              " 'Dhairya',\n",
              " 'Divyansh',\n",
              " 'Shraiya',\n",
              " 'Nidhi',\n",
              " 'gokul',\n",
              " 'Harsh',\n",
              " 'Harshit',\n",
              " 'Himanshu',\n",
              " 'Nidhi',\n",
              " 'Nusrat',\n",
              " 'prince',\n",
              " 'Radhika',\n",
              " 'Vedant',\n",
              " 'Harshit',\n",
              " 'Divyansh',\n",
              " 'mantraksha',\n",
              " 'Vaibhav',\n",
              " 'Vidushi',\n",
              " 'jonathan']"
            ]
          },
          "metadata": {},
          "execution_count": 29
        }
      ]
    },
    {
      "cell_type": "code",
      "source": [
        "l1 = [1,2,3, 'hii', 'hello']\n",
        "l2 = [4, 5, 6]\n",
        "l3 = l1+l2\n",
        "print(l3)"
      ],
      "metadata": {
        "colab": {
          "base_uri": "https://localhost:8080/"
        },
        "id": "C7T99Qx_6r76",
        "outputId": "ccc9da21-8103-4229-b600-543427c91ac9"
      },
      "execution_count": null,
      "outputs": [
        {
          "output_type": "stream",
          "name": "stdout",
          "text": [
            "[1, 2, 3, 'hii', 'hello', 4, 5, 6]\n"
          ]
        }
      ]
    },
    {
      "cell_type": "code",
      "source": [
        "for name in class_students:\n",
        "    print(f\"Hii {name}\")"
      ],
      "metadata": {
        "colab": {
          "base_uri": "https://localhost:8080/"
        },
        "id": "sXPKhZtB5Jju",
        "outputId": "a52663ef-ba23-4f17-f594-d74a1bbbb944"
      },
      "execution_count": null,
      "outputs": [
        {
          "output_type": "stream",
          "name": "stdout",
          "text": [
            "Hii Ayaan\n",
            "Hii chaitanya\n",
            "Hii Dhairya\n",
            "Hii Divyansh\n",
            "Hii Shraiya\n",
            "Hii Nidhi\n",
            "Hii gokul\n",
            "Hii Harsh\n",
            "Hii Harshit\n",
            "Hii Himanshu\n",
            "Hii Nidhi\n",
            "Hii Nusrat\n",
            "Hii prince\n",
            "Hii Radhika\n",
            "Hii Vedant\n",
            "Hii Harshit\n",
            "Hii Divyansh\n",
            "Hii mantraksha\n",
            "Hii Vaibhav\n",
            "Hii Vidushi\n",
            "Hii jonathan\n"
          ]
        }
      ]
    },
    {
      "cell_type": "code",
      "source": [
        "import time\n",
        "\n",
        "income_tax_officer = 'Ajay'\n",
        "\n",
        "for name in class_students:\n",
        "    print(f'{income_tax_officer} is preparing to raid {name} house')\n",
        "    time.sleep(2)\n",
        "\n",
        "    if name == 'Dhairya':\n",
        "        # skip remaining part of loop and proceed to next iteration\n",
        "        continue # ghus dena to Ajay\n",
        "\n",
        "    print(f'{income_tax_officer} found black money in  {name} house')\n",
        "    time.sleep(2)"
      ],
      "metadata": {
        "colab": {
          "base_uri": "https://localhost:8080/"
        },
        "id": "LPQHnSlY6nAJ",
        "outputId": "db0cfcec-1cfc-4e0d-d152-d29f4144099f"
      },
      "execution_count": null,
      "outputs": [
        {
          "output_type": "stream",
          "name": "stdout",
          "text": [
            "Ajay is preparing to raid Ayaan house\n",
            "Ajay found black money in  Ayaan house\n",
            "Ajay is preparing to raid chaitanya house\n",
            "Ajay found black money in  chaitanya house\n",
            "Ajay is preparing to raid Dhairya house\n",
            "Ajay is preparing to raid Divyansh house\n",
            "Ajay found black money in  Divyansh house\n",
            "Ajay is preparing to raid Shraiya house\n",
            "Ajay found black money in  Shraiya house\n",
            "Ajay is preparing to raid Nidhi house\n",
            "Ajay found black money in  Nidhi house\n",
            "Ajay is preparing to raid gokul house\n",
            "Ajay found black money in  gokul house\n",
            "Ajay is preparing to raid Harsh house\n",
            "Ajay found black money in  Harsh house\n",
            "Ajay is preparing to raid Harshit house\n",
            "Ajay found black money in  Harshit house\n",
            "Ajay is preparing to raid Himanshu house\n",
            "Ajay found black money in  Himanshu house\n",
            "Ajay is preparing to raid Nidhi house\n",
            "Ajay found black money in  Nidhi house\n",
            "Ajay is preparing to raid Nusrat house\n",
            "Ajay found black money in  Nusrat house\n",
            "Ajay is preparing to raid prince house\n",
            "Ajay found black money in  prince house\n",
            "Ajay is preparing to raid Radhika house\n",
            "Ajay found black money in  Radhika house\n",
            "Ajay is preparing to raid Vedant house\n",
            "Ajay found black money in  Vedant house\n",
            "Ajay is preparing to raid Harshit house\n",
            "Ajay found black money in  Harshit house\n",
            "Ajay is preparing to raid Divyansh house\n",
            "Ajay found black money in  Divyansh house\n",
            "Ajay is preparing to raid mantraksha house\n",
            "Ajay found black money in  mantraksha house\n",
            "Ajay is preparing to raid Vaibhav house\n",
            "Ajay found black money in  Vaibhav house\n",
            "Ajay is preparing to raid Vidushi house\n",
            "Ajay found black money in  Vidushi house\n",
            "Ajay is preparing to raid jonathan house\n",
            "Ajay found black money in  jonathan house\n"
          ]
        }
      ]
    },
    {
      "cell_type": "code",
      "source": [
        "import time\n",
        "\n",
        "income_tax_officer = 'Ajay'\n",
        "\n",
        "for name in class_students:\n",
        "    print(f'{income_tax_officer} is preparing to raid {name} house')\n",
        "    time.sleep(2)\n",
        "\n",
        "    if name == 'Dhairya':\n",
        "        # terminates loop\n",
        "        break # ghus dena to Ajay\n",
        "\n",
        "    print(f'{income_tax_officer} found black money in  {name} house')\n",
        "    time.sleep(2)"
      ],
      "metadata": {
        "colab": {
          "base_uri": "https://localhost:8080/"
        },
        "id": "EmkLUtZH_eLO",
        "outputId": "ca5d5816-75c8-48d1-c80c-e889d17bed83"
      },
      "execution_count": null,
      "outputs": [
        {
          "output_type": "stream",
          "name": "stdout",
          "text": [
            "Ajay is preparing to raid Ayaan house\n",
            "Ajay found black money in  Ayaan house\n",
            "Ajay is preparing to raid chaitanya house\n",
            "Ajay found black money in  chaitanya house\n",
            "Ajay is preparing to raid Dhairya house\n"
          ]
        }
      ]
    },
    {
      "cell_type": "markdown",
      "source": [
        "## Question 1\n",
        "\n",
        "print all even squares from 0 to n-1\n",
        "\n",
        "Hint: %, modify range"
      ],
      "metadata": {
        "id": "VbcYYK0iAr07"
      }
    },
    {
      "cell_type": "code",
      "source": [
        "n = 10\n",
        "for i in range(n):\n",
        "  if i % 2 == 1:\n",
        "    # odd\n",
        "    continue\n",
        "  print(i*i)\n",
        "\n",
        "\n",
        "for i in range(0, n, 2):\n",
        "  print(i*i)"
      ],
      "metadata": {
        "colab": {
          "base_uri": "https://localhost:8080/"
        },
        "id": "kFmE80pqAeqb",
        "outputId": "a7770321-4e68-4272-daf0-656f7f52a6a6"
      },
      "execution_count": null,
      "outputs": [
        {
          "output_type": "stream",
          "name": "stdout",
          "text": [
            "1\n",
            "9\n",
            "25\n",
            "49\n",
            "81\n"
          ]
        }
      ]
    },
    {
      "cell_type": "markdown",
      "source": [
        "## Indexing"
      ],
      "metadata": {
        "id": "zCRdhvEBCzR8"
      }
    },
    {
      "cell_type": "code",
      "source": [
        "#     -6   -5  -4   -3   -2    -1   \n",
        "#     0    1    2    3    4    5\n",
        "l = ['a', 123, 'c', 'd', 44, 'f']\n",
        "\n",
        "print(f'{l[1]} + {l[-2]} = {l[1]+l[4]}')\n",
        "print(l[0], l[-6])\n",
        "print(f'Length of list = {len(l)}')"
      ],
      "metadata": {
        "colab": {
          "base_uri": "https://localhost:8080/"
        },
        "id": "vBKGZ4MJCtz3",
        "outputId": "4984e6af-a4af-4251-a2f1-3a0e78e30cab"
      },
      "execution_count": null,
      "outputs": [
        {
          "output_type": "stream",
          "name": "stdout",
          "text": [
            "123 + 44 = 167\n",
            "a a\n",
            "Length of list = 6\n"
          ]
        }
      ]
    },
    {
      "cell_type": "code",
      "source": [
        "l = list(range(20, 30))\n",
        "\n",
        "print(l)"
      ],
      "metadata": {
        "colab": {
          "base_uri": "https://localhost:8080/"
        },
        "id": "9YHM-WUJETNc",
        "outputId": "8a1fb0a7-ab7a-4b07-8bfa-a1da1e91adc4"
      },
      "execution_count": null,
      "outputs": [
        {
          "output_type": "stream",
          "name": "stdout",
          "text": [
            "[20, 21, 22, 23, 24, 25, 26, 27, 28, 29]\n"
          ]
        }
      ]
    },
    {
      "cell_type": "markdown",
      "source": [
        "## Slicing"
      ],
      "metadata": {
        "id": "bM8V4K9JGT7S"
      }
    },
    {
      "cell_type": "code",
      "source": [
        "l = list(range(3, 9))\n",
        "print('l=', l)\n",
        "l2 = l[1:4]\n",
        "print(f'l[1:4] = {l2}')\n",
        "\n",
        "print(f'l[1:-2] = {l[1:-2]}')\n",
        "\n",
        "print(f'l[1:-1:2] = {l[1:-1:2]}')"
      ],
      "metadata": {
        "colab": {
          "base_uri": "https://localhost:8080/"
        },
        "id": "DqMZiKmuGUvJ",
        "outputId": "ebe56be0-e9d5-49c7-bbc7-e3197a5f96d6"
      },
      "execution_count": null,
      "outputs": [
        {
          "output_type": "stream",
          "name": "stdout",
          "text": [
            "l= [3, 4, 5, 6, 7, 8]\n",
            "l[1:4] = [4, 5, 6]\n",
            "l[1:-2] = [4, 5, 6]\n",
            "l[1:-1:2] = [4, 6]\n"
          ]
        }
      ]
    },
    {
      "cell_type": "code",
      "source": [
        "l[-1:1:-1]"
      ],
      "metadata": {
        "colab": {
          "base_uri": "https://localhost:8080/"
        },
        "id": "YY5dcFX8Hnak",
        "outputId": "2a537570-3b37-4c14-903c-5a84e8c4ad0c"
      },
      "execution_count": null,
      "outputs": [
        {
          "output_type": "execute_result",
          "data": {
            "text/plain": [
              "[8, 7, 6, 5]"
            ]
          },
          "metadata": {},
          "execution_count": 82
        }
      ]
    },
    {
      "cell_type": "markdown",
      "source": [
        "**Question reverse list using slicing**"
      ],
      "metadata": {
        "id": "xkcf-It3Ihge"
      }
    },
    {
      "cell_type": "code",
      "source": [
        "print(l)\n",
        "print(l[1:]) # no stoping point, no ending\n",
        "print(l[:4])\n",
        "print(l[:])\n",
        "print(l[::2]) # start end\n",
        "print(l[::-1]) # start and end are toggled"
      ],
      "metadata": {
        "colab": {
          "base_uri": "https://localhost:8080/"
        },
        "id": "c9ef3cqlISix",
        "outputId": "d28aaddf-f710-4695-b28a-1e0abb7424c3"
      },
      "execution_count": null,
      "outputs": [
        {
          "output_type": "stream",
          "name": "stdout",
          "text": [
            "[3, 4, 5, 6, 7, 8]\n",
            "[4, 5, 6, 7, 8]\n",
            "[3, 4, 5, 6]\n",
            "[3, 4, 5, 6, 7, 8]\n",
            "[3, 5, 7]\n",
            "[8, 7, 6, 5, 4, 3]\n"
          ]
        }
      ]
    },
    {
      "cell_type": "markdown",
      "source": [
        "Questions\n",
        "\n",
        "\n",
        "\n",
        "1.   https://nados.io/question/reverse-an-array?zen=true\n",
        "2.   https://nados.io/question/subarray-problem?zen=true\n",
        "\n"
      ],
      "metadata": {
        "id": "FYoCKra2ORuN"
      }
    },
    {
      "cell_type": "code",
      "source": [
        "l = [1,2,4]\n",
        "\n",
        "print(l)\n",
        "print(1, 2, 3)\n",
        "print(*l)"
      ],
      "metadata": {
        "colab": {
          "base_uri": "https://localhost:8080/"
        },
        "id": "Ob5ERylsOhna",
        "outputId": "f9796da8-bfe9-46c6-fc33-ed672970e685"
      },
      "execution_count": null,
      "outputs": [
        {
          "output_type": "stream",
          "name": "stdout",
          "text": [
            "[1, 2, 4]\n",
            "1 2 3\n",
            "1 2 4\n"
          ]
        }
      ]
    },
    {
      "cell_type": "code",
      "source": [
        "l = [1,2,3,4, *[5,6,7]]\n",
        "\n",
        "for i in range(len(l)):\n",
        "  print(l[i])"
      ],
      "metadata": {
        "colab": {
          "base_uri": "https://localhost:8080/"
        },
        "id": "whRYtB0VPrej",
        "outputId": "8af06f50-782b-4ce3-b692-8463d0d100ec"
      },
      "execution_count": null,
      "outputs": [
        {
          "output_type": "stream",
          "name": "stdout",
          "text": [
            "1\n",
            "2\n",
            "3\n",
            "4\n",
            "5\n",
            "6\n",
            "7\n"
          ]
        }
      ]
    },
    {
      "cell_type": "code",
      "source": [
        "l1 = [2,3,4]\n",
        "l2 = [1, *l1, 5,6,7]\n",
        "print(l2)"
      ],
      "metadata": {
        "colab": {
          "base_uri": "https://localhost:8080/"
        },
        "id": "0vL-ux6fQUHi",
        "outputId": "139942a4-ada5-4732-8fe8-acf1e6f479b2"
      },
      "execution_count": null,
      "outputs": [
        {
          "output_type": "stream",
          "name": "stdout",
          "text": [
            "[1, 2, 3, 4, 5, 6, 7]\n"
          ]
        }
      ]
    },
    {
      "cell_type": "code",
      "source": [
        "class_students = [\"Ayaan\",\n",
        "\"chaitanya\",\n",
        "\"Dhairya\",\n",
        "\"Divyansh\",\n",
        "\"Shraiya\",\n",
        "\"Nidhi\",\n",
        "\"gokul\",\n",
        "\"Harsh\",\n",
        "\"Harshit\",\n",
        "\"Himanshu\",\n",
        "\"Nidhi\",\n",
        "\"Nusrat\",\n",
        "\"prince\",\n",
        "\"Radhika\",\n",
        "\"Vedant\",\n",
        "\"Harshit\",\n",
        "\"Divyansh\",\n",
        "\"mantraksha\",]\n",
        "\n",
        "res = \"Harshit\" in class_students\n",
        "print(res)\n",
        "\n",
        "ind = class_students.index(\"mantraksha\")\n",
        "print(ind, class_students[17])"
      ],
      "metadata": {
        "colab": {
          "base_uri": "https://localhost:8080/"
        },
        "id": "IQ6BvQolQt6g",
        "outputId": "c8881175-0eb7-4607-887a-b515a8eb4e01"
      },
      "execution_count": null,
      "outputs": [
        {
          "output_type": "stream",
          "name": "stdout",
          "text": [
            "True\n",
            "17 mantraksha\n"
          ]
        }
      ]
    },
    {
      "cell_type": "markdown",
      "source": [
        "# Tuple\n",
        "\n",
        "*   Immutable list\n",
        "*   `t = (1,2,3)`\n",
        "*   `t = (1,)` comma is necessary\n"
      ],
      "metadata": {
        "id": "QhYk6yW_SjQ2"
      }
    },
    {
      "cell_type": "code",
      "source": [
        "l = ['a', 'b', 'd', 'd']\n",
        "print(l)\n",
        "l[2] = 'c'\n",
        "print(l)\n",
        "\n",
        "l.append('e')\n",
        "print(l)"
      ],
      "metadata": {
        "colab": {
          "base_uri": "https://localhost:8080/"
        },
        "id": "J1F3mvBcSmAp",
        "outputId": "7a5f7df1-fc5a-4a6f-f7b2-e04b2a68dad3"
      },
      "execution_count": null,
      "outputs": [
        {
          "output_type": "stream",
          "name": "stdout",
          "text": [
            "['a', 'b', 'd', 'd']\n",
            "['a', 'b', 'c', 'd']\n",
            "['a', 'b', 'c', 'd', 'e']\n"
          ]
        }
      ]
    },
    {
      "cell_type": "code",
      "source": [
        "l = [1,2,3]\n",
        "t = tuple(l)\n",
        "\n",
        "print(t)"
      ],
      "metadata": {
        "colab": {
          "base_uri": "https://localhost:8080/"
        },
        "id": "t40TEMB5G1Hk",
        "outputId": "8e7ba518-657d-454c-ba79-a5ff32eed9f1"
      },
      "execution_count": 1,
      "outputs": [
        {
          "output_type": "stream",
          "name": "stdout",
          "text": [
            "(1, 2, 3)\n"
          ]
        }
      ]
    },
    {
      "cell_type": "code",
      "source": [
        "t = (1,2,3)\n",
        "print(type(t), t)\n",
        "\n",
        "print(t[0], t[1], t[2])\n",
        "# t[0] = 10      # error\n",
        "# t.append(10)   # error\n",
        "print(t)"
      ],
      "metadata": {
        "colab": {
          "base_uri": "https://localhost:8080/"
        },
        "id": "xQ6-gDikSheC",
        "outputId": "bef9fdad-9852-4169-88bb-d54805361931"
      },
      "execution_count": null,
      "outputs": [
        {
          "output_type": "stream",
          "name": "stdout",
          "text": [
            "<class 'tuple'> (1, 2, 3)\n",
            "1 2 3\n",
            "(1, 2, 3)\n"
          ]
        }
      ]
    },
    {
      "cell_type": "code",
      "source": [
        "t = ('abcd',) # if single element then , is necessary\n",
        "t = 8\n",
        "\n",
        "print(type(t), t)"
      ],
      "metadata": {
        "colab": {
          "base_uri": "https://localhost:8080/"
        },
        "id": "0t9xyfLJTnly",
        "outputId": "b5179f8c-2221-407f-8c03-924fadbffcb2"
      },
      "execution_count": null,
      "outputs": [
        {
          "output_type": "stream",
          "name": "stdout",
          "text": [
            "<class 'tuple'> ('abcd',)\n"
          ]
        }
      ]
    },
    {
      "cell_type": "code",
      "source": [
        "age, first_name, last_name = (22, 'Diwakar', 'Gupta')\n",
        "print(age)"
      ],
      "metadata": {
        "colab": {
          "base_uri": "https://localhost:8080/"
        },
        "id": "tGmYMQ2RT5KL",
        "outputId": "747ac0a9-933b-4c72-e933-5840dde28410"
      },
      "execution_count": null,
      "outputs": [
        {
          "output_type": "stream",
          "name": "stdout",
          "text": [
            "22\n"
          ]
        }
      ]
    },
    {
      "cell_type": "code",
      "source": [
        "t = (1, 2, [3, 'a', 'b'], 4 ,5)\n",
        "print(t)\n",
        "\n",
        "t[2].append('c')\n",
        "\n",
        "print(t)"
      ],
      "metadata": {
        "colab": {
          "base_uri": "https://localhost:8080/"
        },
        "id": "gKWvyvchUYMG",
        "outputId": "e3473e0c-f7dd-4232-f1c3-8077fbca2d16"
      },
      "execution_count": null,
      "outputs": [
        {
          "output_type": "stream",
          "name": "stdout",
          "text": [
            "(1, 2, [3, 'a', 'b'], 4, 5)\n",
            "(1, 2, [3, 'a', 'b', 'c'], 4, 5)\n"
          ]
        }
      ]
    },
    {
      "cell_type": "code",
      "source": [
        "l = [1, *[2,3], 4] # = [1, 2,3, 4]\n",
        "\n",
        "for i in range(len(l)):\n",
        "  print(i, l[i])"
      ],
      "metadata": {
        "colab": {
          "base_uri": "https://localhost:8080/"
        },
        "id": "oI4wjm48UiaU",
        "outputId": "74f671aa-309d-4cfb-bb3e-e18efc85fe54"
      },
      "execution_count": null,
      "outputs": [
        {
          "output_type": "stream",
          "name": "stdout",
          "text": [
            "0 1\n",
            "1 2\n",
            "2 3\n",
            "3 4\n"
          ]
        }
      ]
    },
    {
      "cell_type": "code",
      "source": [
        "def add(a, b, c):\n",
        "  return a+b+c\n",
        "\n",
        "print(add(2, 3, 4))\n",
        "\n",
        "l = [1,2,3]\n",
        "print(add(*l)) # = add(l[0], l[1], l[2])"
      ],
      "metadata": {
        "colab": {
          "base_uri": "https://localhost:8080/"
        },
        "id": "BLsYbbT5W8k5",
        "outputId": "c5990e28-064f-44bc-8584-fdc695fa3afd"
      },
      "execution_count": null,
      "outputs": [
        {
          "output_type": "stream",
          "name": "stdout",
          "text": [
            "9\n",
            "6\n"
          ]
        }
      ]
    },
    {
      "cell_type": "code",
      "source": [
        "# immutable\n",
        "\n",
        "days = ['sun', 'mon', 'tue', 'wed', 'thur', 'fri', 'sat']\n",
        "days = tuple(days)\n",
        "\n",
        "print(type(days), days)"
      ],
      "metadata": {
        "colab": {
          "base_uri": "https://localhost:8080/"
        },
        "id": "8mMOltGtZ5Hk",
        "outputId": "35f87959-cd30-44b7-a190-3640f865f9df"
      },
      "execution_count": null,
      "outputs": [
        {
          "output_type": "stream",
          "name": "stdout",
          "text": [
            "<class 'tuple'> ('sun', 'mon', 'tue', 'wed', 'thur', 'fri', 'sat')\n"
          ]
        }
      ]
    },
    {
      "cell_type": "markdown",
      "source": [
        "# Set\n",
        "\n",
        "list without duplicates\n",
        "\n",
        "\n",
        "\n",
        "1.   Set does not preserve insertion order\n",
        "2.   List item\n",
        "\n",
        "*  `s = set()` # create empty set\n",
        "*  add\n",
        "*  remove\n",
        "*  union\n",
        "*  intersection\n",
        "*  difference\n",
        "*  `'value' in set`"
      ],
      "metadata": {
        "id": "pCHYIWvlHE5G"
      }
    },
    {
      "cell_type": "code",
      "source": [
        "class_students = [\n",
        "\"anubhav\",\n",
        "\"Ayaan\",\n",
        "\"chaitanya\",\n",
        "\"Dhairya\",\n",
        "\"Divyansh\",\n",
        "\"Shraiya\",\n",
        "\"Nidhi\",\n",
        "\"gokul\",\n",
        "\"Mantraksha\",\n",
        "\"Harsh\",\n",
        "\"Harshit\",\n",
        "\"Harshit\",\n",
        "\"Himanshu\",\n",
        "\"nidhi\",\n",
        "\"Nusrat\",\n",
        "\"prince\",\n",
        "\"Radhika\",\n",
        "\"Vedant\",\n",
        "\"Harshit\",\n",
        "\"Divyansh\",\n",
        "\"mantraksha\",]"
      ],
      "metadata": {
        "id": "CkxRNZ4CaXuz"
      },
      "execution_count": 7,
      "outputs": []
    },
    {
      "cell_type": "code",
      "source": [
        "print(len(class_students))"
      ],
      "metadata": {
        "colab": {
          "base_uri": "https://localhost:8080/"
        },
        "id": "doTJwoU2HnJP",
        "outputId": "1771ffc4-e26b-49f1-9b21-d1344b32a702"
      },
      "execution_count": 8,
      "outputs": [
        {
          "output_type": "stream",
          "name": "stdout",
          "text": [
            "21\n"
          ]
        }
      ]
    },
    {
      "cell_type": "code",
      "source": [
        "total_student_withoutcase = set(class_students)\n",
        "print(f'Total number of unique strings {len(total_student_withoutcase)}')\n",
        "print(s)"
      ],
      "metadata": {
        "colab": {
          "base_uri": "https://localhost:8080/"
        },
        "id": "GyBt2aRmIfTP",
        "outputId": "ab505761-b774-47bd-bd91-2162ba8bcefc"
      },
      "execution_count": 14,
      "outputs": [
        {
          "output_type": "stream",
          "name": "stdout",
          "text": [
            "Total number of unique strings 18\n",
            "{'chaitanya', 'anubhav', 'Shraiya', 'Himanshu', 'Vedant', 'Mantraksha', 'Divyansh', 'Harshit', 'Nusrat', 'gokul', 'nidhi', 'prince', 'mantraksha', 'Nidhi', 'Harsh', 'Radhika', 'Dhairya', 'Ayaan'}\n"
          ]
        }
      ]
    },
    {
      "cell_type": "code",
      "source": [
        "total_student_case = []\n",
        "\n",
        "for name in class_students:\n",
        "  total_student_case.append(name.lower())\n",
        "\n",
        "s = set(total_student_case)\n",
        "print(len(s))"
      ],
      "metadata": {
        "colab": {
          "base_uri": "https://localhost:8080/"
        },
        "id": "4gQBte0SI8aM",
        "outputId": "1a6bc98a-a3f1-4495-e063-8fbdd5d4e1bb"
      },
      "execution_count": 18,
      "outputs": [
        {
          "output_type": "stream",
          "name": "stdout",
          "text": [
            "16\n"
          ]
        }
      ]
    },
    {
      "cell_type": "code",
      "source": [
        "total_student_case = set()\n",
        "\n",
        "for name in class_students:\n",
        "  total_student_case.add(name.lower())\n",
        "\n",
        "print(len(total_student_case))\n",
        "print(total_student_case)"
      ],
      "metadata": {
        "colab": {
          "base_uri": "https://localhost:8080/"
        },
        "id": "rQFJamlCKU-s",
        "outputId": "a4e5e560-3377-4c35-f3b6-90a326ec496c"
      },
      "execution_count": 21,
      "outputs": [
        {
          "output_type": "stream",
          "name": "stdout",
          "text": [
            "16\n",
            "{'chaitanya', 'anubhav', 'harshit', 'vedant', 'harsh', 'prince', 'nidhi', 'gokul', 'mantraksha', 'dhairya', 'shraiya', 'nusrat', 'divyansh', 'ayaan', 'himanshu', 'radhika'}\n"
          ]
        }
      ]
    },
    {
      "cell_type": "code",
      "source": [
        "s = set()\n",
        "s.add(2)\n",
        "print(s)\n",
        "s.add(1)\n",
        "print(s)\n",
        "s.add(2)\n",
        "print(s)\n",
        "s.add(3)\n",
        "print(s)\n",
        "s.add('hii')\n",
        "print(s)"
      ],
      "metadata": {
        "colab": {
          "base_uri": "https://localhost:8080/"
        },
        "id": "JjwUnfBdKzJl",
        "outputId": "9f2c31c3-063b-491c-b5d3-c7c3ddb49237"
      },
      "execution_count": 44,
      "outputs": [
        {
          "output_type": "stream",
          "name": "stdout",
          "text": [
            "{2}\n",
            "{1, 2}\n",
            "{1, 2}\n",
            "{1, 2, 3}\n",
            "{1, 2, 3, 'hii'}\n"
          ]
        }
      ]
    },
    {
      "cell_type": "code",
      "source": [
        "s = {'Diwakar', 'diwakar'}\n",
        "print(s)\n",
        "s.remove('diwakar')\n",
        "print(s)\n",
        "\n",
        "print('Diwakar' in s)"
      ],
      "metadata": {
        "colab": {
          "base_uri": "https://localhost:8080/"
        },
        "id": "FD9R6YZ2K4h-",
        "outputId": "68ea5657-35bc-40f2-cc9a-e4d4ed356965"
      },
      "execution_count": 55,
      "outputs": [
        {
          "output_type": "stream",
          "name": "stdout",
          "text": [
            "{'diwakar', 'Diwakar'}\n",
            "{'Diwakar'}\n",
            "True\n"
          ]
        }
      ]
    },
    {
      "cell_type": "code",
      "source": [
        "print(dir(s))"
      ],
      "metadata": {
        "colab": {
          "base_uri": "https://localhost:8080/"
        },
        "id": "i74jxIT9OJzP",
        "outputId": "c18832de-888d-4494-9419-0458e53453ca"
      },
      "execution_count": 52,
      "outputs": [
        {
          "output_type": "stream",
          "name": "stdout",
          "text": [
            "['__and__', '__class__', '__contains__', '__delattr__', '__dir__', '__doc__', '__eq__', '__format__', '__ge__', '__getattribute__', '__gt__', '__hash__', '__iand__', '__init__', '__init_subclass__', '__ior__', '__isub__', '__iter__', '__ixor__', '__le__', '__len__', '__lt__', '__ne__', '__new__', '__or__', '__rand__', '__reduce__', '__reduce_ex__', '__repr__', '__ror__', '__rsub__', '__rxor__', '__setattr__', '__sizeof__', '__str__', '__sub__', '__subclasshook__', '__xor__', 'add', 'clear', 'copy', 'difference', 'difference_update', 'discard', 'intersection', 'intersection_update', 'isdisjoint', 'issubset', 'issuperset', 'pop', 'remove', 'symmetric_difference', 'symmetric_difference_update', 'union', 'update']\n"
          ]
        }
      ]
    },
    {
      "cell_type": "code",
      "source": [
        "s1 = {1,2,3,4}\n",
        "s2 = {2,4,5,6,7,8}\n",
        "\n",
        "print(s1.union(s2))\n",
        "print(s1.intersection(s2))\n",
        "print(s2 - s1)"
      ],
      "metadata": {
        "colab": {
          "base_uri": "https://localhost:8080/"
        },
        "id": "PEx2JPuaK7NK",
        "outputId": "f85abb70-96c9-48ef-fa00-b84ccf160382"
      },
      "execution_count": 67,
      "outputs": [
        {
          "output_type": "stream",
          "name": "stdout",
          "text": [
            "{1, 2, 3, 4, 5, 6, 7, 8}\n",
            "{2, 4}\n",
            "{8, 5, 6, 7}\n"
          ]
        }
      ]
    },
    {
      "cell_type": "markdown",
      "source": [
        "Question: https://www.hackerrank.com/challenges/py-set-add/problem?isFullScreen=true"
      ],
      "metadata": {
        "id": "-lHbLlpSVGc5"
      }
    },
    {
      "cell_type": "code",
      "source": [
        "n = int(input())\n",
        "\n",
        "s = set()\n",
        "for i in range(n):\n",
        "    name = input()\n",
        "    s.add(name)\n",
        "\n",
        "print(len(s))"
      ],
      "metadata": {
        "id": "zwg77zGrbglt"
      },
      "execution_count": null,
      "outputs": []
    },
    {
      "cell_type": "markdown",
      "source": [
        "# Dictionary / Map\n",
        "\n",
        "in other languages this is called `hashmap`\n",
        "\n",
        "key, value pair"
      ],
      "metadata": {
        "id": "JcBwPdC1QQmy"
      }
    },
    {
      "cell_type": "code",
      "source": [
        "# student -> phone number\n",
        "\n",
        "d = {\n",
        "    'Gokul': 12345,\n",
        "    'Dhairya': 3456,\n",
        "    789: '890'\n",
        "}\n",
        "\n",
        "print(d)\n",
        "print(d['Gokul'])\n",
        "print('Diwakar' in d)"
      ],
      "metadata": {
        "colab": {
          "base_uri": "https://localhost:8080/"
        },
        "id": "dxWxnMGwQbK3",
        "outputId": "fdd069ff-b9f9-42ff-b17b-811d25e7d1ac"
      },
      "execution_count": 88,
      "outputs": [
        {
          "output_type": "stream",
          "name": "stdout",
          "text": [
            "{'Gokul': 12345, 'Dhairya': 3456, 789: '890'}\n",
            "12345\n",
            "False\n"
          ]
        }
      ]
    },
    {
      "cell_type": "code",
      "source": [
        "capital = {\n",
        "    'India': 'Delhi',\n",
        "    'CG': 'RAIPUR'\n",
        "}\n",
        "print(capital)\n",
        "populations = {\n",
        "    'India': 110,\n",
        "    'Bangla': 32,\n",
        "}\n",
        "print(populations)\n",
        "print(populations['India'])\n",
        "print(populations.get('India'))\n",
        "populations['India'] = 100\n",
        "print(populations['India'])"
      ],
      "metadata": {
        "colab": {
          "base_uri": "https://localhost:8080/"
        },
        "id": "idjzpKisQbCE",
        "outputId": "5db8a0cd-f6ae-4cac-d985-b95567857e1c"
      },
      "execution_count": 83,
      "outputs": [
        {
          "output_type": "stream",
          "name": "stdout",
          "text": [
            "{'India': 'Delhi', 'CG': 'RAIPUR'}\n",
            "{'India': 110, 'Bangla': 32}\n",
            "110\n",
            "110\n",
            "100\n"
          ]
        }
      ]
    },
    {
      "cell_type": "code",
      "source": [
        "print('UK' in populations)\n",
        "populations['UK'] = 55\n",
        "print('UK' in populations)"
      ],
      "metadata": {
        "colab": {
          "base_uri": "https://localhost:8080/"
        },
        "id": "7De97JfRTMXm",
        "outputId": "1713941e-1e4b-4c32-af28-2b4a22709c96"
      },
      "execution_count": 84,
      "outputs": [
        {
          "output_type": "stream",
          "name": "stdout",
          "text": [
            "False\n",
            "True\n"
          ]
        }
      ]
    },
    {
      "cell_type": "code",
      "source": [
        "print(populations)\n",
        "print(populations.keys())\n",
        "print(populations.values())"
      ],
      "metadata": {
        "colab": {
          "base_uri": "https://localhost:8080/"
        },
        "id": "UFK9HzvpT19p",
        "outputId": "72c5be7a-72db-4d73-ae0e-c82da94777c7"
      },
      "execution_count": 85,
      "outputs": [
        {
          "output_type": "stream",
          "name": "stdout",
          "text": [
            "{'India': 100, 'Bangla': 32, 'UK': 55}\n",
            "dict_keys(['India', 'Bangla', 'UK'])\n",
            "dict_values([100, 32, 55])\n"
          ]
        }
      ]
    },
    {
      "cell_type": "markdown",
      "source": [
        "# Class / Object"
      ],
      "metadata": {
        "id": "ItDXf91oPp1u"
      }
    },
    {
      "cell_type": "code",
      "source": [
        "class MediaPlayer:\n",
        "    def playSong():\n",
        "        #\n",
        "\n",
        "    def pauseSOng():\n",
        "        #\n",
        "\n",
        "class Person:\n",
        "    def sayHii():\n",
        "        #"
      ],
      "metadata": {
        "id": "-9pMQoGHfp_y"
      },
      "execution_count": null,
      "outputs": []
    },
    {
      "cell_type": "code",
      "source": [
        "class Person:\n",
        "\n",
        "    def __init__(self, n='Diwakar', a=22):\n",
        "        self.name = n\n",
        "        self.age = a\n",
        "\n",
        "    def sayHii(self):\n",
        "        print(self.name, self.age)\n",
        "\n",
        "p1 = Person('Diwakar')\n",
        "p2 = Person('Ayaan', 21)\n",
        "\n",
        "# p2 = p1\n",
        "\n",
        "p1.age = 25\n",
        "\n",
        "p1.sayHii()\n",
        "p2.sayHii()"
      ],
      "metadata": {
        "colab": {
          "base_uri": "https://localhost:8080/"
        },
        "id": "yeQM4jmpeIqK",
        "outputId": "9a2119e9-fae1-45eb-ebd9-7445dcb72dad"
      },
      "execution_count": 103,
      "outputs": [
        {
          "output_type": "stream",
          "name": "stdout",
          "text": [
            "Diwakar 25\n",
            "Ayaan 21\n"
          ]
        }
      ]
    }
  ]
}