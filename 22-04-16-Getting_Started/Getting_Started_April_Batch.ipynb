{
  "nbformat": 4,
  "nbformat_minor": 0,
  "metadata": {
    "colab": {
      "name": "Getting Started April Batch.ipynb",
      "provenance": [],
      "collapsed_sections": [],
      "toc_visible": true,
      "authorship_tag": "ABX9TyPhH7a8ghmzveAgXGBkQ4ZS",
      "include_colab_link": true
    },
    "kernelspec": {
      "name": "python3",
      "display_name": "Python 3"
    },
    "language_info": {
      "name": "python"
    }
  },
  "cells": [
    {
      "cell_type": "markdown",
      "metadata": {
        "id": "view-in-github",
        "colab_type": "text"
      },
      "source": [
        "<a href=\"https://colab.research.google.com/github/Diwakar-Gupta/Data-Science-APRIL/blob/main/22-04-16-Getting_Started/Getting_Started_April_Batch.ipynb\" target=\"_parent\"><img src=\"https://colab.research.google.com/assets/colab-badge.svg\" alt=\"Open In Colab\"/></a>"
      ]
    },
    {
      "cell_type": "markdown",
      "source": [
        "Notes -> https://1drv.ms/o/s!AmSu_rSXl5m3i0Pm8zsnFmpuqowO"
      ],
      "metadata": {
        "id": "TwOi8L4EWeU-"
      }
    },
    {
      "cell_type": "markdown",
      "source": [
        "Getting Started with python\n",
        "\n",
        "\n",
        "\n",
        "*   IO\n",
        "    *  Data Type\n",
        "*   Conditions\n",
        "    *  if else\n",
        "    *  if elif else\n",
        "*   Loop\n",
        "*   Functions\n",
        "*   String\n",
        "*   List\n",
        "*   Set\n",
        "*   Tuple\n",
        "*   Map\n",
        "*   Class Object\n",
        "\n"
      ],
      "metadata": {
        "id": "GjCCyi5aIMWz"
      }
    },
    {
      "cell_type": "markdown",
      "source": [
        "# IO"
      ],
      "metadata": {
        "id": "HaX_RerVMbaK"
      }
    },
    {
      "cell_type": "code",
      "source": [
        "print('hello Peppy')"
      ],
      "metadata": {
        "colab": {
          "base_uri": "https://localhost:8080/"
        },
        "id": "dVq6qoZsIK90",
        "outputId": "6e921516-0683-4d45-a2c3-d6e020ff8734"
      },
      "execution_count": 2,
      "outputs": [
        {
          "output_type": "stream",
          "name": "stdout",
          "text": [
            "hello Peppy\n"
          ]
        }
      ]
    },
    {
      "cell_type": "markdown",
      "source": [
        "Problem -> https://nados.io/question/print-z?zen=true"
      ],
      "metadata": {
        "id": "PKsJoenCMW3I"
      }
    },
    {
      "cell_type": "code",
      "execution_count": 6,
      "metadata": {
        "colab": {
          "base_uri": "https://localhost:8080/"
        },
        "id": "dFFOIg5DH_dt",
        "outputId": "f79b7667-3c94-45e0-c3a5-1870c7f1a90a"
      },
      "outputs": [
        {
          "output_type": "stream",
          "name": "stdout",
          "text": [
            "25\n"
          ]
        }
      ],
      "source": [
        "x=5\n",
        "# x=7\n",
        "ans = x*x\n",
        "print(ans)"
      ]
    },
    {
      "cell_type": "markdown",
      "source": [
        "Problem -> https://www.hackerrank.com/challenges/python-division/problem?isFullScreen=false"
      ],
      "metadata": {
        "id": "EVTjA7NsN6fq"
      }
    },
    {
      "cell_type": "code",
      "source": [
        "a=3\n",
        "b=2\n",
        "print(a/b)\n",
        "print(a//b)"
      ],
      "metadata": {
        "colab": {
          "base_uri": "https://localhost:8080/"
        },
        "id": "3j2tT9oxN7j0",
        "outputId": "ee8049c9-0890-4359-b5db-b04048b9993d"
      },
      "execution_count": 8,
      "outputs": [
        {
          "output_type": "stream",
          "name": "stdout",
          "text": [
            "1.5\n",
            "1\n"
          ]
        }
      ]
    },
    {
      "cell_type": "code",
      "source": [
        "a = input() # input from keyboard in string format\n",
        "print('Hii ' + a)"
      ],
      "metadata": {
        "colab": {
          "base_uri": "https://localhost:8080/"
        },
        "id": "SNUIzHuIRaT8",
        "outputId": "9f2e913a-9272-4e5d-f82f-12759e0c12de"
      },
      "execution_count": 10,
      "outputs": [
        {
          "output_type": "stream",
          "name": "stdout",
          "text": [
            "7890\n",
            "Hii 7890\n"
          ]
        }
      ]
    },
    {
      "cell_type": "code",
      "source": [
        "a=123\n",
        "b=12.345\n",
        "c='Hii bye my number is 1234566 #%&* '\n",
        "\n",
        "print(type(a))\n",
        "print(type(b))\n",
        "print(type(c))"
      ],
      "metadata": {
        "colab": {
          "base_uri": "https://localhost:8080/"
        },
        "id": "YSug64VMS2Zy",
        "outputId": "42fa5a3e-5faa-4def-d8cf-5ae1920cd8e1"
      },
      "execution_count": 13,
      "outputs": [
        {
          "output_type": "stream",
          "name": "stdout",
          "text": [
            "<class 'int'>\n",
            "<class 'float'>\n",
            "<class 'str'>\n"
          ]
        }
      ]
    },
    {
      "cell_type": "markdown",
      "source": [
        "variable name can only contains \n",
        "\n",
        "*   digit\n",
        "*   alphabet\n",
        "*   _\n",
        "\n",
        "name cannot start with digit"
      ],
      "metadata": {
        "id": "c8raaHRdUDK8"
      }
    },
    {
      "cell_type": "code",
      "source": [
        "_abc34 = 89\n",
        "print(_abc34)"
      ],
      "metadata": {
        "colab": {
          "base_uri": "https://localhost:8080/"
        },
        "id": "aAW_s8LZTIqP",
        "outputId": "2ed70c62-3791-4613-ef87-3c9dfc206bbd"
      },
      "execution_count": 16,
      "outputs": [
        {
          "output_type": "stream",
          "name": "stdout",
          "text": [
            "89\n"
          ]
        }
      ]
    },
    {
      "cell_type": "markdown",
      "source": [
        "# run os commands"
      ],
      "metadata": {
        "id": "Go2q6eR4VjfR"
      }
    },
    {
      "cell_type": "code",
      "source": [
        "! cat ./sample_data/README.md"
      ],
      "metadata": {
        "colab": {
          "base_uri": "https://localhost:8080/"
        },
        "id": "dkzNqfTkVHW0",
        "outputId": "f4e0dd17-eb3c-4171-eebd-221b50573ae5"
      },
      "execution_count": 17,
      "outputs": [
        {
          "output_type": "stream",
          "name": "stdout",
          "text": [
            "This directory includes a few sample datasets to get you started.\n",
            "\n",
            "*   `california_housing_data*.csv` is California housing data from the 1990 US\n",
            "    Census; more information is available at:\n",
            "    https://developers.google.com/machine-learning/crash-course/california-housing-data-description\n",
            "\n",
            "*   `mnist_*.csv` is a small sample of the\n",
            "    [MNIST database](https://en.wikipedia.org/wiki/MNIST_database), which is\n",
            "    described at: http://yann.lecun.com/exdb/mnist/\n",
            "\n",
            "*   `anscombe.json` contains a copy of\n",
            "    [Anscombe's quartet](https://en.wikipedia.org/wiki/Anscombe%27s_quartet); it\n",
            "    was originally described in\n",
            "\n",
            "    Anscombe, F. J. (1973). 'Graphs in Statistical Analysis'. American\n",
            "    Statistician. 27 (1): 17-21. JSTOR 2682899.\n",
            "\n",
            "    and our copy was prepared by the\n",
            "    [vega_datasets library](https://github.com/altair-viz/vega_datasets/blob/4f67bdaad10f45e3549984e17e1b3088c731503d/vega_datasets/_data/anscombe.json).\n"
          ]
        }
      ]
    },
    {
      "cell_type": "markdown",
      "source": [
        "# Conditions"
      ],
      "metadata": {
        "id": "r9sbVbBVclUY"
      }
    },
    {
      "cell_type": "code",
      "source": [
        "age = 23\n",
        "\n",
        "if age <= 18:\n",
        "    print('Balik')\n",
        "    print('Baccha hai')\n",
        "else:\n",
        "    print('Na Balik')\n",
        "    print('Baccha nii h')\n",
        "\n",
        "\n",
        "print('outside if block')"
      ],
      "metadata": {
        "colab": {
          "base_uri": "https://localhost:8080/"
        },
        "id": "HKrfgVl8cmjt",
        "outputId": "3158937e-5472-4000-f432-0073c39dd158"
      },
      "execution_count": 27,
      "outputs": [
        {
          "output_type": "stream",
          "name": "stdout",
          "text": [
            "Na Balik\n",
            "Baccha nii h\n",
            "outside if block\n"
          ]
        }
      ]
    },
    {
      "cell_type": "markdown",
      "source": [
        "## Nested If Else"
      ],
      "metadata": {
        "id": "c69tqOa4fUCI"
      }
    },
    {
      "cell_type": "code",
      "source": [
        "age = 17\n",
        "\n",
        "if age <= 18:\n",
        "    print('Baccha hai')\n",
        "else:\n",
        "    if age<=50:\n",
        "      print('Jawan hai')\n",
        "    else:\n",
        "      print('Old man')\n",
        "\n",
        "\n",
        "print('outside if block')"
      ],
      "metadata": {
        "colab": {
          "base_uri": "https://localhost:8080/"
        },
        "id": "6zL8Z5tFej_H",
        "outputId": "3e5110dc-7e63-42d0-b4c8-4b68ac27bd6a"
      },
      "execution_count": 30,
      "outputs": [
        {
          "output_type": "stream",
          "name": "stdout",
          "text": [
            "Baccha hai\n",
            "outside if block\n"
          ]
        }
      ]
    },
    {
      "cell_type": "markdown",
      "source": [
        "## ELIF"
      ],
      "metadata": {
        "id": "_dgts8Q3fv1H"
      }
    },
    {
      "cell_type": "code",
      "source": [
        "age = 23\n",
        "\n",
        "if age <= 18:\n",
        "    print('Baccha hai')\n",
        "elif age <= 50:\n",
        "    print('Jawan hai')\n",
        "else:\n",
        "    print('else')\n",
        "\n",
        "print('outside if block')"
      ],
      "metadata": {
        "colab": {
          "base_uri": "https://localhost:8080/"
        },
        "id": "RzUbIijxfXjc",
        "outputId": "fd7ef3d8-3a3d-4b4b-c132-0391a5e8e5a2"
      },
      "execution_count": 40,
      "outputs": [
        {
          "output_type": "stream",
          "name": "stdout",
          "text": [
            "Jawan hai\n",
            "outside if block\n"
          ]
        }
      ]
    },
    {
      "cell_type": "markdown",
      "source": [
        "problem -> https://www.hackerrank.com/challenges/py-if-else/problem?isFullScreen=false"
      ],
      "metadata": {
        "id": "xhv3E5SUjtQi"
      }
    },
    {
      "cell_type": "code",
      "source": [
        ""
      ],
      "metadata": {
        "id": "hSztK4XkjuxF"
      },
      "execution_count": null,
      "outputs": []
    }
  ]
}