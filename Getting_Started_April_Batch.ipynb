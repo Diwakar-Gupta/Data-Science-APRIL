{
  "nbformat": 4,
  "nbformat_minor": 0,
  "metadata": {
    "colab": {
      "name": "Getting Started April Batch.ipynb",
      "provenance": [],
      "collapsed_sections": [],
      "toc_visible": true,
      "authorship_tag": "ABX9TyPh/D5mxuKyEB8eOSASlERe",
      "include_colab_link": true
    },
    "kernelspec": {
      "name": "python3",
      "display_name": "Python 3"
    },
    "language_info": {
      "name": "python"
    }
  },
  "cells": [
    {
      "cell_type": "markdown",
      "metadata": {
        "id": "view-in-github",
        "colab_type": "text"
      },
      "source": [
        "<a href=\"https://colab.research.google.com/github/Diwakar-Gupta/Data-Science-APRIL/blob/main/Getting_Started_April_Batch.ipynb\" target=\"_parent\"><img src=\"https://colab.research.google.com/assets/colab-badge.svg\" alt=\"Open In Colab\"/></a>"
      ]
    },
    {
      "cell_type": "markdown",
      "source": [
        "Notes -> https://1drv.ms/o/s!AmSu_rSXl5m3i0Pm8zsnFmpuqowO"
      ],
      "metadata": {
        "id": "TwOi8L4EWeU-"
      }
    },
    {
      "cell_type": "markdown",
      "source": [
        "Getting Started with python\n",
        "\n",
        "\n",
        "\n",
        "*   IO\n",
        "    *  Data Type\n",
        "*   Conditions\n",
        "    *  if else\n",
        "    *  if elif else\n",
        "*   Loop\n",
        "*   Functions\n",
        "*   String\n",
        "*   List\n",
        "*   Set\n",
        "*   Tuple\n",
        "*   Map\n",
        "*   Class Object\n",
        "\n"
      ],
      "metadata": {
        "id": "GjCCyi5aIMWz"
      }
    },
    {
      "cell_type": "markdown",
      "source": [
        "# IO"
      ],
      "metadata": {
        "id": "HaX_RerVMbaK"
      }
    },
    {
      "cell_type": "code",
      "source": [
        "print('hello Peppy')"
      ],
      "metadata": {
        "colab": {
          "base_uri": "https://localhost:8080/"
        },
        "id": "dVq6qoZsIK90",
        "outputId": "98d0095e-a16d-4590-c9ec-63d6f93fa600"
      },
      "execution_count": 1,
      "outputs": [
        {
          "output_type": "stream",
          "name": "stdout",
          "text": [
            "hello Peppy\n"
          ]
        }
      ]
    },
    {
      "cell_type": "markdown",
      "source": [
        "Problem -> https://nados.io/question/print-z?zen=true"
      ],
      "metadata": {
        "id": "PKsJoenCMW3I"
      }
    },
    {
      "cell_type": "code",
      "execution_count": null,
      "metadata": {
        "colab": {
          "base_uri": "https://localhost:8080/"
        },
        "id": "dFFOIg5DH_dt",
        "outputId": "f79b7667-3c94-45e0-c3a5-1870c7f1a90a"
      },
      "outputs": [
        {
          "output_type": "stream",
          "name": "stdout",
          "text": [
            "25\n"
          ]
        }
      ],
      "source": [
        "x=5\n",
        "# x=7\n",
        "ans = x*x\n",
        "print(ans)"
      ]
    },
    {
      "cell_type": "markdown",
      "source": [
        "Problem -> https://www.hackerrank.com/challenges/python-division/problem?isFullScreen=false"
      ],
      "metadata": {
        "id": "EVTjA7NsN6fq"
      }
    },
    {
      "cell_type": "code",
      "source": [
        "a=3\n",
        "b=2\n",
        "print(a/b) # 3/2\n",
        "print(a//b)"
      ],
      "metadata": {
        "colab": {
          "base_uri": "https://localhost:8080/"
        },
        "id": "3j2tT9oxN7j0",
        "outputId": "ee8049c9-0890-4359-b5db-b04048b9993d"
      },
      "execution_count": null,
      "outputs": [
        {
          "output_type": "stream",
          "name": "stdout",
          "text": [
            "1.5\n",
            "1\n"
          ]
        }
      ]
    },
    {
      "cell_type": "code",
      "source": [
        "a = input() # input from keyboard in string format\n",
        "print('Hii ' + a)"
      ],
      "metadata": {
        "colab": {
          "base_uri": "https://localhost:8080/"
        },
        "id": "SNUIzHuIRaT8",
        "outputId": "83d468e8-a882-49e8-d177-44df52c6fb66"
      },
      "execution_count": 2,
      "outputs": [
        {
          "output_type": "stream",
          "name": "stdout",
          "text": [
            "DIwakar\n",
            "Hii DIwakar\n"
          ]
        }
      ]
    },
    {
      "cell_type": "code",
      "source": [
        "a=123\n",
        "b=12.345\n",
        "c='Hii bye my number is 1234566 #%&* '\n",
        "d = 2==3 # False\n",
        "\n",
        "print(type(a))\n",
        "print(type(b))\n",
        "print(type(c))\n",
        "print(type(d))"
      ],
      "metadata": {
        "colab": {
          "base_uri": "https://localhost:8080/"
        },
        "id": "YSug64VMS2Zy",
        "outputId": "54097d6e-a5e7-4619-eb8e-77ca3dce2f8c"
      },
      "execution_count": 5,
      "outputs": [
        {
          "output_type": "stream",
          "name": "stdout",
          "text": [
            "<class 'int'>\n",
            "<class 'float'>\n",
            "<class 'str'>\n",
            "<class 'bool'>\n"
          ]
        }
      ]
    },
    {
      "cell_type": "markdown",
      "source": [
        "variable name can only contains \n",
        "\n",
        "*   digit\n",
        "*   alphabet\n",
        "*   _\n",
        "\n",
        "name cannot start with digit"
      ],
      "metadata": {
        "id": "c8raaHRdUDK8"
      }
    },
    {
      "cell_type": "code",
      "source": [
        "_abc34 = 89\n",
        "print(_abc34)"
      ],
      "metadata": {
        "colab": {
          "base_uri": "https://localhost:8080/"
        },
        "id": "aAW_s8LZTIqP",
        "outputId": "2ed70c62-3791-4613-ef87-3c9dfc206bbd"
      },
      "execution_count": null,
      "outputs": [
        {
          "output_type": "stream",
          "name": "stdout",
          "text": [
            "89\n"
          ]
        }
      ]
    },
    {
      "cell_type": "markdown",
      "source": [
        "# run os commands"
      ],
      "metadata": {
        "id": "Go2q6eR4VjfR"
      }
    },
    {
      "cell_type": "code",
      "source": [
        "! cat ./sample_data/README.md"
      ],
      "metadata": {
        "colab": {
          "base_uri": "https://localhost:8080/"
        },
        "id": "dkzNqfTkVHW0",
        "outputId": "f4e0dd17-eb3c-4171-eebd-221b50573ae5"
      },
      "execution_count": null,
      "outputs": [
        {
          "output_type": "stream",
          "name": "stdout",
          "text": [
            "This directory includes a few sample datasets to get you started.\n",
            "\n",
            "*   `california_housing_data*.csv` is California housing data from the 1990 US\n",
            "    Census; more information is available at:\n",
            "    https://developers.google.com/machine-learning/crash-course/california-housing-data-description\n",
            "\n",
            "*   `mnist_*.csv` is a small sample of the\n",
            "    [MNIST database](https://en.wikipedia.org/wiki/MNIST_database), which is\n",
            "    described at: http://yann.lecun.com/exdb/mnist/\n",
            "\n",
            "*   `anscombe.json` contains a copy of\n",
            "    [Anscombe's quartet](https://en.wikipedia.org/wiki/Anscombe%27s_quartet); it\n",
            "    was originally described in\n",
            "\n",
            "    Anscombe, F. J. (1973). 'Graphs in Statistical Analysis'. American\n",
            "    Statistician. 27 (1): 17-21. JSTOR 2682899.\n",
            "\n",
            "    and our copy was prepared by the\n",
            "    [vega_datasets library](https://github.com/altair-viz/vega_datasets/blob/4f67bdaad10f45e3549984e17e1b3088c731503d/vega_datasets/_data/anscombe.json).\n"
          ]
        }
      ]
    },
    {
      "cell_type": "markdown",
      "source": [
        "# Conditions"
      ],
      "metadata": {
        "id": "r9sbVbBVclUY"
      }
    },
    {
      "cell_type": "code",
      "source": [
        "age = 12\n",
        "\n",
        "if age <= 18:\n",
        "    print('Balik')\n",
        "    print('Baccha hai')\n",
        "else:\n",
        "    print('Na Balik')\n",
        "    print('Baccha nii h')\n",
        "\n",
        "\n",
        "print('outside if block')"
      ],
      "metadata": {
        "colab": {
          "base_uri": "https://localhost:8080/"
        },
        "id": "HKrfgVl8cmjt",
        "outputId": "6d90194e-3d2f-434f-cd1b-af8301feca2f"
      },
      "execution_count": 8,
      "outputs": [
        {
          "output_type": "stream",
          "name": "stdout",
          "text": [
            "Balik\n",
            "Baccha hai\n",
            "outside if block\n"
          ]
        }
      ]
    },
    {
      "cell_type": "markdown",
      "source": [
        "## Nested If Else"
      ],
      "metadata": {
        "id": "c69tqOa4fUCI"
      }
    },
    {
      "cell_type": "code",
      "source": [
        "age = 17\n",
        "\n",
        "if age <= 18:\n",
        "    print('Baccha hai')\n",
        "else:\n",
        "    if age<=50:\n",
        "      print('Jawan hai')\n",
        "    else:\n",
        "      print('Old man')\n",
        "\n",
        "\n",
        "print('outside if block')"
      ],
      "metadata": {
        "colab": {
          "base_uri": "https://localhost:8080/"
        },
        "id": "6zL8Z5tFej_H",
        "outputId": "3e5110dc-7e63-42d0-b4c8-4b68ac27bd6a"
      },
      "execution_count": null,
      "outputs": [
        {
          "output_type": "stream",
          "name": "stdout",
          "text": [
            "Baccha hai\n",
            "outside if block\n"
          ]
        }
      ]
    },
    {
      "cell_type": "markdown",
      "source": [
        "## ELIF"
      ],
      "metadata": {
        "id": "_dgts8Q3fv1H"
      }
    },
    {
      "cell_type": "code",
      "source": [
        "age = 23\n",
        "\n",
        "if age <= 18:\n",
        "    print('Baccha hai')\n",
        "elif age <= 50:\n",
        "    print('Jawan hai')\n",
        "else:\n",
        "    print('else')\n",
        "\n",
        "print('outside if block')"
      ],
      "metadata": {
        "colab": {
          "base_uri": "https://localhost:8080/"
        },
        "id": "RzUbIijxfXjc",
        "outputId": "fd7ef3d8-3a3d-4b4b-c132-0391a5e8e5a2"
      },
      "execution_count": null,
      "outputs": [
        {
          "output_type": "stream",
          "name": "stdout",
          "text": [
            "Jawan hai\n",
            "outside if block\n"
          ]
        }
      ]
    },
    {
      "cell_type": "markdown",
      "source": [
        "problem -> https://www.hackerrank.com/challenges/py-if-else/problem?isFullScreen=false"
      ],
      "metadata": {
        "id": "xhv3E5SUjtQi"
      }
    },
    {
      "cell_type": "markdown",
      "source": [
        "# Loop\n",
        "\n",
        "`range(start, stop, step)`\n",
        "*  start : included\n",
        "*  stop : excluded\n",
        "*  step : step size\n",
        "\n",
        "Create Ways\n",
        "*  range(3)          [0, 3)\n",
        "*  range(2, 7)       [2, 7)\n",
        "*  range(2, 7, 3)    [2, 7) +3 2,5"
      ],
      "metadata": {
        "id": "tsMSg7Ruj1SH"
      }
    },
    {
      "cell_type": "code",
      "source": [
        "for i in range(2, 8):\n",
        "  print(i)"
      ],
      "metadata": {
        "colab": {
          "base_uri": "https://localhost:8080/"
        },
        "id": "GuN4BbrPlNGl",
        "outputId": "423d043a-3efc-48a9-bbf8-ab5be66e29a7"
      },
      "execution_count": 85,
      "outputs": [
        {
          "output_type": "stream",
          "name": "stdout",
          "text": [
            "2\n",
            "3\n",
            "4\n",
            "5\n",
            "6\n",
            "7\n"
          ]
        }
      ]
    },
    {
      "cell_type": "code",
      "source": [
        "for i in range(2, 12, 3):\n",
        "  print(i)"
      ],
      "metadata": {
        "colab": {
          "base_uri": "https://localhost:8080/"
        },
        "id": "t8HrWXVnm73a",
        "outputId": "e9c490e2-77a6-4302-e4f1-b8f5d0239cd3"
      },
      "execution_count": 26,
      "outputs": [
        {
          "output_type": "stream",
          "name": "stdout",
          "text": [
            "2\n",
            "5\n",
            "8\n",
            "11\n"
          ]
        }
      ]
    },
    {
      "cell_type": "code",
      "source": [
        "for i in range(7, 2, -1):\n",
        "  print(\"Hello\", i)"
      ],
      "metadata": {
        "colab": {
          "base_uri": "https://localhost:8080/"
        },
        "id": "4F_YlfnCoReH",
        "outputId": "2f96cbf4-9822-4590-e165-cf5ad4b0feda"
      },
      "execution_count": 27,
      "outputs": [
        {
          "output_type": "stream",
          "name": "stdout",
          "text": [
            "Hello 7\n",
            "Hello 6\n",
            "Hello 5\n",
            "Hello 4\n",
            "Hello 3\n"
          ]
        }
      ]
    },
    {
      "cell_type": "code",
      "source": [
        "for i in range(5):\n",
        "  print('hello')"
      ],
      "metadata": {
        "id": "hSztK4XkjuxF",
        "colab": {
          "base_uri": "https://localhost:8080/"
        },
        "outputId": "5c341771-735e-485c-9356-87d9406b3cc9"
      },
      "execution_count": 13,
      "outputs": [
        {
          "output_type": "stream",
          "name": "stdout",
          "text": [
            "hello\n",
            "hello\n",
            "hello\n",
            "hello\n",
            "hello\n"
          ]
        }
      ]
    },
    {
      "cell_type": "markdown",
      "source": [
        "Problem : https://www.hackerrank.com/challenges/python-loops/problem?isFullScreen=false"
      ],
      "metadata": {
        "id": "7UIktZajpOmt"
      }
    },
    {
      "cell_type": "code",
      "source": [
        "# convert string to int/float\n",
        "\n",
        "a = input() # input in string format \n",
        "a = float(a)\n",
        "print(type(a), a+2)"
      ],
      "metadata": {
        "colab": {
          "base_uri": "https://localhost:8080/"
        },
        "id": "Qp192BxIpTIH",
        "outputId": "d6321710-9d69-4731-cfaf-545470378fd6"
      },
      "execution_count": 82,
      "outputs": [
        {
          "output_type": "stream",
          "name": "stdout",
          "text": [
            "23.8\n",
            "<class 'float'> 25.8\n"
          ]
        }
      ]
    },
    {
      "cell_type": "code",
      "source": [
        "n = 5\n",
        "\n",
        "for i in range(n):\n",
        "  print(i*i)"
      ],
      "metadata": {
        "colab": {
          "base_uri": "https://localhost:8080/"
        },
        "id": "gtG2KON5rhvc",
        "outputId": "2cbd6dfd-92c3-4be9-c0ed-988a6dd28087"
      },
      "execution_count": 35,
      "outputs": [
        {
          "output_type": "stream",
          "name": "stdout",
          "text": [
            "0\n",
            "1\n",
            "4\n",
            "9\n",
            "16\n"
          ]
        }
      ]
    },
    {
      "cell_type": "markdown",
      "source": [
        "# Function\n",
        "\n",
        "### Factorial\n",
        "\n",
        "Why??\n",
        "*  Code re-use\n",
        "*  easy debugging\n",
        "\n",
        "Usage\n",
        "*  function call is replaced by returned value\n",
        "*  Default values  `def add(a, b, c=0, d=0)`\n",
        "*  PassByName  `add(1, 3, d=9, c=3)`"
      ],
      "metadata": {
        "id": "RvI5G0zAspEz"
      }
    },
    {
      "cell_type": "code",
      "source": [
        "n = 4\n",
        "r = 2\n",
        "\n",
        "nf = 1 # 1*2*3*4*.....*n\n",
        "for i in range(1, n+1):\n",
        "  nf = nf*i\n",
        "\n",
        "rf = 1\n",
        "for i in range(1, r+1):\n",
        "  # rf = rf*i\n",
        "  rf *= i\n",
        "\n",
        "nmrf = 1\n",
        "for i in range(1, n-r+1):\n",
        "  nmrf *= i\n",
        "\n",
        "\n",
        "print(nf/(rf*nmrf))"
      ],
      "metadata": {
        "colab": {
          "base_uri": "https://localhost:8080/"
        },
        "id": "oXMr-AAbr1YP",
        "outputId": "85196147-1cad-4cf8-b55b-a300e8a437c6"
      },
      "execution_count": 40,
      "outputs": [
        {
          "output_type": "stream",
          "name": "stdout",
          "text": [
            "6.0\n"
          ]
        }
      ]
    },
    {
      "cell_type": "code",
      "source": [
        "n = 4\n",
        "r = 2\n",
        "\n",
        "def fact(x):\n",
        "  ans = 1\n",
        "  for i in range(1, x+1):\n",
        "    ans *= i\n",
        "  return ans\n",
        "\n",
        "nf = fact(n)\n",
        "rf = fact(r)\n",
        "nmrf = fact(n-r)\n",
        "\n",
        "print(nf/(rf*nmrf))"
      ],
      "metadata": {
        "colab": {
          "base_uri": "https://localhost:8080/"
        },
        "id": "ACGgbt3rviGb",
        "outputId": "93ba06a1-1f68-4acb-cc43-230bcbeef6e1"
      },
      "execution_count": 43,
      "outputs": [
        {
          "output_type": "stream",
          "name": "stdout",
          "text": [
            "6.0\n"
          ]
        }
      ]
    },
    {
      "cell_type": "code",
      "source": [
        "def fun5():\n",
        "  return 2\n",
        "\n",
        "print(10-fun5())"
      ],
      "metadata": {
        "colab": {
          "base_uri": "https://localhost:8080/"
        },
        "id": "FE9BjeIRyjtS",
        "outputId": "a573f4d6-f2df-4363-b2e6-8ac412f81e95"
      },
      "execution_count": 44,
      "outputs": [
        {
          "output_type": "stream",
          "name": "stdout",
          "text": [
            "8\n"
          ]
        }
      ]
    },
    {
      "cell_type": "markdown",
      "source": [
        "Problem: https://nados.io/question/digit-frequency?zen=true\n",
        "\n",
        "Learn\n",
        "\n",
        "while"
      ],
      "metadata": {
        "id": "YvdACtZMzq3_"
      }
    },
    {
      "cell_type": "code",
      "source": [
        "def prnt():\n",
        "  print('Hello Peppy')\n",
        "\n",
        "prnt()\n",
        "prnt()\n",
        "prnt()"
      ],
      "metadata": {
        "colab": {
          "base_uri": "https://localhost:8080/"
        },
        "id": "qAoSUH4Dzvqy",
        "outputId": "11e4b912-88a1-461a-ffd5-542e748698fb"
      },
      "execution_count": 46,
      "outputs": [
        {
          "output_type": "stream",
          "name": "stdout",
          "text": [
            "Hello Peppy\n",
            "Hello Peppy\n",
            "Hello Peppy\n"
          ]
        }
      ]
    },
    {
      "cell_type": "markdown",
      "source": [
        "## add 2 numbers"
      ],
      "metadata": {
        "id": "C3g9MkMB3uFD"
      }
    },
    {
      "cell_type": "code",
      "source": [
        "def add(a, b):\n",
        "  return a+b\n",
        "\n",
        "ans = add(2,5)\n",
        "print(ans)\n",
        "\n",
        "ans = add('hii','bye')\n",
        "print(ans)"
      ],
      "metadata": {
        "colab": {
          "base_uri": "https://localhost:8080/"
        },
        "id": "Hx44Wh2s3vuj",
        "outputId": "fb774da3-c366-42bc-ca1c-ef8179133775"
      },
      "execution_count": 55,
      "outputs": [
        {
          "output_type": "stream",
          "name": "stdout",
          "text": [
            "7\n",
            "hiibye\n"
          ]
        }
      ]
    },
    {
      "cell_type": "code",
      "source": [
        "def add(a, b, c=0, d=1):\n",
        "  print('a:', a)\n",
        "  print('b:', b)\n",
        "  print('c:', c)\n",
        "  print('d:', d)\n",
        "  \n",
        "  return (a+b+c)*d\n",
        "\n",
        "ans = add(3, 1, d=2, c=4)\n",
        "print(ans)"
      ],
      "metadata": {
        "colab": {
          "base_uri": "https://localhost:8080/"
        },
        "id": "G7ZilHk737d8",
        "outputId": "0f2bc56b-29ee-46fe-82cc-fef24c698bc7"
      },
      "execution_count": 80,
      "outputs": [
        {
          "output_type": "stream",
          "name": "stdout",
          "text": [
            "a: 3\n",
            "b: 1\n",
            "c: 4\n",
            "d: 2\n",
            "16\n"
          ]
        }
      ]
    },
    {
      "cell_type": "code",
      "source": [
        "'abc' + 'def'"
      ],
      "metadata": {
        "colab": {
          "base_uri": "https://localhost:8080/",
          "height": 35
        },
        "id": "sjm9gz8a4sxC",
        "outputId": "e985cca5-e6c2-4540-df79-89f4ab777386"
      },
      "execution_count": 53,
      "outputs": [
        {
          "output_type": "execute_result",
          "data": {
            "text/plain": [
              "'abcdef'"
            ],
            "application/vnd.google.colaboratory.intrinsic+json": {
              "type": "string"
            }
          },
          "metadata": {},
          "execution_count": 53
        }
      ]
    },
    {
      "cell_type": "markdown",
      "source": [
        "# String\n",
        "\n",
        "\n",
        "\n",
        "*   Escape Character\n",
        "    *   `\\' \\\" \\t \\\\`\n",
        "*   strip\n",
        "\n"
      ],
      "metadata": {
        "id": "EDefB-bv9Gl6"
      }
    },
    {
      "cell_type": "code",
      "source": [
        "s = 'my name is diwakar, my email is diwakargupta815@'\n",
        "s = \"my name ' is diwakar, my email is diwakargupta815@\"\n",
        "s = ''' my name ' \" is diwakar 12344254 @#$%% '''\n",
        "print(s)"
      ],
      "metadata": {
        "colab": {
          "base_uri": "https://localhost:8080/"
        },
        "id": "_Pqn5sgB467e",
        "outputId": "087e18ad-6eb7-465b-a7b7-8d694fa0bbb8"
      },
      "execution_count": 91,
      "outputs": [
        {
          "output_type": "stream",
          "name": "stdout",
          "text": [
            " my name ' \" is diwakar 12344254 @#$%% \n"
          ]
        }
      ]
    },
    {
      "cell_type": "code",
      "source": [
        "# Escape character\n",
        "\n",
        "s = ' my name \\' \\\\ is diwakar 12344254 @#$%% '\n",
        "print(s)"
      ],
      "metadata": {
        "colab": {
          "base_uri": "https://localhost:8080/"
        },
        "id": "1R_aQmz--Zks",
        "outputId": "97c76902-4870-4d0d-a162-d1aefbdc4354"
      },
      "execution_count": 106,
      "outputs": [
        {
          "output_type": "stream",
          "name": "stdout",
          "text": [
            " my name ' \\ is diwakar 12344254 @#$%% \n"
          ]
        }
      ]
    },
    {
      "cell_type": "code",
      "source": [
        "print('nitin \\t\\t123')\n",
        "print('prince \\t\\t765')\n",
        "print('shivam \\t\\t8969')\n",
        "print('radhika \\t\\t3456')"
      ],
      "metadata": {
        "colab": {
          "base_uri": "https://localhost:8080/"
        },
        "id": "vp_5oFvt-2Ie",
        "outputId": "6b648174-0011-4496-9855-4e42391706d1"
      },
      "execution_count": 107,
      "outputs": [
        {
          "output_type": "stream",
          "name": "stdout",
          "text": [
            "nitin \t\t123\n",
            "prince \t\t765\n",
            "shivam \t\t8969\n",
            "radhika \t\t3456\n"
          ]
        }
      ]
    },
    {
      "cell_type": "code",
      "source": [
        "s.strip() # removes starting/ending white spaces"
      ],
      "metadata": {
        "colab": {
          "base_uri": "https://localhost:8080/",
          "height": 35
        },
        "id": "t02VJSAi_shI",
        "outputId": "d954bf11-203c-488b-a1c7-14f7c0b62b2a"
      },
      "execution_count": 111,
      "outputs": [
        {
          "output_type": "execute_result",
          "data": {
            "text/plain": [
              "\"my name ' \\\\ is diwakar 12344254 @#$%%\""
            ],
            "application/vnd.google.colaboratory.intrinsic+json": {
              "type": "string"
            }
          },
          "metadata": {},
          "execution_count": 111
        }
      ]
    },
    {
      "cell_type": "code",
      "source": [
        "print(s.upper())\n",
        "print(s.lower())"
      ],
      "metadata": {
        "colab": {
          "base_uri": "https://localhost:8080/"
        },
        "id": "0TNNFHtsBnuB",
        "outputId": "09c0defd-5fc0-45bf-f5d0-bf050d7cddab"
      },
      "execution_count": 117,
      "outputs": [
        {
          "output_type": "stream",
          "name": "stdout",
          "text": [
            " MY NAME ' \\ IS DIWAKAR 12344254 @#$%% \n",
            " my name ' \\ is diwakar 12344254 @#$%% \n"
          ]
        }
      ]
    },
    {
      "cell_type": "markdown",
      "source": [
        "## Indexing"
      ],
      "metadata": {
        "id": "JKP7sAhDBWPU"
      }
    },
    {
      "cell_type": "code",
      "source": [
        "print(s)\n",
        "print(s[1], s[0], s[-2])"
      ],
      "metadata": {
        "colab": {
          "base_uri": "https://localhost:8080/"
        },
        "id": "KNVvTyOFAPC4",
        "outputId": "32a8ae40-95f5-4216-abd3-4599982fb88d"
      },
      "execution_count": 116,
      "outputs": [
        {
          "output_type": "stream",
          "name": "stdout",
          "text": [
            " my name ' \\ is diwakar 12344254 @#$%% \n",
            "m   %\n"
          ]
        }
      ]
    }
  ]
}