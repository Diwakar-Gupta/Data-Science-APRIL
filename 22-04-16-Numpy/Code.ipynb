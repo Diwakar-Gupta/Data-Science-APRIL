{
  "nbformat": 4,
  "nbformat_minor": 0,
  "metadata": {
    "colab": {
      "name": "APRIL Numpy.ipynb",
      "provenance": [],
      "collapsed_sections": [],
      "toc_visible": true,
      "authorship_tag": "ABX9TyPgYF0SwTT/+P+bmVZ5SnIE",
      "include_colab_link": true
    },
    "kernelspec": {
      "name": "python3",
      "display_name": "Python 3"
    },
    "language_info": {
      "name": "python"
    }
  },
  "cells": [
    {
      "cell_type": "markdown",
      "metadata": {
        "id": "view-in-github",
        "colab_type": "text"
      },
      "source": [
        "<a href=\"https://colab.research.google.com/github/Diwakar-Gupta/Data-Science-APRIL/blob/main/22-04-16-Numpy/Code.ipynb\" target=\"_parent\"><img src=\"https://colab.research.google.com/assets/colab-badge.svg\" alt=\"Open In Colab\"/></a>"
      ]
    },
    {
      "cell_type": "code",
      "execution_count": 4,
      "metadata": {
        "id": "sR1M_dAbiYz8"
      },
      "outputs": [],
      "source": [
        "import numpy as np"
      ]
    },
    {
      "cell_type": "code",
      "source": [
        "l = np.array([1,2,5,6,7])\n",
        "print(l)"
      ],
      "metadata": {
        "colab": {
          "base_uri": "https://localhost:8080/"
        },
        "id": "kwvAnBfLlH1C",
        "outputId": "4239ec6f-c359-45b3-bb21-aa1780c4a649"
      },
      "execution_count": 8,
      "outputs": [
        {
          "output_type": "stream",
          "name": "stdout",
          "text": [
            "[1 2 5 6 7]\n"
          ]
        }
      ]
    },
    {
      "cell_type": "markdown",
      "source": [
        "*  size\n",
        "*  dtype\n",
        "*  shape\n",
        "*  ndim"
      ],
      "metadata": {
        "id": "oxUpz_PZAEKz"
      }
    },
    {
      "cell_type": "code",
      "source": [
        "print('Type', type(l))\n",
        "print('Size', l.size)\n",
        "print('dtype', l.dtype)"
      ],
      "metadata": {
        "colab": {
          "base_uri": "https://localhost:8080/"
        },
        "id": "MZTy0VpzlQDJ",
        "outputId": "e086dd6a-83c9-4102-9914-ee9ff125c1a4"
      },
      "execution_count": 12,
      "outputs": [
        {
          "output_type": "stream",
          "name": "stdout",
          "text": [
            "Type <class 'numpy.ndarray'>\n",
            "Size 5\n",
            "dtype int64\n"
          ]
        }
      ]
    },
    {
      "cell_type": "markdown",
      "source": [
        "Dtypes: https://numpy.org/devdocs/user/basics.types.html\n",
        "\n",
        "\n",
        "\n",
        "*   int\n",
        "*   uint\n",
        "*   float {8, 16, 32, 64}\n",
        "\n",
        "\n",
        "Numpy array is Homogeneous.\n"
      ],
      "metadata": {
        "id": "UG79Z8aHntxO"
      }
    },
    {
      "cell_type": "code",
      "source": [
        "# l = np.array([1,2,5,6,70000], dtype='int8')\n",
        "l = np.array([1,2,5,6.9,70000])\n",
        "\n",
        "print(l.dtype)\n",
        "print(l)"
      ],
      "metadata": {
        "colab": {
          "base_uri": "https://localhost:8080/"
        },
        "id": "qEAN96vVlUAK",
        "outputId": "a9813d36-65e6-4d85-d553-154d9c155165"
      },
      "execution_count": 64,
      "outputs": [
        {
          "output_type": "stream",
          "name": "stdout",
          "text": [
            "float64\n",
            "[1.0e+00 2.0e+00 5.0e+00 6.9e+00 7.0e+04]\n"
          ]
        }
      ]
    },
    {
      "cell_type": "markdown",
      "source": [
        "e+x => 10^x"
      ],
      "metadata": {
        "id": "GyErXzQtyT-W"
      }
    },
    {
      "cell_type": "code",
      "source": [
        "l = np.array([1,2,5,6.6,9], dtype='int32')\n",
        "\n",
        "print(l.dtype)\n",
        "print(l)"
      ],
      "metadata": {
        "colab": {
          "base_uri": "https://localhost:8080/"
        },
        "id": "RDVfwU56lr4v",
        "outputId": "e3fe3e7f-9fde-495b-a7d0-c4fc12307902"
      },
      "execution_count": 24,
      "outputs": [
        {
          "output_type": "stream",
          "name": "stdout",
          "text": [
            "int32\n",
            "[1 2 5 6 9]\n"
          ]
        }
      ]
    },
    {
      "cell_type": "markdown",
      "source": [
        "## Performance"
      ],
      "metadata": {
        "id": "qjET6Uz8E6xg"
      }
    },
    {
      "cell_type": "markdown",
      "source": [
        "**Memory**"
      ],
      "metadata": {
        "id": "I9wT_V6ApjUx"
      }
    },
    {
      "cell_type": "code",
      "source": [
        "import sys\n",
        "\n",
        "a = 9\n",
        "print('Bits', sys.getsizeof(a)*8)"
      ],
      "metadata": {
        "colab": {
          "base_uri": "https://localhost:8080/"
        },
        "id": "Hbr9sq3Oo21q",
        "outputId": "04c0cb12-38ed-4bfa-94c0-03dea361289b"
      },
      "execution_count": 26,
      "outputs": [
        {
          "output_type": "stream",
          "name": "stdout",
          "text": [
            "Bits 224\n"
          ]
        }
      ]
    },
    {
      "cell_type": "code",
      "source": [
        "a = np.array([3,5,8,5])\n",
        "\n",
        "print(a.dtype)\n",
        "print('Storage of 1 data in Bit\\'s', a.itemsize*8)\n",
        "print('Storage of complete array in bit\\'s', a.nbytes*8)"
      ],
      "metadata": {
        "colab": {
          "base_uri": "https://localhost:8080/"
        },
        "id": "yx_BVBs8qcb7",
        "outputId": "15fe023f-abe8-4c6a-e9d0-2d8cd5f4f34a"
      },
      "execution_count": 39,
      "outputs": [
        {
          "output_type": "stream",
          "name": "stdout",
          "text": [
            "int64\n",
            "Storage of 1 data in Bit's 64\n",
            "Storage of complete array in bit's 256\n"
          ]
        }
      ]
    },
    {
      "cell_type": "markdown",
      "source": [
        "**Time**"
      ],
      "metadata": {
        "id": "1cTmLuBrrUAo"
      }
    },
    {
      "cell_type": "code",
      "source": [
        "ar = np.arange(2, 10002)\n",
        "print(ar.size)"
      ],
      "metadata": {
        "colab": {
          "base_uri": "https://localhost:8080/"
        },
        "id": "gLk-MJSHr4ic",
        "outputId": "395af820-3108-46d6-de2e-852d96711893"
      },
      "execution_count": 33,
      "outputs": [
        {
          "output_type": "stream",
          "name": "stdout",
          "text": [
            "10000\n"
          ]
        }
      ]
    },
    {
      "cell_type": "code",
      "source": [
        "s = 0\n",
        "for i in ar:\n",
        "    s = s+i\n",
        "print(s)"
      ],
      "metadata": {
        "colab": {
          "base_uri": "https://localhost:8080/"
        },
        "id": "LsaMTBIQuWDI",
        "outputId": "1e91c05e-e38a-4c3a-fd76-9e99ed28132a"
      },
      "execution_count": 41,
      "outputs": [
        {
          "output_type": "stream",
          "name": "stdout",
          "text": [
            "50015000\n"
          ]
        }
      ]
    },
    {
      "cell_type": "code",
      "source": [
        "def sumArray(l):\n",
        "    sum = 0\n",
        "    for i in l:\n",
        "        sum = sum+i\n",
        "    return sum\n",
        "\n",
        "%timeit sumArray(ar) # python function"
      ],
      "metadata": {
        "colab": {
          "base_uri": "https://localhost:8080/"
        },
        "id": "oZHocIOcq5ro",
        "outputId": "2376ac72-aec2-4ffa-99fa-8e298ed867ba"
      },
      "execution_count": 34,
      "outputs": [
        {
          "output_type": "stream",
          "name": "stdout",
          "text": [
            "1000 loops, best of 5: 1.11 ms per loop\n"
          ]
        }
      ]
    },
    {
      "cell_type": "code",
      "source": [
        "%timeit ar.sum() # numpy function"
      ],
      "metadata": {
        "colab": {
          "base_uri": "https://localhost:8080/"
        },
        "id": "bylj_O37sDDZ",
        "outputId": "356376d7-65e8-49c0-fe6d-8440d3efca64"
      },
      "execution_count": 35,
      "outputs": [
        {
          "output_type": "stream",
          "name": "stdout",
          "text": [
            "The slowest run took 20.57 times longer than the fastest. This could mean that an intermediate result is being cached.\n",
            "100000 loops, best of 5: 8.75 µs per loop\n"
          ]
        }
      ]
    },
    {
      "cell_type": "markdown",
      "source": [
        "# Numpy array from Scratch\n",
        "\n",
        "\n",
        "\n",
        "*   `np.zeros(size)`\n",
        "*   `np.ones(size)`\n",
        "*   `np.full(size, value)` # repeats 7 10 times\n",
        "*   `np.arange(start, stop, step)`\n"
      ],
      "metadata": {
        "id": "mtJK8AemvNcR"
      }
    },
    {
      "cell_type": "code",
      "source": [
        "ar = np.zeros(10, dtype=np.int32)\n",
        "print(ar)\n",
        "print(ar.dtype)\n",
        "print(ar.size)"
      ],
      "metadata": {
        "colab": {
          "base_uri": "https://localhost:8080/"
        },
        "id": "ywB53Pt2sZOz",
        "outputId": "ea4a1b58-3f9e-42cd-f89b-fccaa9be7913"
      },
      "execution_count": 45,
      "outputs": [
        {
          "output_type": "stream",
          "name": "stdout",
          "text": [
            "[0 0 0 0 0 0 0 0 0 0]\n",
            "int32\n",
            "10\n"
          ]
        }
      ]
    },
    {
      "cell_type": "code",
      "source": [
        "ar = np.ones(10, dtype=np.int32)\n",
        "print(ar)\n",
        "print(ar.dtype)\n",
        "print(ar.size)"
      ],
      "metadata": {
        "colab": {
          "base_uri": "https://localhost:8080/"
        },
        "id": "HizEX1jQvXql",
        "outputId": "e3f84a7a-3bec-472d-87c5-fb11c68367bc"
      },
      "execution_count": 46,
      "outputs": [
        {
          "output_type": "stream",
          "name": "stdout",
          "text": [
            "[1 1 1 1 1 1 1 1 1 1]\n",
            "int32\n",
            "10\n"
          ]
        }
      ]
    },
    {
      "cell_type": "code",
      "source": [
        "ar = np.full(10, 7, dtype=np.int32) # repeats\n",
        "print(ar)\n",
        "print(ar.dtype)\n",
        "print(ar.size)"
      ],
      "metadata": {
        "colab": {
          "base_uri": "https://localhost:8080/"
        },
        "id": "izL1lV-bvyCY",
        "outputId": "12993736-f3e2-482d-e147-9c5acb8792be"
      },
      "execution_count": 48,
      "outputs": [
        {
          "output_type": "stream",
          "name": "stdout",
          "text": [
            "[7 7 7 7 7 7 7 7 7 7]\n",
            "int32\n",
            "10\n"
          ]
        }
      ]
    },
    {
      "cell_type": "code",
      "source": [
        "print(list(range(20, 9, -2)))\n",
        "ar = np.arange(20, 9, -2)\n",
        "print(ar)"
      ],
      "metadata": {
        "colab": {
          "base_uri": "https://localhost:8080/"
        },
        "id": "y-ukVezFv7nZ",
        "outputId": "fc2fa44a-090f-4211-ee3c-99da64b3c183"
      },
      "execution_count": 53,
      "outputs": [
        {
          "output_type": "stream",
          "name": "stdout",
          "text": [
            "[20, 18, 16, 14, 12, 10]\n",
            "[20 18 16 14 12 10]\n"
          ]
        }
      ]
    },
    {
      "cell_type": "markdown",
      "source": [
        "# Slicing / Indexing\n",
        "\n",
        "*  Same as python list"
      ],
      "metadata": {
        "id": "N6hGuxhkxCVu"
      }
    },
    {
      "cell_type": "code",
      "source": [
        "ar = np.arange(2, 10)\n",
        "print(ar)\n",
        "print(ar.size)"
      ],
      "metadata": {
        "colab": {
          "base_uri": "https://localhost:8080/"
        },
        "id": "aoMwcdENwNHk",
        "outputId": "ef2d4f27-5011-4565-83a0-90358a025d30"
      },
      "execution_count": 62,
      "outputs": [
        {
          "output_type": "stream",
          "name": "stdout",
          "text": [
            "[2 3 4 5 6 7 8 9]\n",
            "8\n"
          ]
        }
      ]
    },
    {
      "cell_type": "code",
      "source": [
        "print(ar[0])\n",
        "print(ar[-2])"
      ],
      "metadata": {
        "colab": {
          "base_uri": "https://localhost:8080/"
        },
        "id": "6ok3J5O9xrIP",
        "outputId": "c0a6f556-7c18-4822-b8b2-84f17ffb10d2"
      },
      "execution_count": 63,
      "outputs": [
        {
          "output_type": "stream",
          "name": "stdout",
          "text": [
            "2\n",
            "8\n"
          ]
        }
      ]
    },
    {
      "cell_type": "code",
      "source": [
        "ar[: : -1]"
      ],
      "metadata": {
        "colab": {
          "base_uri": "https://localhost:8080/"
        },
        "id": "XsD5Jq-gxIGk",
        "outputId": "6363c711-2d88-4c4b-8793-d0138459c4f3"
      },
      "execution_count": 61,
      "outputs": [
        {
          "output_type": "execute_result",
          "data": {
            "text/plain": [
              "array([9, 8, 7, 6, 5, 4, 3, 2])"
            ]
          },
          "metadata": {},
          "execution_count": 61
        }
      ]
    },
    {
      "cell_type": "markdown",
      "source": [
        "Task\n",
        "\n",
        "\n",
        "\n",
        "1.   https://www.hackerrank.com/challenges/np-arrays/problem?isFullScreen=true\n",
        "2.   https://www.hackerrank.com/challenges/np-zeros-and-ones/problem?isFullScreen=true\n",
        "\n"
      ],
      "metadata": {
        "id": "K-KKyQK5zcMz"
      }
    },
    {
      "cell_type": "markdown",
      "source": [
        "```\n",
        "def arrays(arr):\n",
        "    l=arr[::-1];\n",
        "    l=numpy.array(l,float)\n",
        "    return l\n",
        "```\n",
        "\n",
        "```\n",
        "import numpy\n",
        "\n",
        "s = input()\n",
        "l = s.split(' ') # ['3', '3', ...... '3]\n",
        "\n",
        "for i in range(len(l)):\n",
        "    l[i] = int(l[i])\n",
        "\n",
        "print(numpy.zeros( l, dtype='int8' ))\n",
        "print(numpy.ones( l, dtype='int8' ))\n",
        "```"
      ],
      "metadata": {
        "id": "XATdYUz05MVh"
      }
    },
    {
      "cell_type": "code",
      "source": [
        "# without using full function +\n",
        "ar = np.ones(12)*8\n",
        "print(ar)\n",
        "print(ar.size)\n",
        "print(ar.dtype)"
      ],
      "metadata": {
        "colab": {
          "base_uri": "https://localhost:8080/"
        },
        "id": "vtZquTNWxSHK",
        "outputId": "a2c4d417-657f-4ee9-c437-4906d92dd3ed"
      },
      "execution_count": 78,
      "outputs": [
        {
          "output_type": "stream",
          "name": "stdout",
          "text": [
            "[8. 8. 8. 8. 8. 8. 8. 8. 8. 8. 8. 8.]\n",
            "12\n",
            "float64\n"
          ]
        }
      ]
    },
    {
      "cell_type": "markdown",
      "source": [
        "# Multi Dimension\n",
        "\n",
        "multi dim = Array inside another array\n",
        "\n",
        "\n",
        "\n",
        "*   ndim\n",
        "*   shape : length of all array one inside other\n",
        "\n"
      ],
      "metadata": {
        "id": "e2wduFDA5jDf"
      }
    },
    {
      "cell_type": "code",
      "source": [
        "ar = np.array([1,2,3,4])\n",
        "print(type(ar))\n",
        "print(ar.ndim)\n",
        "print(ar.shape)"
      ],
      "metadata": {
        "colab": {
          "base_uri": "https://localhost:8080/"
        },
        "id": "Gar-o63S5lTU",
        "outputId": "c1692f76-83c7-4733-b2e0-1c8d409c20ec"
      },
      "execution_count": 83,
      "outputs": [
        {
          "output_type": "stream",
          "name": "stdout",
          "text": [
            "<class 'numpy.ndarray'>\n",
            "1\n",
            "(4,)\n"
          ]
        }
      ]
    },
    {
      "cell_type": "code",
      "source": [
        "ar = np.array([ [1, 2], [3,4], [4,5], [6,7] ])\n",
        "\n",
        "print(ar)\n",
        "print(ar.ndim)\n",
        "print(ar.shape)\n",
        "print(ar[0])\n",
        "print(ar[1])"
      ],
      "metadata": {
        "colab": {
          "base_uri": "https://localhost:8080/"
        },
        "id": "FSIW80Mh5tmD",
        "outputId": "bb54cb4a-16b4-4a0b-e7fd-d90dc178fc33"
      },
      "execution_count": 86,
      "outputs": [
        {
          "output_type": "stream",
          "name": "stdout",
          "text": [
            "[[1 2]\n",
            " [3 4]\n",
            " [4 5]\n",
            " [6 7]]\n",
            "2\n",
            "(4, 2)\n",
            "[1 2]\n",
            "[3 4]\n"
          ]
        }
      ]
    },
    {
      "cell_type": "code",
      "source": [
        "ar = np.array([ [[1, 1, 1], [2,1 ,1 ]], [[3,1 ,1 ],[4,1 ,1 ]], [[4,1 ,1 ],[5,1 ,1 ]], [[6,1 ,1 ],[7,1 ,1 ]] ])\n",
        "\n",
        "print(ar.ndim)\n",
        "print(ar.shape)\n",
        "print(ar.size) # count of values{int, float}\n",
        "print(len(ar), len(ar[0]), len(ar[0][0]))"
      ],
      "metadata": {
        "colab": {
          "base_uri": "https://localhost:8080/"
        },
        "id": "Hfp8KygT6MLl",
        "outputId": "1a55718b-1059-4e22-cfe2-7e77f715c9c2"
      },
      "execution_count": 97,
      "outputs": [
        {
          "output_type": "stream",
          "name": "stdout",
          "text": [
            "3\n",
            "(4, 2, 3)\n",
            "24\n",
            "4 2 3\n"
          ]
        }
      ]
    },
    {
      "cell_type": "code",
      "source": [
        "print(ar)"
      ],
      "metadata": {
        "colab": {
          "base_uri": "https://localhost:8080/"
        },
        "id": "3FfJecQ18PgD",
        "outputId": "67db1176-907c-4511-ef70-8776f0558f27"
      },
      "execution_count": 90,
      "outputs": [
        {
          "output_type": "stream",
          "name": "stdout",
          "text": [
            "[[[1 1 1]\n",
            "  [2 1 1]]\n",
            "\n",
            " [[3 1 1]\n",
            "  [4 1 1]]\n",
            "\n",
            " [[4 1 1]\n",
            "  [5 1 1]]\n",
            "\n",
            " [[6 1 1]\n",
            "  [7 1 1]]]\n"
          ]
        }
      ]
    },
    {
      "cell_type": "code",
      "source": [
        "print(ar[0][1][0])\n",
        "print(ar[0, 1, 0])"
      ],
      "metadata": {
        "colab": {
          "base_uri": "https://localhost:8080/"
        },
        "id": "sXoM-8YS8oZw",
        "outputId": "814abac6-87c6-46fe-e003-3f6eb0879948"
      },
      "execution_count": 95,
      "outputs": [
        {
          "output_type": "stream",
          "name": "stdout",
          "text": [
            "2\n",
            "2\n"
          ]
        }
      ]
    },
    {
      "cell_type": "markdown",
      "source": [
        "## from Scratch\n",
        "\n",
        "*  `np.ones( (2,5,3) )`\n",
        "*  `np.zeros( (2,5,3) )`\n",
        "*  `np.arange(12).reshape(3, -1)`\n",
        "*  full"
      ],
      "metadata": {
        "id": "szdilk3T9xVy"
      }
    },
    {
      "cell_type": "code",
      "source": [
        "ar = np.ones( (2,5,3) )\n",
        "\n",
        "print(ar)\n",
        "print(ar.ndim)\n",
        "print(ar.shape)\n",
        "print(ar.size)"
      ],
      "metadata": {
        "colab": {
          "base_uri": "https://localhost:8080/"
        },
        "id": "CfOt84KN9ECv",
        "outputId": "ec300894-29c5-4a1b-d744-4a458ceee094"
      },
      "execution_count": 102,
      "outputs": [
        {
          "output_type": "stream",
          "name": "stdout",
          "text": [
            "[[[1. 1. 1.]\n",
            "  [1. 1. 1.]\n",
            "  [1. 1. 1.]\n",
            "  [1. 1. 1.]\n",
            "  [1. 1. 1.]]\n",
            "\n",
            " [[1. 1. 1.]\n",
            "  [1. 1. 1.]\n",
            "  [1. 1. 1.]\n",
            "  [1. 1. 1.]\n",
            "  [1. 1. 1.]]]\n",
            "3\n",
            "(2, 5, 3)\n",
            "30\n"
          ]
        }
      ]
    },
    {
      "cell_type": "code",
      "source": [
        "a = ar.reshape(3, 5, 2)\n",
        "\n",
        "print(a)\n",
        "print(a.ndim)\n",
        "print(a.shape)\n",
        "print(a.size)"
      ],
      "metadata": {
        "colab": {
          "base_uri": "https://localhost:8080/"
        },
        "id": "zInundYf99rC",
        "outputId": "e639e974-7969-4931-ac84-4174707c4920"
      },
      "execution_count": 108,
      "outputs": [
        {
          "output_type": "stream",
          "name": "stdout",
          "text": [
            "[[[1. 1.]\n",
            "  [1. 1.]\n",
            "  [1. 1.]\n",
            "  [1. 1.]\n",
            "  [1. 1.]]\n",
            "\n",
            " [[1. 1.]\n",
            "  [1. 1.]\n",
            "  [1. 1.]\n",
            "  [1. 1.]\n",
            "  [1. 1.]]\n",
            "\n",
            " [[1. 1.]\n",
            "  [1. 1.]\n",
            "  [1. 1.]\n",
            "  [1. 1.]\n",
            "  [1. 1.]]]\n",
            "3\n",
            "(3, 5, 2)\n",
            "30\n"
          ]
        }
      ]
    },
    {
      "cell_type": "code",
      "source": [
        "a = ar.reshape(3, -1)\n",
        "\n",
        "# print(a)\n",
        "print(a.ndim)\n",
        "print(a.shape)\n",
        "print(a.size)"
      ],
      "metadata": {
        "colab": {
          "base_uri": "https://localhost:8080/"
        },
        "id": "3QJrhyUq-olh",
        "outputId": "213da8fb-7672-4726-e521-581aed4cd0eb"
      },
      "execution_count": 112,
      "outputs": [
        {
          "output_type": "stream",
          "name": "stdout",
          "text": [
            "2\n",
            "(3, 10)\n",
            "30\n"
          ]
        }
      ]
    },
    {
      "cell_type": "code",
      "source": [
        "ar = np.arange(12)\n",
        "\n",
        "print(ar)"
      ],
      "metadata": {
        "colab": {
          "base_uri": "https://localhost:8080/"
        },
        "id": "9Y6upNx1ARya",
        "outputId": "b0939b15-c9c0-44cd-d9d4-b81f2428e541"
      },
      "execution_count": 113,
      "outputs": [
        {
          "output_type": "stream",
          "name": "stdout",
          "text": [
            "[ 0  1  2  3  4  5  6  7  8  9 10 11]\n"
          ]
        }
      ]
    },
    {
      "cell_type": "code",
      "source": [
        "ar.reshape(-1, 6)"
      ],
      "metadata": {
        "colab": {
          "base_uri": "https://localhost:8080/"
        },
        "id": "zF2GhhHvAUJI",
        "outputId": "198c4fdf-3f84-48a8-d455-1e2248fc9e20"
      },
      "execution_count": 120,
      "outputs": [
        {
          "output_type": "execute_result",
          "data": {
            "text/plain": [
              "array([[ 0,  1,  2,  3,  4,  5],\n",
              "       [ 6,  7,  8,  9, 10, 11]])"
            ]
          },
          "metadata": {},
          "execution_count": 120
        }
      ]
    },
    {
      "cell_type": "markdown",
      "source": [
        "## Indexing / Slicing"
      ],
      "metadata": {
        "id": "QDAp5qK4BB3C"
      }
    },
    {
      "cell_type": "code",
      "source": [
        "ar = np.arange(12).reshape(3, -1)\n",
        "\n",
        "print(ar.shape)\n",
        "print(ar)"
      ],
      "metadata": {
        "colab": {
          "base_uri": "https://localhost:8080/"
        },
        "id": "ftn96PPcA_OS",
        "outputId": "992cc428-e81d-4486-c763-c710e15c6243"
      },
      "execution_count": 127,
      "outputs": [
        {
          "output_type": "stream",
          "name": "stdout",
          "text": [
            "(3, 4)\n",
            "[[ 0  1  2  3]\n",
            " [ 4  5  6  7]\n",
            " [ 8  9 10 11]]\n"
          ]
        }
      ]
    },
    {
      "cell_type": "code",
      "source": [
        "print(ar[1])\n",
        "\n",
        "ar[1, 2]"
      ],
      "metadata": {
        "colab": {
          "base_uri": "https://localhost:8080/"
        },
        "id": "JEtzZRPZDEvd",
        "outputId": "7d7c2806-69e4-434b-8dbf-2f8f52b6a06c"
      },
      "execution_count": 130,
      "outputs": [
        {
          "output_type": "stream",
          "name": "stdout",
          "text": [
            "[4 5 6 7]\n"
          ]
        },
        {
          "output_type": "execute_result",
          "data": {
            "text/plain": [
              "6"
            ]
          },
          "metadata": {},
          "execution_count": 130
        }
      ]
    },
    {
      "cell_type": "code",
      "source": [
        "print(ar)"
      ],
      "metadata": {
        "colab": {
          "base_uri": "https://localhost:8080/"
        },
        "id": "lXllkCL7DXRW",
        "outputId": "4621bde5-0da9-4cfd-bb7b-200ed04e556b"
      },
      "execution_count": 131,
      "outputs": [
        {
          "output_type": "stream",
          "name": "stdout",
          "text": [
            "[[ 0  1  2  3]\n",
            " [ 4  5  6  7]\n",
            " [ 8  9 10 11]]\n"
          ]
        }
      ]
    },
    {
      "cell_type": "code",
      "source": [
        "print(ar[0:2])\n",
        "print()\n",
        "print(ar[0:2, 1:])\n",
        "print()\n",
        "print(ar[0:2, :0:-1])"
      ],
      "metadata": {
        "colab": {
          "base_uri": "https://localhost:8080/"
        },
        "id": "KPNx9pHODYdw",
        "outputId": "512762c0-7d83-4bc6-973b-0d717f121f4e"
      },
      "execution_count": 140,
      "outputs": [
        {
          "output_type": "stream",
          "name": "stdout",
          "text": [
            "[[0 1 2 3]\n",
            " [4 5 6 7]]\n",
            "\n",
            "[[1 2 3]\n",
            " [5 6 7]]\n",
            "\n",
            "[[3 2 1]\n",
            " [7 6 5]]\n"
          ]
        }
      ]
    }
  ]
}