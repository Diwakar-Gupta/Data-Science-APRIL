{
  "nbformat": 4,
  "nbformat_minor": 0,
  "metadata": {
    "colab": {
      "name": "APRIL Numpy.ipynb",
      "provenance": [],
      "collapsed_sections": [
        "UKh48J-JiORq",
        "qjET6Uz8E6xg",
        "mtJK8AemvNcR",
        "N6hGuxhkxCVu",
        "bat6r1Vo2T67",
        "e2wduFDA5jDf",
        "szdilk3T9xVy",
        "QDAp5qK4BB3C",
        "v2WxUPun6WiO",
        "aZBhotWr_yNT",
        "5fniSYb3CpOq",
        "kVuy7F-tLELE",
        "L1KrkrccP4QG",
        "xEuJgbRvNqV6"
      ],
      "toc_visible": true,
      "authorship_tag": "ABX9TyPA9GTQPVUcYmUngaAV25kW",
      "include_colab_link": true
    },
    "kernelspec": {
      "name": "python3",
      "display_name": "Python 3"
    },
    "language_info": {
      "name": "python"
    }
  },
  "cells": [
    {
      "cell_type": "markdown",
      "metadata": {
        "id": "view-in-github",
        "colab_type": "text"
      },
      "source": [
        "<a href=\"https://colab.research.google.com/github/Diwakar-Gupta/Data-Science-APRIL/blob/main/22-04-16-Numpy/Code.ipynb\" target=\"_parent\"><img src=\"https://colab.research.google.com/assets/colab-badge.svg\" alt=\"Open In Colab\"/></a>"
      ]
    },
    {
      "cell_type": "markdown",
      "source": [
        "Codes -> https://github.com/Diwakar-Gupta/Data-Science-APRIL\n",
        "\n",
        "Notes -> https://1drv.ms/o/s!AmSu_rSXl5m3i0Pm8zsnFmpuqowO"
      ],
      "metadata": {
        "id": "ID4AI7sVWobm"
      }
    },
    {
      "cell_type": "code",
      "execution_count": 1,
      "metadata": {
        "id": "sR1M_dAbiYz8"
      },
      "outputs": [],
      "source": [
        "import numpy as np"
      ]
    },
    {
      "cell_type": "markdown",
      "source": [
        "# Basics\n",
        "\n",
        "Create from python list\n",
        "\n",
        "*  size\n",
        "*  dtype\n",
        "*  shape\n",
        "*  ndim\n",
        "\n",
        "**Performance**\n",
        "*  memory\n",
        "*  time"
      ],
      "metadata": {
        "id": "UKh48J-JiORq"
      }
    },
    {
      "cell_type": "code",
      "source": [
        "l = np.array([1,2,5,6,7])\n",
        "print(l)"
      ],
      "metadata": {
        "colab": {
          "base_uri": "https://localhost:8080/"
        },
        "id": "kwvAnBfLlH1C",
        "outputId": "49db9a63-be53-4fb4-cc4e-2c81d732497f"
      },
      "execution_count": 2,
      "outputs": [
        {
          "output_type": "stream",
          "name": "stdout",
          "text": [
            "[1 2 5 6 7]\n"
          ]
        }
      ]
    },
    {
      "cell_type": "code",
      "source": [
        "print('Type', type(l))\n",
        "print('Size', l.size)\n",
        "print('dtype', l.dtype)"
      ],
      "metadata": {
        "colab": {
          "base_uri": "https://localhost:8080/"
        },
        "id": "MZTy0VpzlQDJ",
        "outputId": "da6064dd-5989-4940-be6d-40f9763081ec"
      },
      "execution_count": 3,
      "outputs": [
        {
          "output_type": "stream",
          "name": "stdout",
          "text": [
            "Type <class 'numpy.ndarray'>\n",
            "Size 5\n",
            "dtype int64\n"
          ]
        }
      ]
    },
    {
      "cell_type": "markdown",
      "source": [
        "Dtypes: https://numpy.org/devdocs/user/basics.types.html\n",
        "\n",
        "\n",
        "\n",
        "*   int\n",
        "*   uint\n",
        "*   float {8, 16, 32, 64}\n",
        "\n",
        "\n",
        "Numpy array is Homogeneous.\n"
      ],
      "metadata": {
        "id": "UG79Z8aHntxO"
      }
    },
    {
      "cell_type": "code",
      "source": [
        "# l = np.array([1,2,5,6,70000], dtype='int8')\n",
        "l = np.array([1,2,5,6.9,70000])\n",
        "\n",
        "print(l.dtype)\n",
        "print(l)"
      ],
      "metadata": {
        "colab": {
          "base_uri": "https://localhost:8080/"
        },
        "id": "qEAN96vVlUAK",
        "outputId": "20ffc3e3-4041-4ed5-dcca-fcda3cd0b445"
      },
      "execution_count": 4,
      "outputs": [
        {
          "output_type": "stream",
          "name": "stdout",
          "text": [
            "float64\n",
            "[1.0e+00 2.0e+00 5.0e+00 6.9e+00 7.0e+04]\n"
          ]
        }
      ]
    },
    {
      "cell_type": "markdown",
      "source": [
        "e+x => 10^x"
      ],
      "metadata": {
        "id": "GyErXzQtyT-W"
      }
    },
    {
      "cell_type": "code",
      "source": [
        "l = np.array([1,2,5,6.6,9], dtype='int32')\n",
        "\n",
        "print(l.dtype)\n",
        "print(l)"
      ],
      "metadata": {
        "colab": {
          "base_uri": "https://localhost:8080/"
        },
        "id": "RDVfwU56lr4v",
        "outputId": "255e6e4c-9a48-446a-c2b3-f8f48170176f"
      },
      "execution_count": 5,
      "outputs": [
        {
          "output_type": "stream",
          "name": "stdout",
          "text": [
            "int32\n",
            "[1 2 5 6 9]\n"
          ]
        }
      ]
    },
    {
      "cell_type": "markdown",
      "source": [
        "## Performance"
      ],
      "metadata": {
        "id": "qjET6Uz8E6xg"
      }
    },
    {
      "cell_type": "markdown",
      "source": [
        "**Memory**"
      ],
      "metadata": {
        "id": "I9wT_V6ApjUx"
      }
    },
    {
      "cell_type": "code",
      "source": [
        "import sys\n",
        "\n",
        "a = 9\n",
        "print('Bits', sys.getsizeof(a)*8)"
      ],
      "metadata": {
        "colab": {
          "base_uri": "https://localhost:8080/"
        },
        "id": "Hbr9sq3Oo21q",
        "outputId": "ee2315cd-f6f9-475d-dcab-722fde33dbb6"
      },
      "execution_count": 6,
      "outputs": [
        {
          "output_type": "stream",
          "name": "stdout",
          "text": [
            "Bits 224\n"
          ]
        }
      ]
    },
    {
      "cell_type": "code",
      "source": [
        "a = np.array([3,5,8,5])\n",
        "\n",
        "print(a.dtype)\n",
        "print('Storage of 1 data in Bit\\'s', a.itemsize*8)\n",
        "print('Storage of complete array in bit\\'s', a.nbytes*8)"
      ],
      "metadata": {
        "colab": {
          "base_uri": "https://localhost:8080/"
        },
        "id": "yx_BVBs8qcb7",
        "outputId": "2fd9767e-5839-41f2-a2ab-1a93b4084a24"
      },
      "execution_count": 7,
      "outputs": [
        {
          "output_type": "stream",
          "name": "stdout",
          "text": [
            "int64\n",
            "Storage of 1 data in Bit's 64\n",
            "Storage of complete array in bit's 256\n"
          ]
        }
      ]
    },
    {
      "cell_type": "markdown",
      "source": [
        "**Time**"
      ],
      "metadata": {
        "id": "1cTmLuBrrUAo"
      }
    },
    {
      "cell_type": "code",
      "source": [
        "ar = np.arange(2, 10002)\n",
        "print(ar.size)"
      ],
      "metadata": {
        "colab": {
          "base_uri": "https://localhost:8080/"
        },
        "id": "gLk-MJSHr4ic",
        "outputId": "21683738-db2e-43cc-a4c8-521e744e4a26"
      },
      "execution_count": 8,
      "outputs": [
        {
          "output_type": "stream",
          "name": "stdout",
          "text": [
            "10000\n"
          ]
        }
      ]
    },
    {
      "cell_type": "code",
      "source": [
        "s = 0\n",
        "for i in ar:\n",
        "    s = s+i\n",
        "print(s)"
      ],
      "metadata": {
        "colab": {
          "base_uri": "https://localhost:8080/"
        },
        "id": "LsaMTBIQuWDI",
        "outputId": "c0166d78-ab74-4f22-c94b-233e880bbd18"
      },
      "execution_count": 9,
      "outputs": [
        {
          "output_type": "stream",
          "name": "stdout",
          "text": [
            "50015000\n"
          ]
        }
      ]
    },
    {
      "cell_type": "code",
      "source": [
        "def sumArray(l):\n",
        "    sum = 0\n",
        "    for i in l:\n",
        "        sum = sum+i\n",
        "    return sum\n",
        "\n",
        "%timeit sumArray(ar) # python function"
      ],
      "metadata": {
        "colab": {
          "base_uri": "https://localhost:8080/"
        },
        "id": "oZHocIOcq5ro",
        "outputId": "1a2577dc-003c-4d8b-a530-f2bc6286f0ed"
      },
      "execution_count": 10,
      "outputs": [
        {
          "output_type": "stream",
          "name": "stdout",
          "text": [
            "1000 loops, best of 5: 1.44 ms per loop\n"
          ]
        }
      ]
    },
    {
      "cell_type": "code",
      "source": [
        "%timeit ar.sum() # numpy function"
      ],
      "metadata": {
        "colab": {
          "base_uri": "https://localhost:8080/"
        },
        "id": "bylj_O37sDDZ",
        "outputId": "24e43117-2295-4454-f915-b4919773692f"
      },
      "execution_count": 11,
      "outputs": [
        {
          "output_type": "stream",
          "name": "stdout",
          "text": [
            "The slowest run took 12.68 times longer than the fastest. This could mean that an intermediate result is being cached.\n",
            "100000 loops, best of 5: 8.73 µs per loop\n"
          ]
        }
      ]
    },
    {
      "cell_type": "markdown",
      "source": [
        "# Numpy array from Scratch\n",
        "\n",
        "\n",
        "\n",
        "*   `np.zeros(size)`\n",
        "*   `np.ones(size)`\n",
        "*   `np.full(size, value)` # repeats 7 10 times\n",
        "*   `np.arange(start, stop, step)`\n"
      ],
      "metadata": {
        "id": "mtJK8AemvNcR"
      }
    },
    {
      "cell_type": "code",
      "source": [
        "ar = np.zeros(10, dtype=np.int32)\n",
        "print(ar)\n",
        "print(ar.dtype)\n",
        "print(ar.size)"
      ],
      "metadata": {
        "colab": {
          "base_uri": "https://localhost:8080/"
        },
        "id": "ywB53Pt2sZOz",
        "outputId": "ab598ab1-3e96-4043-e8b2-f8f206aa9e1a"
      },
      "execution_count": 12,
      "outputs": [
        {
          "output_type": "stream",
          "name": "stdout",
          "text": [
            "[0 0 0 0 0 0 0 0 0 0]\n",
            "int32\n",
            "10\n"
          ]
        }
      ]
    },
    {
      "cell_type": "code",
      "source": [
        "ar = np.ones(10, dtype=np.int32)\n",
        "print(ar)\n",
        "print(ar.dtype)\n",
        "print(ar.size)"
      ],
      "metadata": {
        "colab": {
          "base_uri": "https://localhost:8080/"
        },
        "id": "HizEX1jQvXql",
        "outputId": "d7442042-3fd6-422c-f30c-f6ba019b41e1"
      },
      "execution_count": 13,
      "outputs": [
        {
          "output_type": "stream",
          "name": "stdout",
          "text": [
            "[1 1 1 1 1 1 1 1 1 1]\n",
            "int32\n",
            "10\n"
          ]
        }
      ]
    },
    {
      "cell_type": "code",
      "source": [
        "ar = np.full(10, 7, dtype=np.int32) # repeats\n",
        "print(ar)\n",
        "print(ar.dtype)\n",
        "print(ar.size)"
      ],
      "metadata": {
        "colab": {
          "base_uri": "https://localhost:8080/"
        },
        "id": "izL1lV-bvyCY",
        "outputId": "4e8b20d8-058f-485f-f4af-4cbd033b3857"
      },
      "execution_count": 14,
      "outputs": [
        {
          "output_type": "stream",
          "name": "stdout",
          "text": [
            "[7 7 7 7 7 7 7 7 7 7]\n",
            "int32\n",
            "10\n"
          ]
        }
      ]
    },
    {
      "cell_type": "code",
      "source": [
        "print(list(range(20, 9, -2)))\n",
        "ar = np.arange(20, 9, -2)\n",
        "print(ar)"
      ],
      "metadata": {
        "colab": {
          "base_uri": "https://localhost:8080/"
        },
        "id": "y-ukVezFv7nZ",
        "outputId": "b389a1c0-4f7e-417e-fa72-24f5e1e66b00"
      },
      "execution_count": 15,
      "outputs": [
        {
          "output_type": "stream",
          "name": "stdout",
          "text": [
            "[20, 18, 16, 14, 12, 10]\n",
            "[20 18 16 14 12 10]\n"
          ]
        }
      ]
    },
    {
      "cell_type": "markdown",
      "source": [
        "# Slicing / Indexing\n",
        "\n",
        "*  Same as python list"
      ],
      "metadata": {
        "id": "N6hGuxhkxCVu"
      }
    },
    {
      "cell_type": "code",
      "source": [
        "ar = np.arange(2, 10)\n",
        "print(ar)\n",
        "print(ar.size)"
      ],
      "metadata": {
        "colab": {
          "base_uri": "https://localhost:8080/"
        },
        "id": "aoMwcdENwNHk",
        "outputId": "1fc73ff4-53eb-453a-f4f8-55352310737d"
      },
      "execution_count": 16,
      "outputs": [
        {
          "output_type": "stream",
          "name": "stdout",
          "text": [
            "[2 3 4 5 6 7 8 9]\n",
            "8\n"
          ]
        }
      ]
    },
    {
      "cell_type": "code",
      "source": [
        "print(ar[0])\n",
        "print(ar[-2])"
      ],
      "metadata": {
        "colab": {
          "base_uri": "https://localhost:8080/"
        },
        "id": "6ok3J5O9xrIP",
        "outputId": "670af7df-d9ea-4574-cde2-d6da272c97b8"
      },
      "execution_count": 17,
      "outputs": [
        {
          "output_type": "stream",
          "name": "stdout",
          "text": [
            "2\n",
            "8\n"
          ]
        }
      ]
    },
    {
      "cell_type": "code",
      "source": [
        "ar[: : -1]"
      ],
      "metadata": {
        "colab": {
          "base_uri": "https://localhost:8080/"
        },
        "id": "XsD5Jq-gxIGk",
        "outputId": "f756ce95-c6e9-41e1-8601-d04ef75ed1d6"
      },
      "execution_count": 18,
      "outputs": [
        {
          "output_type": "execute_result",
          "data": {
            "text/plain": [
              "array([9, 8, 7, 6, 5, 4, 3, 2])"
            ]
          },
          "metadata": {},
          "execution_count": 18
        }
      ]
    },
    {
      "cell_type": "markdown",
      "source": [
        "Task\n",
        "\n",
        "\n",
        "\n",
        "1.   https://www.hackerrank.com/challenges/np-arrays/problem?isFullScreen=true\n",
        "2.   https://www.hackerrank.com/challenges/np-zeros-and-ones/problem?isFullScreen=true\n",
        "\n"
      ],
      "metadata": {
        "id": "K-KKyQK5zcMz"
      }
    },
    {
      "cell_type": "markdown",
      "source": [
        "```\n",
        "def arrays(arr):\n",
        "    l=arr[::-1];\n",
        "    l=numpy.array(l,float)\n",
        "    return l\n",
        "```\n",
        "\n",
        "```\n",
        "import numpy\n",
        "\n",
        "s = input()\n",
        "l = s.split(' ') # ['3', '3', ...... '3]\n",
        "\n",
        "for i in range(len(l)):\n",
        "    l[i] = int(l[i])\n",
        "\n",
        "print(numpy.zeros( l, dtype='int8' ))\n",
        "print(numpy.ones( l, dtype='int8' ))\n",
        "```"
      ],
      "metadata": {
        "id": "XATdYUz05MVh"
      }
    },
    {
      "cell_type": "code",
      "source": [
        "# without using full function +\n",
        "ar = np.ones(12)*8\n",
        "print(ar)\n",
        "print(ar.size)\n",
        "print(ar.dtype)"
      ],
      "metadata": {
        "colab": {
          "base_uri": "https://localhost:8080/"
        },
        "id": "vtZquTNWxSHK",
        "outputId": "a2c4d417-657f-4ee9-c437-4906d92dd3ed"
      },
      "execution_count": null,
      "outputs": [
        {
          "output_type": "stream",
          "name": "stdout",
          "text": [
            "[8. 8. 8. 8. 8. 8. 8. 8. 8. 8. 8. 8.]\n",
            "12\n",
            "float64\n"
          ]
        }
      ]
    },
    {
      "cell_type": "markdown",
      "source": [
        "# Deep copy & Shallow copy\n",
        "\n",
        "Python does not reflects changes in original array\n",
        "\n",
        "Numpy does\n",
        "\n",
        "To prevent we can use `ar.copy()`"
      ],
      "metadata": {
        "id": "bat6r1Vo2T67"
      }
    },
    {
      "cell_type": "code",
      "source": [
        "l = list(range(10))\n",
        "sl = l[3:8]\n",
        "print(l)\n",
        "print(sl)\n",
        "\n",
        "print('changing')\n",
        "\n",
        "sl[0] = 8\n",
        "print(l)\n",
        "print(sl)"
      ],
      "metadata": {
        "colab": {
          "base_uri": "https://localhost:8080/"
        },
        "id": "6IpAczOO2XIe",
        "outputId": "5f27be69-f9ca-47f0-eee6-a59cc38e2d82"
      },
      "execution_count": 23,
      "outputs": [
        {
          "output_type": "stream",
          "name": "stdout",
          "text": [
            "[0, 1, 2, 3, 4, 5, 6, 7, 8, 9]\n",
            "[3, 4, 5, 6, 7]\n",
            "changing\n",
            "[0, 1, 2, 3, 4, 5, 6, 7, 8, 9]\n",
            "[8, 4, 5, 6, 7]\n"
          ]
        }
      ]
    },
    {
      "cell_type": "code",
      "source": [
        "ar = np.arange(10)\n",
        "sl = ar[3:8]\n",
        "\n",
        "print(ar)\n",
        "print(sl)\n",
        "\n",
        "print('changing')\n",
        "\n",
        "sl[0] = 8\n",
        "\n",
        "print(ar)\n",
        "print(sl)"
      ],
      "metadata": {
        "colab": {
          "base_uri": "https://localhost:8080/"
        },
        "id": "dEX5APTR2XrI",
        "outputId": "5f40bd43-223b-41fe-b21b-e39429fcaac7"
      },
      "execution_count": 25,
      "outputs": [
        {
          "output_type": "stream",
          "name": "stdout",
          "text": [
            "[0 1 2 3 4 5 6 7 8 9]\n",
            "[3 4 5 6 7]\n",
            "changing\n",
            "[0 1 2 8 4 5 6 7 8 9]\n",
            "[8 4 5 6 7]\n"
          ]
        }
      ]
    },
    {
      "cell_type": "code",
      "source": [
        "ar = np.arange(10)\n",
        "sl = ar[3:8].copy()\n",
        "\n",
        "print(ar)\n",
        "print(sl)\n",
        "\n",
        "print('changing')\n",
        "\n",
        "sl[0] = 8\n",
        "\n",
        "print(ar)\n",
        "print(sl)"
      ],
      "metadata": {
        "colab": {
          "base_uri": "https://localhost:8080/"
        },
        "id": "J9eJfMKo2XiE",
        "outputId": "b74b596d-98c6-4e17-b1cf-c0aacd7138d6"
      },
      "execution_count": 27,
      "outputs": [
        {
          "output_type": "stream",
          "name": "stdout",
          "text": [
            "[0 1 2 3 4 5 6 7 8 9]\n",
            "[3 4 5 6 7]\n",
            "changing\n",
            "[0 1 2 3 4 5 6 7 8 9]\n",
            "[8 4 5 6 7]\n"
          ]
        }
      ]
    },
    {
      "cell_type": "markdown",
      "source": [
        "# Multi Dimension\n",
        "\n",
        "multi dim = Array inside another array\n",
        "\n",
        "\n",
        "\n",
        "*   ndim\n",
        "*   shape : length of all array one inside other\n",
        "\n",
        "**Create from Scratch**\n",
        "\n",
        "**Indexing/Slicing**"
      ],
      "metadata": {
        "id": "e2wduFDA5jDf"
      }
    },
    {
      "cell_type": "code",
      "source": [
        "ar = np.array([1,2,3,4])\n",
        "print(type(ar))\n",
        "print(ar.ndim)\n",
        "print(ar.shape)"
      ],
      "metadata": {
        "colab": {
          "base_uri": "https://localhost:8080/"
        },
        "id": "Gar-o63S5lTU",
        "outputId": "c1692f76-83c7-4733-b2e0-1c8d409c20ec"
      },
      "execution_count": null,
      "outputs": [
        {
          "output_type": "stream",
          "name": "stdout",
          "text": [
            "<class 'numpy.ndarray'>\n",
            "1\n",
            "(4,)\n"
          ]
        }
      ]
    },
    {
      "cell_type": "code",
      "source": [
        "ar = np.array([ [1, 2], [3,4], [4,5], [6,7] ])\n",
        "\n",
        "print(ar)\n",
        "print(ar.ndim)\n",
        "print(ar.shape)\n",
        "print(ar[0])\n",
        "print(ar[1])"
      ],
      "metadata": {
        "colab": {
          "base_uri": "https://localhost:8080/"
        },
        "id": "FSIW80Mh5tmD",
        "outputId": "bb54cb4a-16b4-4a0b-e7fd-d90dc178fc33"
      },
      "execution_count": null,
      "outputs": [
        {
          "output_type": "stream",
          "name": "stdout",
          "text": [
            "[[1 2]\n",
            " [3 4]\n",
            " [4 5]\n",
            " [6 7]]\n",
            "2\n",
            "(4, 2)\n",
            "[1 2]\n",
            "[3 4]\n"
          ]
        }
      ]
    },
    {
      "cell_type": "code",
      "source": [
        "ar = np.array([ [[1, 1, 1], [2,1 ,1 ]], [[3,1 ,1 ],[4,1 ,1 ]], [[4,1 ,1 ],[5,1 ,1 ]], [[6,1 ,1 ],[7,1 ,1 ]] ])\n",
        "\n",
        "print(ar.ndim)\n",
        "print(ar.shape)\n",
        "print(ar.size) # count of values{int, float}\n",
        "print(len(ar), len(ar[0]), len(ar[0][0]))"
      ],
      "metadata": {
        "colab": {
          "base_uri": "https://localhost:8080/"
        },
        "id": "Hfp8KygT6MLl",
        "outputId": "1a55718b-1059-4e22-cfe2-7e77f715c9c2"
      },
      "execution_count": null,
      "outputs": [
        {
          "output_type": "stream",
          "name": "stdout",
          "text": [
            "3\n",
            "(4, 2, 3)\n",
            "24\n",
            "4 2 3\n"
          ]
        }
      ]
    },
    {
      "cell_type": "code",
      "source": [
        "print(ar)"
      ],
      "metadata": {
        "colab": {
          "base_uri": "https://localhost:8080/"
        },
        "id": "3FfJecQ18PgD",
        "outputId": "67db1176-907c-4511-ef70-8776f0558f27"
      },
      "execution_count": null,
      "outputs": [
        {
          "output_type": "stream",
          "name": "stdout",
          "text": [
            "[[[1 1 1]\n",
            "  [2 1 1]]\n",
            "\n",
            " [[3 1 1]\n",
            "  [4 1 1]]\n",
            "\n",
            " [[4 1 1]\n",
            "  [5 1 1]]\n",
            "\n",
            " [[6 1 1]\n",
            "  [7 1 1]]]\n"
          ]
        }
      ]
    },
    {
      "cell_type": "code",
      "source": [
        "print(ar[0][1][0])\n",
        "print(ar[0, 1, 0])"
      ],
      "metadata": {
        "colab": {
          "base_uri": "https://localhost:8080/"
        },
        "id": "sXoM-8YS8oZw",
        "outputId": "814abac6-87c6-46fe-e003-3f6eb0879948"
      },
      "execution_count": null,
      "outputs": [
        {
          "output_type": "stream",
          "name": "stdout",
          "text": [
            "2\n",
            "2\n"
          ]
        }
      ]
    },
    {
      "cell_type": "markdown",
      "source": [
        "## from Scratch\n",
        "\n",
        "*  `np.ones( (2,5,3) )`\n",
        "*  `np.zeros( (2,5,3) )`\n",
        "*  `np.arange(12).reshape(3, -1)`\n",
        "*  full"
      ],
      "metadata": {
        "id": "szdilk3T9xVy"
      }
    },
    {
      "cell_type": "code",
      "source": [
        "ar = np.ones( (2,5,3) )\n",
        "\n",
        "print(ar)\n",
        "print(ar.ndim)\n",
        "print(ar.shape)\n",
        "print(ar.size)"
      ],
      "metadata": {
        "colab": {
          "base_uri": "https://localhost:8080/"
        },
        "id": "CfOt84KN9ECv",
        "outputId": "ec300894-29c5-4a1b-d744-4a458ceee094"
      },
      "execution_count": null,
      "outputs": [
        {
          "output_type": "stream",
          "name": "stdout",
          "text": [
            "[[[1. 1. 1.]\n",
            "  [1. 1. 1.]\n",
            "  [1. 1. 1.]\n",
            "  [1. 1. 1.]\n",
            "  [1. 1. 1.]]\n",
            "\n",
            " [[1. 1. 1.]\n",
            "  [1. 1. 1.]\n",
            "  [1. 1. 1.]\n",
            "  [1. 1. 1.]\n",
            "  [1. 1. 1.]]]\n",
            "3\n",
            "(2, 5, 3)\n",
            "30\n"
          ]
        }
      ]
    },
    {
      "cell_type": "code",
      "source": [
        "a = ar.reshape(3, 5, 2)\n",
        "\n",
        "print(a)\n",
        "print(a.ndim)\n",
        "print(a.shape)\n",
        "print(a.size)"
      ],
      "metadata": {
        "colab": {
          "base_uri": "https://localhost:8080/"
        },
        "id": "zInundYf99rC",
        "outputId": "e639e974-7969-4931-ac84-4174707c4920"
      },
      "execution_count": null,
      "outputs": [
        {
          "output_type": "stream",
          "name": "stdout",
          "text": [
            "[[[1. 1.]\n",
            "  [1. 1.]\n",
            "  [1. 1.]\n",
            "  [1. 1.]\n",
            "  [1. 1.]]\n",
            "\n",
            " [[1. 1.]\n",
            "  [1. 1.]\n",
            "  [1. 1.]\n",
            "  [1. 1.]\n",
            "  [1. 1.]]\n",
            "\n",
            " [[1. 1.]\n",
            "  [1. 1.]\n",
            "  [1. 1.]\n",
            "  [1. 1.]\n",
            "  [1. 1.]]]\n",
            "3\n",
            "(3, 5, 2)\n",
            "30\n"
          ]
        }
      ]
    },
    {
      "cell_type": "code",
      "source": [
        "a = ar.reshape(3, -1)\n",
        "\n",
        "# print(a)\n",
        "print(a.ndim)\n",
        "print(a.shape)\n",
        "print(a.size)"
      ],
      "metadata": {
        "colab": {
          "base_uri": "https://localhost:8080/"
        },
        "id": "3QJrhyUq-olh",
        "outputId": "213da8fb-7672-4726-e521-581aed4cd0eb"
      },
      "execution_count": null,
      "outputs": [
        {
          "output_type": "stream",
          "name": "stdout",
          "text": [
            "2\n",
            "(3, 10)\n",
            "30\n"
          ]
        }
      ]
    },
    {
      "cell_type": "code",
      "source": [
        "ar = np.arange(12)\n",
        "\n",
        "print(ar)"
      ],
      "metadata": {
        "colab": {
          "base_uri": "https://localhost:8080/"
        },
        "id": "9Y6upNx1ARya",
        "outputId": "b0939b15-c9c0-44cd-d9d4-b81f2428e541"
      },
      "execution_count": null,
      "outputs": [
        {
          "output_type": "stream",
          "name": "stdout",
          "text": [
            "[ 0  1  2  3  4  5  6  7  8  9 10 11]\n"
          ]
        }
      ]
    },
    {
      "cell_type": "code",
      "source": [
        "ar.reshape(-1, 6)"
      ],
      "metadata": {
        "colab": {
          "base_uri": "https://localhost:8080/"
        },
        "id": "zF2GhhHvAUJI",
        "outputId": "198c4fdf-3f84-48a8-d455-1e2248fc9e20"
      },
      "execution_count": null,
      "outputs": [
        {
          "output_type": "execute_result",
          "data": {
            "text/plain": [
              "array([[ 0,  1,  2,  3,  4,  5],\n",
              "       [ 6,  7,  8,  9, 10, 11]])"
            ]
          },
          "metadata": {},
          "execution_count": 120
        }
      ]
    },
    {
      "cell_type": "markdown",
      "source": [
        "## Indexing / Slicing\n",
        "\n",
        "*  `grid[8, 9, 3]`\n",
        "*  `grid[3:9, 9]`"
      ],
      "metadata": {
        "id": "QDAp5qK4BB3C"
      }
    },
    {
      "cell_type": "code",
      "source": [
        "ar = np.arange(12).reshape(3, -1)\n",
        "\n",
        "print(ar.shape)\n",
        "print(ar)"
      ],
      "metadata": {
        "colab": {
          "base_uri": "https://localhost:8080/"
        },
        "id": "ftn96PPcA_OS",
        "outputId": "992cc428-e81d-4486-c763-c710e15c6243"
      },
      "execution_count": null,
      "outputs": [
        {
          "output_type": "stream",
          "name": "stdout",
          "text": [
            "(3, 4)\n",
            "[[ 0  1  2  3]\n",
            " [ 4  5  6  7]\n",
            " [ 8  9 10 11]]\n"
          ]
        }
      ]
    },
    {
      "cell_type": "code",
      "source": [
        "print(ar[1])\n",
        "\n",
        "ar[1, 2]"
      ],
      "metadata": {
        "colab": {
          "base_uri": "https://localhost:8080/"
        },
        "id": "JEtzZRPZDEvd",
        "outputId": "7d7c2806-69e4-434b-8dbf-2f8f52b6a06c"
      },
      "execution_count": null,
      "outputs": [
        {
          "output_type": "stream",
          "name": "stdout",
          "text": [
            "[4 5 6 7]\n"
          ]
        },
        {
          "output_type": "execute_result",
          "data": {
            "text/plain": [
              "6"
            ]
          },
          "metadata": {},
          "execution_count": 130
        }
      ]
    },
    {
      "cell_type": "code",
      "source": [
        "print(ar)"
      ],
      "metadata": {
        "colab": {
          "base_uri": "https://localhost:8080/"
        },
        "id": "lXllkCL7DXRW",
        "outputId": "4621bde5-0da9-4cfd-bb7b-200ed04e556b"
      },
      "execution_count": null,
      "outputs": [
        {
          "output_type": "stream",
          "name": "stdout",
          "text": [
            "[[ 0  1  2  3]\n",
            " [ 4  5  6  7]\n",
            " [ 8  9 10 11]]\n"
          ]
        }
      ]
    },
    {
      "cell_type": "code",
      "source": [
        "print(ar[0:2])\n",
        "print()\n",
        "print(ar[0:2, 1:])\n",
        "print()\n",
        "print(ar[0:2, :0:-1])"
      ],
      "metadata": {
        "colab": {
          "base_uri": "https://localhost:8080/"
        },
        "id": "KPNx9pHODYdw",
        "outputId": "512762c0-7d83-4bc6-973b-0d717f121f4e"
      },
      "execution_count": null,
      "outputs": [
        {
          "output_type": "stream",
          "name": "stdout",
          "text": [
            "[[0 1 2 3]\n",
            " [4 5 6 7]]\n",
            "\n",
            "[[1 2 3]\n",
            " [5 6 7]]\n",
            "\n",
            "[[3 2 1]\n",
            " [7 6 5]]\n"
          ]
        }
      ]
    },
    {
      "cell_type": "markdown",
      "source": [
        "# Extra Functions\n",
        "\n",
        "\n",
        "\n",
        "*    `np.random.permutation(ar)`\n",
        "*   `np.random.randint(included, excluded)`\n",
        "*   `np.random.rand(shape)`\n",
        "*   `np.random.randn(shape)`\n",
        "*  `np.linspace(start, end, size)`\n",
        "*  `ar.astype('int8')`\n",
        "*   `np.where([True, True, False])` # return True index\n",
        "*   `np.where([True, True, False], 1, 0)` # replace True with 1 false with 0\n"
      ],
      "metadata": {
        "id": "v2WxUPun6WiO"
      }
    },
    {
      "cell_type": "code",
      "source": [
        "ar = np.arange(10)\n",
        "print(ar)"
      ],
      "metadata": {
        "colab": {
          "base_uri": "https://localhost:8080/"
        },
        "id": "x_o8Dexd6cVp",
        "outputId": "911a16d6-4c55-418c-c299-b4fadc812c78"
      },
      "execution_count": 28,
      "outputs": [
        {
          "output_type": "stream",
          "name": "stdout",
          "text": [
            "[0 1 2 3 4 5 6 7 8 9]\n"
          ]
        }
      ]
    },
    {
      "cell_type": "code",
      "source": [
        "arp = np.random.permutation(ar)\n",
        "arp"
      ],
      "metadata": {
        "colab": {
          "base_uri": "https://localhost:8080/"
        },
        "id": "H3C1dy-c6he3",
        "outputId": "3d2b75ed-f6ab-46ad-ae03-a4390a7a8fa5"
      },
      "execution_count": 32,
      "outputs": [
        {
          "output_type": "execute_result",
          "data": {
            "text/plain": [
              "array([4, 6, 1, 9, 8, 0, 5, 2, 3, 7])"
            ]
          },
          "metadata": {},
          "execution_count": 32
        }
      ]
    },
    {
      "cell_type": "code",
      "source": [
        "np.random.randint(-3, 10) # randing(included, excluded)"
      ],
      "metadata": {
        "colab": {
          "base_uri": "https://localhost:8080/"
        },
        "id": "qUxyXhrL612e",
        "outputId": "dc4d9b46-b3d3-4626-ac0a-924402ec47ea"
      },
      "execution_count": 45,
      "outputs": [
        {
          "output_type": "execute_result",
          "data": {
            "text/plain": [
              "2"
            ]
          },
          "metadata": {},
          "execution_count": 45
        }
      ]
    },
    {
      "cell_type": "code",
      "source": [
        "np.random.rand(2, 4, 3) # accepts range random number in range [0, 1)"
      ],
      "metadata": {
        "colab": {
          "base_uri": "https://localhost:8080/"
        },
        "id": "Dsg51Okm7ODn",
        "outputId": "410053ea-a884-44b6-f040-44d9b5fd9c72"
      },
      "execution_count": 48,
      "outputs": [
        {
          "output_type": "execute_result",
          "data": {
            "text/plain": [
              "array([[[0.86781648, 0.58078306, 0.08249308],\n",
              "        [0.25084055, 0.11618906, 0.15180195],\n",
              "        [0.41594023, 0.77072675, 0.87546219],\n",
              "        [0.85706928, 0.57298459, 0.01495823]],\n",
              "\n",
              "       [[0.69784242, 0.28658426, 0.9546368 ],\n",
              "        [0.37817639, 0.34606556, 0.02401412],\n",
              "        [0.7634619 , 0.79937899, 0.6904492 ],\n",
              "        [0.41057157, 0.79648847, 0.85456698]]])"
            ]
          },
          "metadata": {},
          "execution_count": 48
        }
      ]
    },
    {
      "cell_type": "code",
      "source": [
        "ar = np.random.randn(10000) # "
      ],
      "metadata": {
        "id": "rpurgzy97g9J"
      },
      "execution_count": 54,
      "outputs": []
    },
    {
      "cell_type": "code",
      "source": [
        "import matplotlib.pyplot as plt\n",
        "\n",
        "plt.hist(ar, bins=100)\n",
        "plt.show()"
      ],
      "metadata": {
        "colab": {
          "base_uri": "https://localhost:8080/",
          "height": 265
        },
        "id": "MFxRmlxi7k8o",
        "outputId": "a41c5253-8c48-44d7-d35c-67d3dfca96b1"
      },
      "execution_count": 56,
      "outputs": [
        {
          "output_type": "display_data",
          "data": {
            "text/plain": [
              "<Figure size 432x288 with 1 Axes>"
            ],
            "image/png": "[encoded data removed]"
          },
          "metadata": {
            "needs_background": "light"
          }
        }
      ]
    },
    {
      "cell_type": "code",
      "source": [
        "ar = np.linspace(1, 30, 10)\n",
        "print(ar)\n",
        "print(ar.size)"
      ],
      "metadata": {
        "colab": {
          "base_uri": "https://localhost:8080/"
        },
        "id": "2JSnoXmN8dGS",
        "outputId": "80ceaa1b-3886-4af4-b388-d60f0a0fde9f"
      },
      "execution_count": 67,
      "outputs": [
        {
          "output_type": "stream",
          "name": "stdout",
          "text": [
            "[ 1.          4.22222222  7.44444444 10.66666667 13.88888889 17.11111111\n",
            " 20.33333333 23.55555556 26.77777778 30.        ]\n",
            "10\n"
          ]
        }
      ]
    },
    {
      "cell_type": "code",
      "source": [
        "print(ar[1]-ar[0])\n",
        "print(ar[3]-ar[2])\n",
        "print(ar[7]-ar[6])"
      ],
      "metadata": {
        "colab": {
          "base_uri": "https://localhost:8080/"
        },
        "id": "prT17ehb82kv",
        "outputId": "77172dc6-1e2b-4af5-c852-d2ca99e78fb1"
      },
      "execution_count": 68,
      "outputs": [
        {
          "output_type": "stream",
          "name": "stdout",
          "text": [
            "3.2222222222222223\n",
            "3.222222222222223\n",
            "3.2222222222222214\n"
          ]
        }
      ]
    },
    {
      "cell_type": "code",
      "source": [
        "print(ar)\n",
        "print(ar.astype('int8'))"
      ],
      "metadata": {
        "colab": {
          "base_uri": "https://localhost:8080/"
        },
        "id": "nRzojNUC9Z1X",
        "outputId": "4d36b6fd-c845-4f04-df63-f9dc79dc57da"
      },
      "execution_count": 69,
      "outputs": [
        {
          "output_type": "stream",
          "name": "stdout",
          "text": [
            "[ 1.          4.22222222  7.44444444 10.66666667 13.88888889 17.11111111\n",
            " 20.33333333 23.55555556 26.77777778 30.        ]\n",
            "[ 1  4  7 10 13 17 20 23 26 30]\n"
          ]
        }
      ]
    },
    {
      "cell_type": "code",
      "source": [
        "ar = np.arange(10)\n",
        "ar = np.random.permutation(ar)\n",
        "print(ar)"
      ],
      "metadata": {
        "colab": {
          "base_uri": "https://localhost:8080/"
        },
        "id": "pHMhxktX-Vf5",
        "outputId": "1b67b113-c0a9-4260-c124-a1aa66b369cb"
      },
      "execution_count": 71,
      "outputs": [
        {
          "output_type": "stream",
          "name": "stdout",
          "text": [
            "[2 4 9 8 3 0 6 5 1 7]\n"
          ]
        }
      ]
    },
    {
      "cell_type": "code",
      "source": [
        "print(ar < 5)\n",
        "print(np.where(ar < 5))"
      ],
      "metadata": {
        "colab": {
          "base_uri": "https://localhost:8080/"
        },
        "id": "6J1Imuxi-n4V",
        "outputId": "54a07a8f-929d-4bf9-d77f-1e2066e0e699"
      },
      "execution_count": 76,
      "outputs": [
        {
          "output_type": "stream",
          "name": "stdout",
          "text": [
            "[ True  True False False  True  True False False  True False]\n",
            "(array([0, 1, 4, 5, 8]),)\n"
          ]
        }
      ]
    },
    {
      "cell_type": "code",
      "source": [
        "np.where(ar < 5, 100, 200)"
      ],
      "metadata": {
        "colab": {
          "base_uri": "https://localhost:8080/"
        },
        "id": "CGW3dsOy-_DV",
        "outputId": "46ea9183-5186-45b0-8385-a47062f141e5"
      },
      "execution_count": 77,
      "outputs": [
        {
          "output_type": "execute_result",
          "data": {
            "text/plain": [
              "array([100, 100, 200, 200, 100, 100, 200, 200, 100, 200])"
            ]
          },
          "metadata": {},
          "execution_count": 77
        }
      ]
    },
    {
      "cell_type": "markdown",
      "source": [
        "# Universal Functions\n",
        "\n",
        "This are vectorized operation.\n",
        "\n",
        "Functions are very fast."
      ],
      "metadata": {
        "id": "aZBhotWr_yNT"
      }
    },
    {
      "cell_type": "code",
      "source": [
        "ar = np.arange(10)\n",
        "ar = np.random.permutation(ar)\n",
        "print(ar)"
      ],
      "metadata": {
        "colab": {
          "base_uri": "https://localhost:8080/"
        },
        "id": "c0HV5vz-ABDG",
        "outputId": "3c9dcfa0-72f3-4012-fe6a-b4663a5d5151"
      },
      "execution_count": 78,
      "outputs": [
        {
          "output_type": "stream",
          "name": "stdout",
          "text": [
            "[7 1 2 3 5 0 9 4 8 6]\n"
          ]
        }
      ]
    },
    {
      "cell_type": "code",
      "source": [
        "print(ar + 3)\n",
        "# print(np.add(ar, 3))\n",
        "print(ar-8)\n",
        "print(ar * 2)\n",
        "print(ar ** 2) # power\n",
        "print(ar / 4)\n",
        "print(ar // 4)"
      ],
      "metadata": {
        "colab": {
          "base_uri": "https://localhost:8080/"
        },
        "id": "Gk0EAckSAMmR",
        "outputId": "7d1672cf-3f46-4b3d-f5ca-616c362a6296"
      },
      "execution_count": 86,
      "outputs": [
        {
          "output_type": "stream",
          "name": "stdout",
          "text": [
            "[10  4  5  6  8  3 12  7 11  9]\n",
            "[-1 -7 -6 -5 -3 -8  1 -4  0 -2]\n",
            "[14  2  4  6 10  0 18  8 16 12]\n",
            "[1.75 0.25 0.5  0.75 1.25 0.   2.25 1.   2.   1.5 ]\n",
            "[1 0 0 0 1 0 2 1 2 1]\n"
          ]
        }
      ]
    },
    {
      "cell_type": "code",
      "source": [
        "print(ar < 4)\n",
        "print(ar > 4)\n",
        "print(ar <= 4)\n",
        "print(ar >= 4)\n"
      ],
      "metadata": {
        "colab": {
          "base_uri": "https://localhost:8080/"
        },
        "id": "vprLHztvAYa2",
        "outputId": "850eaeea-a501-4450-b097-3e0f01ca6a3b"
      },
      "execution_count": 87,
      "outputs": [
        {
          "output_type": "stream",
          "name": "stdout",
          "text": [
            "[False  True  True  True False  True False False False False]\n",
            "[ True False False False  True False  True False  True  True]\n",
            "[False  True  True  True False  True False  True False False]\n",
            "[ True False False False  True False  True  True  True  True]\n"
          ]
        }
      ]
    },
    {
      "cell_type": "code",
      "source": [
        "print(ar)\n",
        "\n",
        "print(np.all(ar < 7)) # true if all are true else false\n",
        "print(np.all(ar < 10))\n",
        "\n",
        "print(np.any(ar < 7)) # true if atleast 1 is true else false\n",
        "print(np.any(ar < -1))\n"
      ],
      "metadata": {
        "colab": {
          "base_uri": "https://localhost:8080/"
        },
        "id": "qF1RDcmDAuAV",
        "outputId": "6d52f7f2-5058-48cb-801c-6bc94a6df653"
      },
      "execution_count": 95,
      "outputs": [
        {
          "output_type": "stream",
          "name": "stdout",
          "text": [
            "[7 1 2 3 5 0 9 4 8 6]\n",
            "False\n",
            "True\n",
            "True\n",
            "False\n"
          ]
        }
      ]
    },
    {
      "cell_type": "code",
      "source": [
        "a = np.arange(10)\n",
        "\n",
        "a = np.random.permutation(a)\n",
        "b = np.random.permutation(a)\n",
        "\n",
        "print(a)\n",
        "print(b)"
      ],
      "metadata": {
        "colab": {
          "base_uri": "https://localhost:8080/"
        },
        "id": "cKz1tHhQBGLU",
        "outputId": "15850667-be41-4f14-eb00-ee33946aa056"
      },
      "execution_count": 98,
      "outputs": [
        {
          "output_type": "stream",
          "name": "stdout",
          "text": [
            "[3 6 9 7 5 8 2 1 4 0]\n",
            "[9 0 7 4 2 8 1 3 5 6]\n"
          ]
        }
      ]
    },
    {
      "cell_type": "code",
      "source": [
        "print(a+b) # same indexing add\n",
        "print(a-b)\n",
        "print(a*b)\n",
        "print(a/b)\n",
        "print(a < b)"
      ],
      "metadata": {
        "colab": {
          "base_uri": "https://localhost:8080/"
        },
        "id": "V0nYxyEiCIFC",
        "outputId": "b3d71f8f-b2bf-49e5-d620-1865bc3eae36"
      },
      "execution_count": 100,
      "outputs": [
        {
          "output_type": "stream",
          "name": "stdout",
          "text": [
            "[12  6 16 11  7 16  3  4  9  6]\n",
            "[-6  6  2  3  3  0  1 -2 -1 -6]\n",
            "[27  0 63 28 10 64  2  3 20  0]\n",
            "[0.33333333        inf 1.28571429 1.75       2.5        1.\n",
            " 2.         0.33333333 0.8        0.        ]\n",
            "[ True False False False False False False  True  True  True]\n"
          ]
        },
        {
          "output_type": "stream",
          "name": "stderr",
          "text": [
            "/usr/local/lib/python3.7/dist-packages/ipykernel_launcher.py:4: RuntimeWarning: divide by zero encountered in true_divide\n",
            "  after removing the cwd from sys.path.\n"
          ]
        }
      ]
    },
    {
      "cell_type": "markdown",
      "source": [
        "# Fancy Indexing"
      ],
      "metadata": {
        "id": "5fniSYb3CpOq"
      }
    },
    {
      "cell_type": "code",
      "source": [
        "a = np.arange(5)\n",
        "\n",
        "a = np.random.permutation(a)\n",
        "print(a)"
      ],
      "metadata": {
        "colab": {
          "base_uri": "https://localhost:8080/"
        },
        "id": "9c20S7-zCmzQ",
        "outputId": "9a334d06-a759-4441-fefb-d00fdd3f0fbc"
      },
      "execution_count": 124,
      "outputs": [
        {
          "output_type": "stream",
          "name": "stdout",
          "text": [
            "[3 0 1 4 2]\n"
          ]
        }
      ]
    },
    {
      "cell_type": "code",
      "source": [
        "a[ [3, 2, 4] ]"
      ],
      "metadata": {
        "colab": {
          "base_uri": "https://localhost:8080/"
        },
        "id": "5ETs3fmGCt85",
        "outputId": "b70e3fc3-937a-4590-da39-83c7840fe1b5"
      },
      "execution_count": 125,
      "outputs": [
        {
          "output_type": "execute_result",
          "data": {
            "text/plain": [
              "array([4, 1, 2])"
            ]
          },
          "metadata": {},
          "execution_count": 125
        }
      ]
    },
    {
      "cell_type": "code",
      "source": [
        "a[ [True, True, False, True, True] ]"
      ],
      "metadata": {
        "colab": {
          "base_uri": "https://localhost:8080/"
        },
        "id": "VsW9tst7DKWJ",
        "outputId": "2a3fe4af-e070-4c25-eadf-f68a5cbf3b3d"
      },
      "execution_count": 126,
      "outputs": [
        {
          "output_type": "execute_result",
          "data": {
            "text/plain": [
              "array([3, 0, 4, 2])"
            ]
          },
          "metadata": {},
          "execution_count": 126
        }
      ]
    },
    {
      "cell_type": "code",
      "source": [
        "a[a > 2]"
      ],
      "metadata": {
        "colab": {
          "base_uri": "https://localhost:8080/"
        },
        "id": "Saz8uJCjDaXd",
        "outputId": "ef81fc1c-a6a7-4e1b-c89f-41070c909042"
      },
      "execution_count": 131,
      "outputs": [
        {
          "output_type": "execute_result",
          "data": {
            "text/plain": [
              "array([3, 4])"
            ]
          },
          "metadata": {},
          "execution_count": 131
        }
      ]
    },
    {
      "cell_type": "code",
      "source": [
        "a = np.arange(10)\n",
        "\n",
        "a = np.random.permutation(a)\n",
        "print(a)"
      ],
      "metadata": {
        "colab": {
          "base_uri": "https://localhost:8080/"
        },
        "id": "97Zcr5hJE2Hr",
        "outputId": "63c144a2-434d-4205-f4dc-993c99f48047"
      },
      "execution_count": 132,
      "outputs": [
        {
          "output_type": "stream",
          "name": "stdout",
          "text": [
            "[3 6 1 0 9 7 5 4 2 8]\n"
          ]
        }
      ]
    },
    {
      "cell_type": "markdown",
      "source": [
        "find all elements in range [3, 8]\n",
        "\n",
        "divyansh\n",
        "```\n",
        "a2 = a[ a>=3 ]\n",
        "print(a2)\n",
        "a2 = a2[a2<=8]\n",
        "print(a2)\n",
        "```\n",
        "\n",
        "Dhairya\n",
        "```\n",
        "a[(np.where(a>=3, 1, 0) + np.where(a<=8, 1, 0)) == 2]\n",
        "```\n",
        "\n"
      ],
      "metadata": {
        "id": "fxpIO_XiE6O1"
      }
    },
    {
      "cell_type": "code",
      "source": [
        "a[ (a>=3) & (a<=8) ]\n",
        "\n",
        "# a[ ((a>=3) & (a<=8)) | (a%2==0) ]"
      ],
      "metadata": {
        "colab": {
          "base_uri": "https://localhost:8080/"
        },
        "id": "eUID8EuCE4iX",
        "outputId": "381353b6-93c9-42dd-8246-b969581a14e2"
      },
      "execution_count": 158,
      "outputs": [
        {
          "output_type": "execute_result",
          "data": {
            "text/plain": [
              "array([3, 6, 7, 5, 4, 8])"
            ]
          },
          "metadata": {},
          "execution_count": 158
        }
      ]
    },
    {
      "cell_type": "markdown",
      "source": [
        "# Math Functions"
      ],
      "metadata": {
        "id": "kVuy7F-tLELE"
      }
    },
    {
      "cell_type": "code",
      "source": [
        "# a = np.round(np.random.rand(10)*20)\n",
        "a = (np.random.rand(10)*20).astype('int8')\n",
        "print(a)"
      ],
      "metadata": {
        "colab": {
          "base_uri": "https://localhost:8080/"
        },
        "id": "Vs2j_41XJCLj",
        "outputId": "2853a249-b5d9-4323-eefb-f826d7c9a0a0"
      },
      "execution_count": 182,
      "outputs": [
        {
          "output_type": "stream",
          "name": "stdout",
          "text": [
            "[17 11 14 19 13  1  6 10 18 11]\n"
          ]
        }
      ]
    },
    {
      "cell_type": "code",
      "source": [
        "print(a.sum())\n",
        "print(a.min())\n",
        "print(a.max())"
      ],
      "metadata": {
        "colab": {
          "base_uri": "https://localhost:8080/"
        },
        "id": "oWFST4VELVwM",
        "outputId": "f5e966c6-01eb-475a-dcc0-aa3354283677"
      },
      "execution_count": 183,
      "outputs": [
        {
          "output_type": "stream",
          "name": "stdout",
          "text": [
            "120\n",
            "1\n",
            "19\n"
          ]
        }
      ]
    },
    {
      "cell_type": "code",
      "source": [
        "print('Min value index', a.argmin())\n",
        "print('Max value index', a.argmax())"
      ],
      "metadata": {
        "colab": {
          "base_uri": "https://localhost:8080/"
        },
        "id": "5z6NqyJSLrik",
        "outputId": "0b8c43e8-dab7-4e93-ee83-5617fa97da77"
      },
      "execution_count": 184,
      "outputs": [
        {
          "output_type": "stream",
          "name": "stdout",
          "text": [
            "Min value index 5\n",
            "Max value index 3\n"
          ]
        }
      ]
    },
    {
      "cell_type": "code",
      "source": [
        "print(a.mean())\n",
        "print(a.var())"
      ],
      "metadata": {
        "colab": {
          "base_uri": "https://localhost:8080/"
        },
        "id": "a7TcbpIWNyoP",
        "outputId": "2a9f0048-bd01-4b06-9d50-167c081fdef8"
      },
      "execution_count": 198,
      "outputs": [
        {
          "output_type": "stream",
          "name": "stdout",
          "text": [
            "12.0\n",
            "27.8\n"
          ]
        }
      ]
    },
    {
      "cell_type": "code",
      "source": [
        "a = np.arange(362*2) # degree\n",
        "\n",
        "b = np.sin(np.deg2rad(a)) # np.sin(radian)\n",
        "\n",
        "plt.plot(a, b)\n",
        "plt.show()"
      ],
      "metadata": {
        "colab": {
          "base_uri": "https://localhost:8080/",
          "height": 265
        },
        "id": "QzcF73rONyj3",
        "outputId": "1b0a247f-64b0-4fd2-b6c4-9aaa00d2a501"
      },
      "execution_count": 206,
      "outputs": [
        {
          "output_type": "display_data",
          "data": {
            "text/plain": [
              "<Figure size 432x288 with 1 Axes>"
            ],
            "image/png": "[encoded data removed]"
          },
          "metadata": {
            "needs_background": "light"
          }
        }
      ]
    },
    {
      "cell_type": "markdown",
      "source": [
        "# Split Concatinate"
      ],
      "metadata": {
        "id": "L1KrkrccP4QG"
      }
    },
    {
      "cell_type": "code",
      "source": [
        "a = np.array([1,2,3,4])\n",
        "b = np.array([5,6,7])\n",
        "\n",
        "np.concatenate([a, b, a])"
      ],
      "metadata": {
        "colab": {
          "base_uri": "https://localhost:8080/"
        },
        "id": "aox5QQlGNyfp",
        "outputId": "75b9c0d0-7436-44b6-9750-917b4cb7330f"
      },
      "execution_count": 213,
      "outputs": [
        {
          "output_type": "execute_result",
          "data": {
            "text/plain": [
              "array([1, 2, 3, 4, 5, 6, 7, 1, 2, 3, 4])"
            ]
          },
          "metadata": {},
          "execution_count": 213
        }
      ]
    },
    {
      "cell_type": "code",
      "source": [
        "a = np.array([\n",
        "              [1,2,3],\n",
        "              [4,5,6],\n",
        "])\n",
        "\n",
        "b = np.array(\n",
        "              [7,8,9],\n",
        ")\n",
        "\n",
        "print(f'a.ndim = {a.ndim}')\n",
        "print(f'b.ndim = {b.ndim}')\n",
        "\n",
        "\n",
        "# np.concatenate([a, b, a]) # when a and b are of different dimension concatenate dont work\n",
        "np.vstack([a, b, b, a]) # axis = 1"
      ],
      "metadata": {
        "colab": {
          "base_uri": "https://localhost:8080/"
        },
        "id": "7VopIgmgNybe",
        "outputId": "df84cc19-3c47-4297-f7f1-4990373d3978"
      },
      "execution_count": 218,
      "outputs": [
        {
          "output_type": "stream",
          "name": "stdout",
          "text": [
            "a.ndim = 2\n",
            "b.ndim = 1\n"
          ]
        },
        {
          "output_type": "execute_result",
          "data": {
            "text/plain": [
              "array([[1, 2, 3],\n",
              "       [4, 5, 6],\n",
              "       [7, 8, 9],\n",
              "       [7, 8, 9],\n",
              "       [1, 2, 3],\n",
              "       [4, 5, 6]])"
            ]
          },
          "metadata": {},
          "execution_count": 218
        }
      ]
    },
    {
      "cell_type": "code",
      "source": [
        "a = np.array([\n",
        "              [1,2,3],\n",
        "              [4,5,6],\n",
        "])\n",
        "\n",
        "b = a.copy() + 100\n",
        "print(a)\n",
        "print(b)\n",
        "\n",
        "np.hstack([a, b, b, a]) # axis=0"
      ],
      "metadata": {
        "colab": {
          "base_uri": "https://localhost:8080/"
        },
        "id": "SPXCMn0mNyXc",
        "outputId": "22749975-5a8b-4d5a-e459-218e313daef2"
      },
      "execution_count": 223,
      "outputs": [
        {
          "output_type": "stream",
          "name": "stdout",
          "text": [
            "[[1 2 3]\n",
            " [4 5 6]]\n",
            "[[101 102 103]\n",
            " [104 105 106]]\n"
          ]
        },
        {
          "output_type": "execute_result",
          "data": {
            "text/plain": [
              "array([[  1,   2,   3, 101, 102, 103, 101, 102, 103,   1,   2,   3],\n",
              "       [  4,   5,   6, 104, 105, 106, 104, 105, 106,   4,   5,   6]])"
            ]
          },
          "metadata": {},
          "execution_count": 223
        }
      ]
    },
    {
      "cell_type": "code",
      "source": [
        "a = np.arange(10)\n",
        "\n",
        "x, y, z = np.split(a, [3, 7])\n",
        "\n",
        "print(x, y, z)"
      ],
      "metadata": {
        "colab": {
          "base_uri": "https://localhost:8080/"
        },
        "id": "dulrCkOPRdfZ",
        "outputId": "d953e533-8621-4deb-abe9-329065f47c50"
      },
      "execution_count": 227,
      "outputs": [
        {
          "output_type": "stream",
          "name": "stdout",
          "text": [
            "[0 1 2] [3 4 5 6] [7 8 9]\n"
          ]
        }
      ]
    },
    {
      "cell_type": "code",
      "source": [
        "a = np.arange(12).reshape(3,4)\n",
        "\n",
        "print(a)\n",
        "print()\n",
        "\n",
        "x, y = np.split(a, [2], axis=0)\n",
        "print(x)\n",
        "print(y)"
      ],
      "metadata": {
        "colab": {
          "base_uri": "https://localhost:8080/"
        },
        "id": "UTTzhI8wRda2",
        "outputId": "a0dd4866-5f9c-4a4c-892d-04140e92d792"
      },
      "execution_count": 231,
      "outputs": [
        {
          "output_type": "stream",
          "name": "stdout",
          "text": [
            "[[ 0  1  2  3]\n",
            " [ 4  5  6  7]\n",
            " [ 8  9 10 11]]\n",
            "\n",
            "[[0 1 2 3]\n",
            " [4 5 6 7]]\n",
            "[[ 8  9 10 11]]\n"
          ]
        }
      ]
    },
    {
      "cell_type": "code",
      "source": [
        "a = np.arange(12).reshape(3,4)\n",
        "\n",
        "print(a)\n",
        "print()\n",
        "\n",
        "x, y = np.split(a, [2], axis=1)\n",
        "print(x)\n",
        "print(y)"
      ],
      "metadata": {
        "colab": {
          "base_uri": "https://localhost:8080/"
        },
        "id": "csPzotbiRdXE",
        "outputId": "9f24faf3-d181-4ff3-f7f5-6ee5650c1676"
      },
      "execution_count": 233,
      "outputs": [
        {
          "output_type": "stream",
          "name": "stdout",
          "text": [
            "[[ 0  1  2  3]\n",
            " [ 4  5  6  7]\n",
            " [ 8  9 10 11]]\n",
            "\n",
            "[[0 1]\n",
            " [4 5]\n",
            " [8 9]]\n",
            "[[ 2  3]\n",
            " [ 6  7]\n",
            " [10 11]]\n"
          ]
        }
      ]
    },
    {
      "cell_type": "code",
      "source": [
        "a = np.ones((3,4))\n",
        "print(a)\n",
        "print()\n",
        "\n",
        "print(a.sum())\n",
        "print(a.sum(axis=0)``)"
      ],
      "metadata": {
        "colab": {
          "base_uri": "https://localhost:8080/"
        },
        "id": "Fwm-xVjJTcnu",
        "outputId": "9df86fe7-d57f-49dc-873b-e6f33c1a85cb"
      },
      "execution_count": 237,
      "outputs": [
        {
          "output_type": "stream",
          "name": "stdout",
          "text": [
            "[[1. 1. 1. 1.]\n",
            " [1. 1. 1. 1.]\n",
            " [1. 1. 1. 1.]]\n",
            "\n",
            "12.0\n",
            "[3. 3. 3. 3.]\n"
          ]
        }
      ]
    },
    {
      "cell_type": "markdown",
      "source": [
        "# higher order functioning\n",
        "\n",
        "map list"
      ],
      "metadata": {
        "id": "xEuJgbRvNqV6"
      }
    },
    {
      "cell_type": "code",
      "source": [
        "def last_alphabets(s):\n",
        "    print(s)\n",
        "    return s[-3:]\n",
        "\n",
        "a = np.array([ 'abcd', 'efgh', 'ijkl' ])\n",
        "\n",
        "list(map(last_alphabets, a))"
      ],
      "metadata": {
        "colab": {
          "base_uri": "https://localhost:8080/"
        },
        "id": "xfM2I4HeMD9w",
        "outputId": "6e55c18d-6287-4249-95f1-74d3eafa0a37"
      },
      "execution_count": 181,
      "outputs": [
        {
          "output_type": "stream",
          "name": "stdout",
          "text": [
            "abcd\n",
            "efgh\n",
            "ijkl\n"
          ]
        },
        {
          "output_type": "execute_result",
          "data": {
            "text/plain": [
              "['bcd', 'fgh', 'jkl']"
            ]
          },
          "metadata": {},
          "execution_count": 181
        }
      ]
    },
    {
      "cell_type": "code",
      "source": [
        "l= []\n",
        "\n",
        "for s in a:\n",
        "    l.append(last_alphabets(s))\n",
        "\n",
        "l"
      ],
      "metadata": {
        "colab": {
          "base_uri": "https://localhost:8080/"
        },
        "id": "qNIIpvhRNCOo",
        "outputId": "74e751e6-4401-41e2-95dd-d813c2865e76"
      },
      "execution_count": 179,
      "outputs": [
        {
          "output_type": "stream",
          "name": "stdout",
          "text": [
            "abcd\n",
            "efgh\n",
            "ijkl\n"
          ]
        },
        {
          "output_type": "execute_result",
          "data": {
            "text/plain": [
              "['a', 'a', 'a']"
            ]
          },
          "metadata": {},
          "execution_count": 179
        }
      ]
    }
  ]
}